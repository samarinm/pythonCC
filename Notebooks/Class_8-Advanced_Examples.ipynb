{
 "cells": [
  {
   "cell_type": "markdown",
   "metadata": {},
   "source": [
    "# 8. Advanced Examples\n",
    "\n",
    "In the last section we look at some advanced examples. \n",
    "Here, the idea is that you see how a full script might \n",
    "look like and to get insights what kind of analysis\n",
    "tools / libraries are available.\n",
    "\n",
    "In the follwing we will have a look at two examples, which use the\n",
    "libraries \n",
    "* ```scipy```: [SciPy](https://docs.scipy.org/doc/scipy/reference/tutorial/general.html) \n",
    "contains modules for scientific computation and builds upon NumPy.\n",
    "* ```sklearn```: The [scikit-learn library](https://scikit-learn.org/) \n",
    "offers a lot efficient implementations for Machine Learning. \n",
    "\n",
    "Some other interesting libraries you might want to check out:\n",
    "\n",
    "* ```rpy2``` for using R in Python: [porting code from R to Python](https://rpy2.readthedocs.io/en/latest/porting-to-rpy2.html)\n",
    "* ```wx``` for programming Graphical User Interfaces: \n",
    "[wxPython overview](https://www.wxpython.org/pages/overview/)\n",
    "* ```arcpy``` is a geoprocessing tool for combining Python with ArcGIS:\n",
    "[ArcPy quick tour](https://desktop.arcgis.com/en/arcmap/10.3/analyze/arcpy/a-quick-tour-of-arcpy.htm)\n",
    "* ```sqlite3``` for creating and working with SQLite databases: \n",
    "See an example of how to [create a table](https://www.sqlitetutorial.net/sqlite-python/create-tables/)\n",
    "* ```pysam``` for reading and manipulating biological sequence data: \n",
    "[working with BAM and SAM formatted files](https://pysam.readthedocs.io/en/latest/api.html)\n",
    "\n",
    "***\n",
    "# Hypothesis Testing\n",
    "\n",
    "Statistical hypothesis testing plays a crucial role in various disciplines. \n",
    "Python and in particular SciPy offers a great variety of already implemented\n",
    "statistical tools. Let's have a look how you can perform a __one sample t-test__."
   ]
  },
  {
   "cell_type": "code",
   "execution_count": 1,
   "metadata": {
    "ExecuteTime": {
     "end_time": "2025-09-30T10:03:55.704901Z",
     "start_time": "2025-09-30T10:03:55.259836Z"
    },
    "tags": []
   },
   "outputs": [],
   "source": [
    "from scipy.stats import ttest_1samp"
   ]
  },
  {
   "cell_type": "code",
   "execution_count": 2,
   "metadata": {
    "ExecuteTime": {
     "end_time": "2025-09-30T10:03:55.951226Z",
     "start_time": "2025-09-30T10:03:55.720423Z"
    },
    "tags": []
   },
   "outputs": [],
   "source": [
    "import numpy as np\n",
    "import matplotlib.pyplot as plt"
   ]
  },
  {
   "cell_type": "markdown",
   "metadata": {},
   "source": [
    "First, we create some exemplary data and sample __uniformly__ \n",
    "300 random age values from 0 to 80."
   ]
  },
  {
   "cell_type": "code",
   "execution_count": 3,
   "metadata": {
    "ExecuteTime": {
     "end_time": "2025-09-30T10:03:55.959883Z",
     "start_time": "2025-09-30T10:03:55.957917Z"
    },
    "tags": []
   },
   "outputs": [],
   "source": [
    "age = np.random.randint(low=0, high=80, size=300)"
   ]
  },
  {
   "cell_type": "markdown",
   "metadata": {},
   "source": [
    "Or, we could sample from a __normal distribution__ with \n",
    "$\\mu=35$ (loc) and $\\sigma=10$ (sacle) \n",
    "300 random age values."
   ]
  },
  {
   "cell_type": "code",
   "execution_count": 4,
   "metadata": {
    "ExecuteTime": {
     "end_time": "2025-09-30T10:03:55.968950Z",
     "start_time": "2025-09-30T10:03:55.967087Z"
    },
    "tags": []
   },
   "outputs": [],
   "source": [
    "age = np.random.normal(loc=35.0, scale=10.0, size=300)"
   ]
  },
  {
   "cell_type": "markdown",
   "metadata": {},
   "source": [
    "We inspect the data with an histrogram where the age values are aggregated in 20 bins."
   ]
  },
  {
   "cell_type": "code",
   "execution_count": 5,
   "metadata": {
    "ExecuteTime": {
     "end_time": "2025-09-30T10:03:58.111364Z",
     "start_time": "2025-09-30T10:03:58.014109Z"
    },
    "tags": []
   },
   "outputs": [
    {
     "data": {
      "image/png": "[encoded data removed]",
      "text/plain": [
       "<Figure size 640x480 with 1 Axes>"
      ]
     },
     "metadata": {},
     "output_type": "display_data"
    }
   ],
   "source": [
    "plt.hist(age, bins=20)\n",
    "plt.xlabel('Age')\n",
    "plt.ylabel('Occurence')\n",
    "plt.axvline(x=35, color='red', linestyle='--')\n",
    "plt.show()"
   ]
  },
  {
   "cell_type": "markdown",
   "metadata": {},
   "source": [
    "Let us assume that our __null hypothesis__ is that the mean\n",
    "population age is 35, represented by the dashed red line\n",
    "in the plot. The age mean of our data is"
   ]
  },
  {
   "cell_type": "code",
   "execution_count": 6,
   "metadata": {
    "ExecuteTime": {
     "end_time": "2025-09-30T10:03:59.119829Z",
     "start_time": "2025-09-30T10:03:59.117161Z"
    },
    "tags": []
   },
   "outputs": [
    {
     "name": "stdout",
     "output_type": "stream",
     "text": [
      "Data age mean: 35.05954081569164 \n",
      "\n"
     ]
    }
   ],
   "source": [
    "# age_mean = np.mean(age)\n",
    "\n",
    "age_mean = age.mean()\n",
    "\n",
    "print('Data age mean:', age_mean, '\\n')"
   ]
  },
  {
   "cell_type": "markdown",
   "metadata": {},
   "source": [
    "We now test the null hypothesis with a one-sample t-test."
   ]
  },
  {
   "cell_type": "code",
   "execution_count": 7,
   "metadata": {
    "ExecuteTime": {
     "end_time": "2025-09-30T10:03:59.949835Z",
     "start_time": "2025-09-30T10:03:59.946962Z"
    },
    "tags": []
   },
   "outputs": [
    {
     "name": "stdout",
     "output_type": "stream",
     "text": [
      "p-value: 0.9142207141187986 \n",
      "\n",
      "We accept the null hypothesis\n"
     ]
    }
   ],
   "source": [
    "tstat, pval = ttest_1samp(age, popmean=35)\n",
    "\n",
    "print(\"p-value:\", pval, '\\n')\n",
    "\n",
    "if pval < 0.05:    \n",
    "    print(\"We reject the null hypothesis\")\n",
    "else:\n",
    "    print(\"We accept the null hypothesis\")"
   ]
  },
  {
   "cell_type": "markdown",
   "metadata": {},
   "source": [
    "***\n",
    "# Classification with Random Forests\n",
    "\n",
    "In the next example, we will try to classify premium red wine from their \n",
    "measured properties (features). Random Forests are very powerful machine\n",
    "learning methods which build on decision trees. A decision tree in our \n",
    "application would look something like this:\n",
    "\n",
    "<center><img src=\"images/example_tree.png\" alt=\"Persons Example\" width=\"400\"/></center>\n",
    "\n",
    "Random Forests construct a multitude of such decision trees. The individual \n",
    "decision trees provide a classification result and by majority voting \n",
    "the final classification is obtained.\n",
    "\n",
    "If you want to see a good example of what a \"real\" class might \n",
    "look like check out the [base class for random forests](https://github.com/scikit-learn/scikit-learn/blob/b194674c4/sklearn/ensemble/_forest.py#L172)."
   ]
  },
  {
   "cell_type": "code",
   "execution_count": 11,
   "metadata": {
    "tags": []
   },
   "outputs": [],
   "source": [
    "from sklearn.ensemble import RandomForestClassifier\n",
    "from sklearn.model_selection import train_test_split"
   ]
  },
  {
   "cell_type": "markdown",
   "metadata": {},
   "source": [
    "This is what we had before:"
   ]
  },
  {
   "cell_type": "code",
   "execution_count": 19,
   "metadata": {
    "tags": []
   },
   "outputs": [
    {
     "data": {
      "image/png": "[encoded data removed]",
      "text/plain": [
       "<Figure size 640x480 with 1 Axes>"
      ]
     },
     "metadata": {},
     "output_type": "display_data"
    },
    {
     "data": {
      "text/html": [
       "<div>\n",
       "<style scoped>\n",
       "    .dataframe tbody tr th:only-of-type {\n",
       "        vertical-align: middle;\n",
       "    }\n",
       "\n",
       "    .dataframe tbody tr th {\n",
       "        vertical-align: top;\n",
       "    }\n",
       "\n",
       "    .dataframe thead th {\n",
       "        text-align: right;\n",
       "    }\n",
       "</style>\n",
       "<table border=\"1\" class=\"dataframe\">\n",
       "  <thead>\n",
       "    <tr style=\"text-align: right;\">\n",
       "      <th></th>\n",
       "      <th>fixed acidity</th>\n",
       "      <th>volatile acidity</th>\n",
       "      <th>citric acid</th>\n",
       "      <th>residual sugar</th>\n",
       "      <th>chlorides</th>\n",
       "      <th>free sulfur dioxide</th>\n",
       "      <th>total sulfur dioxide</th>\n",
       "      <th>density</th>\n",
       "      <th>pH</th>\n",
       "      <th>sulphates</th>\n",
       "      <th>alcohol</th>\n",
       "      <th>quality</th>\n",
       "      <th>premium</th>\n",
       "    </tr>\n",
       "  </thead>\n",
       "  <tbody>\n",
       "    <tr>\n",
       "      <th>0</th>\n",
       "      <td>7.4</td>\n",
       "      <td>0.70</td>\n",
       "      <td>0.00</td>\n",
       "      <td>1.9</td>\n",
       "      <td>0.076</td>\n",
       "      <td>11.0</td>\n",
       "      <td>34.0</td>\n",
       "      <td>0.9978</td>\n",
       "      <td>3.51</td>\n",
       "      <td>0.56</td>\n",
       "      <td>9.4</td>\n",
       "      <td>5</td>\n",
       "      <td>False</td>\n",
       "    </tr>\n",
       "    <tr>\n",
       "      <th>1</th>\n",
       "      <td>7.8</td>\n",
       "      <td>0.88</td>\n",
       "      <td>0.00</td>\n",
       "      <td>2.6</td>\n",
       "      <td>0.098</td>\n",
       "      <td>25.0</td>\n",
       "      <td>67.0</td>\n",
       "      <td>0.9968</td>\n",
       "      <td>3.20</td>\n",
       "      <td>0.68</td>\n",
       "      <td>9.8</td>\n",
       "      <td>5</td>\n",
       "      <td>False</td>\n",
       "    </tr>\n",
       "    <tr>\n",
       "      <th>2</th>\n",
       "      <td>7.8</td>\n",
       "      <td>0.76</td>\n",
       "      <td>0.04</td>\n",
       "      <td>2.3</td>\n",
       "      <td>0.092</td>\n",
       "      <td>15.0</td>\n",
       "      <td>54.0</td>\n",
       "      <td>0.9970</td>\n",
       "      <td>3.26</td>\n",
       "      <td>0.65</td>\n",
       "      <td>9.8</td>\n",
       "      <td>5</td>\n",
       "      <td>False</td>\n",
       "    </tr>\n",
       "    <tr>\n",
       "      <th>3</th>\n",
       "      <td>11.2</td>\n",
       "      <td>0.28</td>\n",
       "      <td>0.56</td>\n",
       "      <td>1.9</td>\n",
       "      <td>0.075</td>\n",
       "      <td>17.0</td>\n",
       "      <td>60.0</td>\n",
       "      <td>0.9980</td>\n",
       "      <td>3.16</td>\n",
       "      <td>0.58</td>\n",
       "      <td>9.8</td>\n",
       "      <td>6</td>\n",
       "      <td>True</td>\n",
       "    </tr>\n",
       "    <tr>\n",
       "      <th>4</th>\n",
       "      <td>7.4</td>\n",
       "      <td>0.70</td>\n",
       "      <td>0.00</td>\n",
       "      <td>1.9</td>\n",
       "      <td>0.076</td>\n",
       "      <td>11.0</td>\n",
       "      <td>34.0</td>\n",
       "      <td>0.9978</td>\n",
       "      <td>3.51</td>\n",
       "      <td>0.56</td>\n",
       "      <td>9.4</td>\n",
       "      <td>5</td>\n",
       "      <td>False</td>\n",
       "    </tr>\n",
       "  </tbody>\n",
       "</table>\n",
       "</div>"
      ],
      "text/plain": [
       "   fixed acidity  volatile acidity  citric acid  residual sugar  chlorides  \\\n",
       "0            7.4              0.70         0.00             1.9      0.076   \n",
       "1            7.8              0.88         0.00             2.6      0.098   \n",
       "2            7.8              0.76         0.04             2.3      0.092   \n",
       "3           11.2              0.28         0.56             1.9      0.075   \n",
       "4            7.4              0.70         0.00             1.9      0.076   \n",
       "\n",
       "   free sulfur dioxide  total sulfur dioxide  density    pH  sulphates  \\\n",
       "0                 11.0                  34.0   0.9978  3.51       0.56   \n",
       "1                 25.0                  67.0   0.9968  3.20       0.68   \n",
       "2                 15.0                  54.0   0.9970  3.26       0.65   \n",
       "3                 17.0                  60.0   0.9980  3.16       0.58   \n",
       "4                 11.0                  34.0   0.9978  3.51       0.56   \n",
       "\n",
       "   alcohol  quality  premium  \n",
       "0      9.4        5    False  \n",
       "1      9.8        5    False  \n",
       "2      9.8        5    False  \n",
       "3      9.8        6     True  \n",
       "4      9.4        5    False  "
      ]
     },
     "execution_count": 19,
     "metadata": {},
     "output_type": "execute_result"
    }
   ],
   "source": [
    "import pandas as pd\n",
    "import matplotlib.pyplot as plt\n",
    "\n",
    "wine_data = pd.read_csv('data/winequality-red.csv', sep=';')\n",
    "\n",
    "wine_data['premium'] = wine_data['quality'] > 5\n",
    "# wine_data['premium'] = wine_data['quality'] > 6\n",
    "\n",
    "quality_counts = wine_data['quality'].value_counts()\n",
    "\n",
    "colours = ['green','red','red','green','red','green'] # for > 5\n",
    "# colours = ['green','green','red','green','red','green'] # for > 6\n",
    "\n",
    "plt.bar(quality_counts.index, quality_counts, color=colours)\n",
    "plt.xlabel('Quality assessment')\n",
    "plt.ylabel('Amount of different wines')\n",
    "plt.show()\n",
    "\n",
    "wine_data.head(5)"
   ]
  },
  {
   "cell_type": "markdown",
   "metadata": {},
   "source": [
    "This is new:"
   ]
  },
  {
   "cell_type": "code",
   "execution_count": 20,
   "metadata": {
    "tags": []
   },
   "outputs": [
    {
     "name": "stdout",
     "output_type": "stream",
     "text": [
      "Shape of wine_features:\t(1599, 11)\n",
      "Shape of target:\t(1599,)\n",
      "\n"
     ]
    }
   ],
   "source": [
    "target = wine_data['premium'].astype(int)\n",
    "wine_features = wine_data.drop(['quality','premium'], axis=1)\n",
    "\n",
    "print(\"Shape of wine_features:\\t{}\\nShape of target:\\t{}\\n\"\n",
    "      .format(wine_features.shape, target.shape)\n",
    "     )"
   ]
  },
  {
   "cell_type": "code",
   "execution_count": 21,
   "metadata": {
    "tags": []
   },
   "outputs": [
    {
     "data": {
      "text/plain": [
       "0    0\n",
       "1    0\n",
       "2    0\n",
       "3    1\n",
       "4    0\n",
       "Name: premium, dtype: int64"
      ]
     },
     "execution_count": 21,
     "metadata": {},
     "output_type": "execute_result"
    }
   ],
   "source": [
    "target.head(5)"
   ]
  },
  {
   "cell_type": "markdown",
   "metadata": {},
   "source": [
    "#### The __Goal__\n",
    "is to learn a classifier which predicts whether a wine is a premium /\n",
    "non-premium wine on the basis of the measured wine features.\n",
    "\n",
    "Select (randomly) a set on which the Random Forest classifier is \n",
    "calibrated / trained on and a test set on which the performance\n",
    "is assessed. We consider a test set size of 30% of the original data\n",
    "set."
   ]
  },
  {
   "cell_type": "code",
   "execution_count": 22,
   "metadata": {
    "tags": []
   },
   "outputs": [
    {
     "name": "stdout",
     "output_type": "stream",
     "text": [
      "After splitting into train and test sets:\n",
      "\n",
      "Shape of feat_train:\t(1119, 11)\n",
      "Shape of target_train:\t(1119,)\n",
      "Shape of feat_test:\t(480, 11)\n",
      "Shape of target_test:\t(480,)\n"
     ]
    }
   ],
   "source": [
    "feat_train, feat_test, target_train, target_test = train_test_split(\n",
    "    wine_features, target, test_size = 0.3)\n",
    "\n",
    "print(\"After splitting into train and test sets:\\n\\n\"\n",
    "      \"Shape of feat_train:\\t{}\\nShape of target_train:\\t{}\\n\"\n",
    "      \"Shape of feat_test:\\t{}\\nShape of target_test:\\t{}\"\n",
    "      .format(feat_train.shape, target_train.shape, feat_test.shape, \n",
    "              target_test.shape)\n",
    "     )"
   ]
  },
  {
   "cell_type": "code",
   "execution_count": 33,
   "metadata": {
    "tags": []
   },
   "outputs": [
    {
     "data": {
      "text/html": [
       "<style>#sk-container-id-6 {color: black;background-color: white;}#sk-container-id-6 pre{padding: 0;}#sk-container-id-6 div.sk-toggleable {background-color: white;}#sk-container-id-6 label.sk-toggleable__label {cursor: pointer;display: block;width: 100%;margin-bottom: 0;padding: 0.3em;box-sizing: border-box;text-align: center;}#sk-container-id-6 label.sk-toggleable__label-arrow:before {content: \"▸\";float: left;margin-right: 0.25em;color: #696969;}#sk-container-id-6 label.sk-toggleable__label-arrow:hover:before {color: black;}#sk-container-id-6 div.sk-estimator:hover label.sk-toggleable__label-arrow:before {color: black;}#sk-container-id-6 div.sk-toggleable__content {max-height: 0;max-width: 0;overflow: hidden;text-align: left;background-color: #f0f8ff;}#sk-container-id-6 div.sk-toggleable__content pre {margin: 0.2em;color: black;border-radius: 0.25em;background-color: #f0f8ff;}#sk-container-id-6 input.sk-toggleable__control:checked~div.sk-toggleable__content {max-height: 200px;max-width: 100%;overflow: auto;}#sk-container-id-6 input.sk-toggleable__control:checked~label.sk-toggleable__label-arrow:before {content: \"▾\";}#sk-container-id-6 div.sk-estimator input.sk-toggleable__control:checked~label.sk-toggleable__label {background-color: #d4ebff;}#sk-container-id-6 div.sk-label input.sk-toggleable__control:checked~label.sk-toggleable__label {background-color: #d4ebff;}#sk-container-id-6 input.sk-hidden--visually {border: 0;clip: rect(1px 1px 1px 1px);clip: rect(1px, 1px, 1px, 1px);height: 1px;margin: -1px;overflow: hidden;padding: 0;position: absolute;width: 1px;}#sk-container-id-6 div.sk-estimator {font-family: monospace;background-color: #f0f8ff;border: 1px dotted black;border-radius: 0.25em;box-sizing: border-box;margin-bottom: 0.5em;}#sk-container-id-6 div.sk-estimator:hover {background-color: #d4ebff;}#sk-container-id-6 div.sk-parallel-item::after {content: \"\";width: 100%;border-bottom: 1px solid gray;flex-grow: 1;}#sk-container-id-6 div.sk-label:hover label.sk-toggleable__label {background-color: #d4ebff;}#sk-container-id-6 div.sk-serial::before {content: \"\";position: absolute;border-left: 1px solid gray;box-sizing: border-box;top: 0;bottom: 0;left: 50%;z-index: 0;}#sk-container-id-6 div.sk-serial {display: flex;flex-direction: column;align-items: center;background-color: white;padding-right: 0.2em;padding-left: 0.2em;position: relative;}#sk-container-id-6 div.sk-item {position: relative;z-index: 1;}#sk-container-id-6 div.sk-parallel {display: flex;align-items: stretch;justify-content: center;background-color: white;position: relative;}#sk-container-id-6 div.sk-item::before, #sk-container-id-6 div.sk-parallel-item::before {content: \"\";position: absolute;border-left: 1px solid gray;box-sizing: border-box;top: 0;bottom: 0;left: 50%;z-index: -1;}#sk-container-id-6 div.sk-parallel-item {display: flex;flex-direction: column;z-index: 1;position: relative;background-color: white;}#sk-container-id-6 div.sk-parallel-item:first-child::after {align-self: flex-end;width: 50%;}#sk-container-id-6 div.sk-parallel-item:last-child::after {align-self: flex-start;width: 50%;}#sk-container-id-6 div.sk-parallel-item:only-child::after {width: 0;}#sk-container-id-6 div.sk-dashed-wrapped {border: 1px dashed gray;margin: 0 0.4em 0.5em 0.4em;box-sizing: border-box;padding-bottom: 0.4em;background-color: white;}#sk-container-id-6 div.sk-label label {font-family: monospace;font-weight: bold;display: inline-block;line-height: 1.2em;}#sk-container-id-6 div.sk-label-container {text-align: center;}#sk-container-id-6 div.sk-container {/* jupyter's `normalize.less` sets `[hidden] { display: none; }` but bootstrap.min.css set `[hidden] { display: none !important; }` so we also need the `!important` here to be able to override the default hidden behavior on the sphinx rendered scikit-learn.org. See: https://github.com/scikit-learn/scikit-learn/issues/21755 */display: inline-block !important;position: relative;}#sk-container-id-6 div.sk-text-repr-fallback {display: none;}</style><div id=\"sk-container-id-6\" class=\"sk-top-container\"><div class=\"sk-text-repr-fallback\"><pre>RandomForestClassifier(max_depth=8)</pre><b>In a Jupyter environment, please rerun this cell to show the HTML representation or trust the notebook. <br />On GitHub, the HTML representation is unable to render, please try loading this page with nbviewer.org.</b></div><div class=\"sk-container\" hidden><div class=\"sk-item\"><div class=\"sk-estimator sk-toggleable\"><input class=\"sk-toggleable__control sk-hidden--visually\" id=\"sk-estimator-id-6\" type=\"checkbox\" checked><label for=\"sk-estimator-id-6\" class=\"sk-toggleable__label sk-toggleable__label-arrow\">RandomForestClassifier</label><div class=\"sk-toggleable__content\"><pre>RandomForestClassifier(max_depth=8)</pre></div></div></div></div></div>"
      ],
      "text/plain": [
       "RandomForestClassifier(max_depth=8)"
      ]
     },
     "execution_count": 33,
     "metadata": {},
     "output_type": "execute_result"
    }
   ],
   "source": [
    "random_forest = RandomForestClassifier(n_estimators=100, max_depth=8)\n",
    "random_forest.fit(feat_train, target_train)"
   ]
  },
  {
   "cell_type": "code",
   "execution_count": 32,
   "metadata": {
    "tags": []
   },
   "outputs": [
    {
     "name": "stdout",
     "output_type": "stream",
     "text": [
      "The random forest identified premium / non-premium wines with 79.16666666666666% accuracy!\n"
     ]
    }
   ],
   "source": [
    "correct_pred = random_forest.predict(feat_test) == target_test\n",
    "\n",
    "correct = correct_pred.value_counts()\n",
    "\n",
    "accuracy = (correct[True] / (correct[True] + correct[False]))*100\n",
    "print(\"The random forest identified premium / non-premium wines with {}% accuracy!\"\n",
    "      .format(accuracy))"
   ]
  },
  {
   "cell_type": "markdown",
   "metadata": {},
   "source": [
    "Let's check what is actually predicted wrongly:"
   ]
  },
  {
   "cell_type": "code",
   "execution_count": 25,
   "metadata": {
    "tags": []
   },
   "outputs": [
    {
     "name": "stdout",
     "output_type": "stream",
     "text": [
      "Incorrect predictions by premium quality:\n",
      "premium\n",
      "0    0.240506\n",
      "1    0.176955\n",
      "Name: count, dtype: float64\n",
      "\n",
      "Ratio of premium / non-premium wines in test set:\n",
      "premium\n",
      "1    0.50625\n",
      "0    0.49375\n",
      "Name: proportion, dtype: float64\n"
     ]
    }
   ],
   "source": [
    "rel_incorrect_pred = target_test[correct_pred == False].value_counts() / target_test.value_counts()\n",
    "\n",
    "print(\"Incorrect predictions by premium quality:\\n{}\".format(rel_incorrect_pred))\n",
    "print(\"\\nRatio of premium / non-premium wines in test set:\\n{}\"\n",
    "      .format(target_test.value_counts(normalize=True))\n",
    "     )      "
   ]
  },
  {
   "cell_type": "code",
   "execution_count": 26,
   "metadata": {
    "tags": []
   },
   "outputs": [
    {
     "data": {
      "image/png": "[encoded data removed]",
      "text/plain": [
       "<Figure size 640x480 with 1 Axes>"
      ]
     },
     "metadata": {},
     "output_type": "display_data"
    }
   ],
   "source": [
    "feature_scores = random_forest.feature_importances_\n",
    "feature_names = list(wine_features.columns)\n",
    "\n",
    "important_features = pd.Series(feature_scores, index=feature_names).sort_values()\n",
    "\n",
    "plt.barh(important_features.index, important_features, color='Orange')\n",
    "plt.xlabel('Feature importance')\n",
    "plt.show()"
   ]
  }
 ],
 "metadata": {
  "kernelspec": {
   "display_name": "Python 3 (ipykernel)",
   "language": "python",
   "name": "python3"
  },
  "language_info": {
   "codemirror_mode": {
    "name": "ipython",
    "version": 3
   },
   "file_extension": ".py",
   "mimetype": "text/x-python",
   "name": "python",
   "nbconvert_exporter": "python",
   "pygments_lexer": "ipython3",
   "version": "3.11.5"
  }
 },
 "nbformat": 4,
 "nbformat_minor": 4
}
