{
 "cells": [
  {
   "cell_type": "markdown",
   "metadata": {},
   "source": [
    "# 7. Subroutines and Object-oriented Programming\n",
    "\n",
    "In the seventh section we learn about object-oriented programming and\n",
    "how to \n",
    "\n",
    "* define our own functions and\n",
    "* work with classes and subclasses.\n",
    "\n",
    "The folder ```Notebooks/function_example/``` provides example scripts\n",
    "on how you might want to use functions in practice.\n",
    "\n",
    "Keywords: ```def```, ```class```, ```return```, ```help```, ```self```\n",
    "\n",
    "***\n",
    "## Functions\n",
    "\n",
    "Most of the time, there are certain operations which are performed several times \n",
    "in a program. For example, the application of a particular analysis or \n",
    "calculation with different input data, plotting of figures after a new measurement\n",
    "and much more. In the last notebooks we have already encoutered a lot of \n",
    "__built-in functions__ like ```print``` or ```type``` and other functions like\n",
    "```numpy.mean()```. The basic steps how a function works are: \n",
    "\n",
    "1. The function is called\n",
    "2. The function executs some action\n",
    "3. The function returns some value\n",
    "\n",
    "Let us consider our own example of a function. The function is defined\n",
    "by a __function signature__  and a __function body__. The signature \n",
    "starts with ```def``` and gives the name of the function, the \n",
    "arguments it expects and ends with a colon ```:```. The function body \n",
    "contains the code which is executed when the function gets called. \n",
    "Usually, a ```return``` statement indicates what will be returned if the\n",
    "function is called. However, it is not necessary to return anything\n",
    "and so ```return``` can be omitted, too."
   ]
  },
  {
   "cell_type": "code",
   "execution_count": null,
   "metadata": {
    "tags": []
   },
   "outputs": [],
   "source": [
    "def add_date(a_string, date): \n",
    "    # Here begins the function body\n",
    "    dated_string = a_string + '_' + date\n",
    "\n",
    "    return dated_string"
   ]
  },
  {
   "cell_type": "code",
   "execution_count": null,
   "metadata": {
    "tags": []
   },
   "outputs": [],
   "source": [
    "returned_str = add_date(a_string='experiment', date='05-11-19')\n",
    "returned_str"
   ]
  },
  {
   "cell_type": "code",
   "execution_count": null,
   "metadata": {
    "tags": []
   },
   "outputs": [],
   "source": [
    "dated_string"
   ]
  },
  {
   "cell_type": "markdown",
   "metadata": {},
   "source": [
    "#### Note\n",
    "that the variable ```dated_string``` is only defined in the scope\n",
    "of the function ```add_date```. Outside of the function, this \n",
    "variable doesn't exist and cannot be used."
   ]
  },
  {
   "cell_type": "code",
   "execution_count": null,
   "metadata": {
    "tags": []
   },
   "outputs": [],
   "source": [
    "add_date(a_string='experiment')"
   ]
  },
  {
   "cell_type": "markdown",
   "metadata": {},
   "source": [
    "#### Note \n",
    "that usually you need to specify all arguments when you call a function.\n",
    "However, you can also specify default values."
   ]
  },
  {
   "cell_type": "code",
   "execution_count": null,
   "metadata": {
    "tags": []
   },
   "outputs": [],
   "source": [
    "def only_print(another_string, first = '!', last = '?'):\n",
    "    print(first + another_string + last)\n",
    "    "
   ]
  },
  {
   "cell_type": "code",
   "execution_count": null,
   "metadata": {
    "tags": []
   },
   "outputs": [],
   "source": [
    "returned_str_2 = only_print(another_string='alpha')"
   ]
  },
  {
   "cell_type": "code",
   "execution_count": null,
   "metadata": {
    "tags": []
   },
   "outputs": [],
   "source": [
    "print(returned_str_2)"
   ]
  },
  {
   "cell_type": "markdown",
   "metadata": {},
   "source": [
    "#### Note\n",
    "that is different from the case when the variable would not have been\n",
    "defined, like:"
   ]
  },
  {
   "cell_type": "code",
   "execution_count": null,
   "metadata": {
    "tags": []
   },
   "outputs": [],
   "source": [
    "print(returned_str_3)"
   ]
  },
  {
   "cell_type": "code",
   "execution_count": null,
   "metadata": {
    "tags": []
   },
   "outputs": [],
   "source": [
    "only_print(another_string = 'beta', first = '___', last = '---')"
   ]
  },
  {
   "cell_type": "code",
   "execution_count": null,
   "metadata": {
    "tags": []
   },
   "outputs": [],
   "source": [
    "only_print('beta','___','---')"
   ]
  },
  {
   "cell_type": "code",
   "execution_count": null,
   "metadata": {
    "tags": []
   },
   "outputs": [],
   "source": [
    "only_print('beta')"
   ]
  },
  {
   "cell_type": "markdown",
   "metadata": {},
   "source": [
    "***\n",
    "### Convert temperatures \n",
    "\n",
    "In the following, you can study a more useful function which converts \n",
    "degrees Celsius to degrees Fahrenheit and vice versa."
   ]
  },
  {
   "cell_type": "code",
   "execution_count": null,
   "metadata": {
    "tags": []
   },
   "outputs": [],
   "source": [
    "def convert_temp(degrees_celsius = None, degrees_fahrenheit = None): \n",
    "    '''\n",
    "    This function converts degrees Celsius to degrees Fahrenheit and\n",
    "    vice versa.\n",
    "    \n",
    "    degree_celsius: Input value in degrees Celsius to be converted to\n",
    "                    degrees Fahrenheit.\n",
    "    degree_fahrenheit: Input value in degrees Fahrenheit to be converted \n",
    "                       to degrees Celsius.\n",
    "    return: Temperature in the converted units.\n",
    "    '''\n",
    "    \n",
    "    if degrees_celsius is not None:\n",
    "        degrees_fahrenheit = degrees_celsius * 9/5 + 32\n",
    "        print(\"{} in °C are {} °F\".format(degrees_celsius, degrees_fahrenheit))\n",
    "        return degrees_fahrenheit\n",
    "    \n",
    "    else:\n",
    "        degrees_celsius = (degrees_fahrenheit - 32) * 5/9\n",
    "        print(\"{} in °F are {} °C\".format(degrees_fahrenheit, degrees_celsius))\n",
    "        return degrees_celsius\n",
    "        "
   ]
  },
  {
   "cell_type": "code",
   "execution_count": null,
   "metadata": {
    "tags": []
   },
   "outputs": [],
   "source": [
    "deg_F = convert_temp(degrees_celsius = 30)\n",
    "deg_F"
   ]
  },
  {
   "cell_type": "code",
   "execution_count": null,
   "metadata": {
    "tags": []
   },
   "outputs": [],
   "source": [
    "deg_C = convert_temp(degrees_fahrenheit = 23)\n",
    "deg_C"
   ]
  },
  {
   "cell_type": "code",
   "execution_count": null,
   "metadata": {
    "tags": []
   },
   "outputs": [],
   "source": [
    "help(convert_temp)"
   ]
  },
  {
   "cell_type": "code",
   "execution_count": null,
   "metadata": {
    "tags": []
   },
   "outputs": [],
   "source": [
    "help(list.pop)"
   ]
  },
  {
   "cell_type": "markdown",
   "metadata": {
    "tags": []
   },
   "source": [
    "***\n",
    "\n",
    "## Classes and Object-oriented programming\n",
    "\n",
    "In object-oriented programming (OOP), objects contain information in the form of _attributes_ or _properties_ \n",
    "and _methods_ with which particular operations can be performed. In most OOPs this objects are __instance of classes__. \n",
    "OOP allow modularity and reusability in your code. Let us see what this exactly means in the following.\n",
    "\n"
   ]
  },
  {
   "cell_type": "code",
   "execution_count": null,
   "metadata": {
    "tags": []
   },
   "outputs": [],
   "source": [
    "class person:\n",
    "    def __init__(self, name, age):\n",
    "        self.name = name\n",
    "        self.age = age\n",
    "\n",
    "    def say_hi(self):\n",
    "        print(\"{} says: Hi!\".format(self.name))"
   ]
  },
  {
   "cell_type": "markdown",
   "metadata": {},
   "source": [
    "You can think of a class as a __blueprint__ of an object. Suppose\n",
    "you want to manage different persons with your program. You will\n",
    "need to add different persons which all have similar properties. The \n",
    "```person``` class allows us to create many people which have \n",
    "their individual properties.\n",
    "\n",
    "<center><img src=\"images/person_class.png\" alt=\"Persons Example\" width=\"300\"/></center>\n",
    "\n",
    "\n",
    "An \"example\" or a \"realisation\" of a class is usually referred\n",
    "to as an __instance__ of the class."
   ]
  },
  {
   "cell_type": "code",
   "execution_count": null,
   "metadata": {
    "tags": []
   },
   "outputs": [],
   "source": [
    "first_person = person('Alice', 30)"
   ]
  },
  {
   "cell_type": "code",
   "execution_count": null,
   "metadata": {
    "tags": []
   },
   "outputs": [],
   "source": [
    "first_person.name"
   ]
  },
  {
   "cell_type": "code",
   "execution_count": null,
   "metadata": {
    "tags": []
   },
   "outputs": [],
   "source": [
    "first_person.age"
   ]
  },
  {
   "cell_type": "code",
   "execution_count": null,
   "metadata": {
    "tags": []
   },
   "outputs": [],
   "source": [
    "first_person.say_hi()"
   ]
  },
  {
   "cell_type": "markdown",
   "metadata": {},
   "source": [
    "#### Note \n",
    "that ```say_hi``` is a __function__ similar to those we defined before.\n",
    "A class function is referred to as a __class method__. More precisely, \n",
    "```say_hi``` is an instance method because it requires the instance object\n",
    "```first_person``` in order to be callable. "
   ]
  },
  {
   "cell_type": "code",
   "execution_count": null,
   "metadata": {
    "tags": []
   },
   "outputs": [],
   "source": [
    "class person:    \n",
    "    def __init__(self, name, age):\n",
    "        self.name = name\n",
    "        self.age = age\n",
    "\n",
    "    def say_hi(self):\n",
    "        print(\"{} says: Hi!\".format(self.name))\n",
    "        \n",
    "    def marries(self, another_person):\n",
    "        self.spouse = another_person.name\n",
    "        print('{} marries {}, congratulations!'\n",
    "              .format(self.name, another_person.name))\n",
    "        \n",
    "    def younger_30(self):\n",
    "        ''' \n",
    "        Print True if younger than 30.\n",
    "        '''\n",
    "        return self.age < 30"
   ]
  },
  {
   "cell_type": "code",
   "execution_count": null,
   "metadata": {
    "tags": []
   },
   "outputs": [],
   "source": [
    "first_person = person('Alice', 30)\n",
    "second_person = person('Bob', 29)"
   ]
  },
  {
   "cell_type": "code",
   "execution_count": null,
   "metadata": {
    "tags": []
   },
   "outputs": [],
   "source": [
    "first_person == second_person"
   ]
  },
  {
   "cell_type": "code",
   "execution_count": null,
   "metadata": {
    "tags": []
   },
   "outputs": [],
   "source": [
    "first_person.marries(second_person)\n",
    "second_person.marries(first_person)"
   ]
  },
  {
   "cell_type": "code",
   "execution_count": null,
   "metadata": {
    "tags": []
   },
   "outputs": [],
   "source": [
    "print(\"{} is married to {}\".format(second_person.name, second_person.spouse))"
   ]
  },
  {
   "cell_type": "code",
   "execution_count": null,
   "metadata": {
    "tags": []
   },
   "outputs": [],
   "source": [
    "print(\"Did {} celebrate her 30th birthday already? Answer: {}\"\n",
    "      .format(first_person.name, not first_person.younger_30()))"
   ]
  },
  {
   "cell_type": "code",
   "execution_count": null,
   "metadata": {
    "tags": []
   },
   "outputs": [],
   "source": [
    "print(\"What about {}? Answer: {}\"\n",
    "      .format(second_person.name, not second_person.younger_30()))"
   ]
  },
  {
   "cell_type": "code",
   "execution_count": null,
   "metadata": {
    "tags": []
   },
   "outputs": [],
   "source": [
    "help(person)"
   ]
  },
  {
   "cell_type": "markdown",
   "metadata": {},
   "source": [
    "***\n",
    "### Subclasses\n",
    "\n",
    "It is possible to define subclasses which build upon other classes \n",
    "and __inherit__ their structure and methods."
   ]
  },
  {
   "cell_type": "code",
   "execution_count": null,
   "metadata": {
    "tags": []
   },
   "outputs": [],
   "source": [
    "class child(person):\n",
    "    def __init__(self, name, age, mother):\n",
    "        super(child, self).__init__(name, age)\n",
    "        self.mother = mother\n",
    "    \n",
    "    def print_mother(self):\n",
    "        print(self.mother.name)"
   ]
  },
  {
   "cell_type": "code",
   "execution_count": null,
   "metadata": {
    "tags": []
   },
   "outputs": [],
   "source": [
    "newborn = child('Charlie', 1, first_person)"
   ]
  },
  {
   "cell_type": "code",
   "execution_count": null,
   "metadata": {
    "tags": []
   },
   "outputs": [],
   "source": [
    "newborn.say_hi()"
   ]
  },
  {
   "cell_type": "markdown",
   "metadata": {},
   "source": [
    "#### Note\n",
    "that for the class ```child``` we did not define a method ```say_hi```. However, \n",
    "the method was _inherited_ from the \"parent\" class ```person```."
   ]
  },
  {
   "cell_type": "code",
   "execution_count": null,
   "metadata": {
    "tags": []
   },
   "outputs": [],
   "source": [
    "newborn.print_mother()"
   ]
  },
  {
   "cell_type": "markdown",
   "metadata": {},
   "source": [
    "***\n",
    "## Exercise section"
   ]
  },
  {
   "cell_type": "markdown",
   "metadata": {},
   "source": [
    "(1.) In the function ```convert_temp``` it would be possible to \n",
    "provide both quantities, i.e. \n",
    "\n",
    "```convert_temp(degrees_celsius = 0, degrees_fahrenheit = 70)```.\n",
    "\n",
    "Currently, the output would be:"
   ]
  },
  {
   "cell_type": "code",
   "execution_count": null,
   "metadata": {},
   "outputs": [],
   "source": [
    "convert_temp(degrees_celsius = 0, degrees_fahrenheit = 70)"
   ]
  },
  {
   "cell_type": "markdown",
   "metadata": {},
   "source": [
    "However, we would like the function to indicate that this might be\n",
    "not the intended behaviour. Instead we would like to read a message \n",
    "like:"
   ]
  },
  {
   "cell_type": "code",
   "execution_count": null,
   "metadata": {},
   "outputs": [],
   "source": [
    "print(\"You provided the temperature both in degrees Celsius \" \n",
    "      \"as well as Fahrenheit. You probably don't need the \"\n",
    "      \"conversion, in this case. Otherwise, provide only \"\n",
    "      \"one of the two.\")"
   ]
  },
  {
   "cell_type": "markdown",
   "metadata": {},
   "source": [
    "Incorporate this behaviour into the function. Make use of the ```if```\n",
    "condition and ```return```."
   ]
  },
  {
   "cell_type": "code",
   "execution_count": null,
   "metadata": {},
   "outputs": [],
   "source": [
    "def convert_temp(degrees_celsius = None, degrees_fahrenheit = None):\n",
    "    '''...'''"
   ]
  },
  {
   "cell_type": "markdown",
   "metadata": {},
   "source": [
    "Check whether your implementation is correct by executing the following cell:"
   ]
  },
  {
   "cell_type": "code",
   "execution_count": null,
   "metadata": {},
   "outputs": [],
   "source": [
    "convert_temp(degrees_celsius = 0, degrees_fahrenheit = 70)"
   ]
  },
  {
   "cell_type": "markdown",
   "metadata": {},
   "source": [
    "(2.) Add another method ```age_in_days(...)``` to the ```person``` class which calculates the age in days\n",
    "and prints the result when called."
   ]
  },
  {
   "cell_type": "code",
   "execution_count": null,
   "metadata": {},
   "outputs": [],
   "source": [
    "class person:\n",
    "    def __init__(self, name, age):\n",
    "        self.name = name\n",
    "        self.age = age\n",
    "\n",
    "    def say_hi(self):\n",
    "        print(\"{} says: Hi!\".format(self.name))\n",
    "        \n",
    "    def marries(self, another_person):\n",
    "        self.spouse = another_person.name\n",
    "        print('{} and {} just married, congratulations!'\n",
    "              .format(another_person.name, self.name))\n",
    "        \n",
    "    def younger_30(self):\n",
    "        return self.age < 30\n",
    "    \n",
    "    '''...'''"
   ]
  },
  {
   "cell_type": "markdown",
   "metadata": {},
   "source": [
    "After adding the new method, create a new person and use the ```age_in_days()```\n",
    "method to print the age in days of your created person. Put your solution in \n",
    "the following cell:"
   ]
  },
  {
   "cell_type": "code",
   "execution_count": null,
   "metadata": {
    "tags": []
   },
   "outputs": [],
   "source": []
  }
 ],
 "metadata": {
  "kernelspec": {
   "display_name": "Python 3 (ipykernel)",
   "language": "python",
   "name": "python3"
  },
  "language_info": {
   "codemirror_mode": {
    "name": "ipython",
    "version": 3
   },
   "file_extension": ".py",
   "mimetype": "text/x-python",
   "name": "python",
   "nbconvert_exporter": "python",
   "pygments_lexer": "ipython3",
   "version": "3.11.5"
  }
 },
 "nbformat": 4,
 "nbformat_minor": 4
}
