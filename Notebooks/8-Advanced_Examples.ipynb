{
 "cells": [
  {
   "cell_type": "markdown",
   "metadata": {},
   "source": [
    "# 8. Advanced Examples\n",
    "\n",
    "In the last section we look at some advanced examples. \n",
    "Here, the idea is that you see how a full script might \n",
    "look like and to get insights what kind of analysis\n",
    "tools / libraries are available.\n",
    "\n",
    "In the follwing we will have a look at two examples, which use the\n",
    "libraries \n",
    "* ```scipy```: [SciPy](https://docs.scipy.org/doc/scipy/reference/tutorial/general.html) \n",
    "contains modules for scientific computation and builds upon NumPy.\n",
    "* ```sklearn```: The [scikit-learn library](https://scikit-learn.org/) \n",
    "offers a lot efficient implementations for Machine Learning. \n",
    "\n",
    "Some other interesting libraries you might want to check out:\n",
    "\n",
    "* ```rpy2``` for using R in Python: [porting code from R to Python](https://rpy2.readthedocs.io/en/latest/porting-to-rpy2.html)\n",
    "* ```wx``` for programming Graphical User Interfaces: \n",
    "[wxPython overview](https://www.wxpython.org/pages/overview/)\n",
    "* ```arcpy``` is a geoprocessing tool for combining Python with ArcGIS:\n",
    "[ArcPy quick tour](https://desktop.arcgis.com/en/arcmap/10.3/analyze/arcpy/a-quick-tour-of-arcpy.htm)\n",
    "* ```sqlite3``` for creating and working with SQLite databases: \n",
    "See an example of how to [create a table](https://www.sqlitetutorial.net/sqlite-python/create-tables/)\n",
    "* ```pysam``` for reading and manipulating biological sequence data: \n",
    "[working with BAM and SAM formatted files](https://pysam.readthedocs.io/en/latest/api.html)\n",
    "\n",
    "***\n",
    "# Hypothesis Testing\n",
    "\n",
    "Statistical hypothesis testing plays a crucial role in various disciplines. \n",
    "Python and in particular SciPy offers a great variety of already implemented\n",
    "statistical tools. Let's have a look how you can perform a __one sample t-test__."
   ]
  },
  {
   "cell_type": "code",
   "execution_count": null,
   "metadata": {
    "ExecuteTime": {
     "end_time": "2025-09-30T10:03:55.704901Z",
     "start_time": "2025-09-30T10:03:55.259836Z"
    },
    "tags": []
   },
   "outputs": [],
   "source": [
    "from scipy.stats import ttest_1samp"
   ]
  },
  {
   "cell_type": "code",
   "execution_count": null,
   "metadata": {
    "ExecuteTime": {
     "end_time": "2025-09-30T10:03:55.951226Z",
     "start_time": "2025-09-30T10:03:55.720423Z"
    },
    "tags": []
   },
   "outputs": [],
   "source": [
    "import numpy as np\n",
    "import matplotlib.pyplot as plt"
   ]
  },
  {
   "cell_type": "markdown",
   "metadata": {},
   "source": [
    "First, we create some exemplary data and sample __uniformly__ \n",
    "300 random age values from 0 to 80."
   ]
  },
  {
   "cell_type": "code",
   "execution_count": null,
   "metadata": {
    "ExecuteTime": {
     "end_time": "2025-09-30T10:03:55.959883Z",
     "start_time": "2025-09-30T10:03:55.957917Z"
    },
    "tags": []
   },
   "outputs": [],
   "source": [
    "age = np.random.randint(low=0, high=80, size=300)"
   ]
  },
  {
   "cell_type": "markdown",
   "metadata": {},
   "source": [
    "Or, we could sample from a __normal distribution__ with \n",
    "$\\mu=35$ (loc) and $\\sigma=10$ (sacle) \n",
    "300 random age values."
   ]
  },
  {
   "cell_type": "code",
   "execution_count": null,
   "metadata": {
    "ExecuteTime": {
     "end_time": "2025-09-30T10:03:55.968950Z",
     "start_time": "2025-09-30T10:03:55.967087Z"
    },
    "tags": []
   },
   "outputs": [],
   "source": [
    "age = np.random.normal(loc=35.0, scale=10.0, size=300)"
   ]
  },
  {
   "cell_type": "markdown",
   "metadata": {},
   "source": [
    "We inspect the data with an histrogram where the age values are aggregated in 20 bins."
   ]
  },
  {
   "cell_type": "code",
   "execution_count": null,
   "metadata": {
    "ExecuteTime": {
     "end_time": "2025-09-30T10:03:58.111364Z",
     "start_time": "2025-09-30T10:03:58.014109Z"
    },
    "tags": []
   },
   "outputs": [],
   "source": [
    "plt.hist(age, bins=20)\n",
    "plt.xlabel('Age')\n",
    "plt.ylabel('Occurence')\n",
    "plt.axvline(x=35, color='red', linestyle='--')\n",
    "plt.show()"
   ]
  },
  {
   "cell_type": "markdown",
   "metadata": {},
   "source": [
    "Let us assume that our __null hypothesis__ is that the mean\n",
    "population age is 35, represented by the dashed red line\n",
    "in the plot. The age mean of our data is"
   ]
  },
  {
   "cell_type": "code",
   "execution_count": null,
   "metadata": {
    "ExecuteTime": {
     "end_time": "2025-09-30T10:03:59.119829Z",
     "start_time": "2025-09-30T10:03:59.117161Z"
    },
    "tags": []
   },
   "outputs": [],
   "source": [
    "# age_mean = np.mean(age)\n",
    "\n",
    "age_mean = age.mean()\n",
    "\n",
    "print('Data age mean:', age_mean, '\\n')"
   ]
  },
  {
   "cell_type": "markdown",
   "metadata": {},
   "source": [
    "We now test the null hypothesis with a one-sample t-test."
   ]
  },
  {
   "cell_type": "code",
   "execution_count": null,
   "metadata": {
    "ExecuteTime": {
     "end_time": "2025-09-30T10:03:59.949835Z",
     "start_time": "2025-09-30T10:03:59.946962Z"
    },
    "tags": []
   },
   "outputs": [],
   "source": [
    "tstat, pval = ttest_1samp(age, popmean=35)\n",
    "\n",
    "print(\"p-value:\", pval, '\\n')\n",
    "\n",
    "if pval < 0.05:    \n",
    "    print(\"We reject the null hypothesis\")\n",
    "else:\n",
    "    print(\"We accept the null hypothesis\")"
   ]
  },
  {
   "cell_type": "markdown",
   "metadata": {},
   "source": [
    "***\n",
    "# Classification with Random Forests\n",
    "\n",
    "In the next example, we will try to classify premium red wine from their \n",
    "measured properties (features). Random Forests are very powerful machine\n",
    "learning methods which build on decision trees. A decision tree in our \n",
    "application would look something like this:\n",
    "\n",
    "<center><img src=\"images/example_tree.png\" alt=\"Persons Example\" width=\"400\"/></center>\n",
    "\n",
    "Random Forests construct a multitude of such decision trees. The individual \n",
    "decision trees provide a classification result and by majority voting \n",
    "the final classification is obtained.\n",
    "\n",
    "If you want to see a good example of what a \"real\" class might \n",
    "look like check out the [base class for random forests](https://github.com/scikit-learn/scikit-learn/blob/b194674c4/sklearn/ensemble/_forest.py#L172)."
   ]
  },
  {
   "cell_type": "code",
   "execution_count": null,
   "metadata": {
    "tags": []
   },
   "outputs": [],
   "source": [
    "from sklearn.ensemble import RandomForestClassifier\n",
    "from sklearn.model_selection import train_test_split"
   ]
  },
  {
   "cell_type": "markdown",
   "metadata": {},
   "source": [
    "This is what we had before:"
   ]
  },
  {
   "cell_type": "code",
   "execution_count": null,
   "metadata": {
    "tags": []
   },
   "outputs": [],
   "source": [
    "import pandas as pd\n",
    "import matplotlib.pyplot as plt\n",
    "\n",
    "wine_data = pd.read_csv('data/winequality-red.csv', sep=';')\n",
    "\n",
    "wine_data['premium'] = wine_data['quality'] > 5\n",
    "# wine_data['premium'] = wine_data['quality'] > 6\n",
    "\n",
    "quality_counts = wine_data['quality'].value_counts()\n",
    "\n",
    "colours = ['green','red','red','green','red','green'] # for > 5\n",
    "# colours = ['green','green','red','green','red','green'] # for > 6\n",
    "\n",
    "plt.bar(quality_counts.index, quality_counts, color=colours)\n",
    "plt.xlabel('Quality assessment')\n",
    "plt.ylabel('Amount of different wines')\n",
    "plt.show()\n",
    "\n",
    "wine_data.head(5)"
   ]
  },
  {
   "cell_type": "markdown",
   "metadata": {},
   "source": [
    "This is new:"
   ]
  },
  {
   "cell_type": "code",
   "execution_count": null,
   "metadata": {
    "tags": []
   },
   "outputs": [],
   "source": [
    "target = wine_data['premium'].astype(int)\n",
    "wine_features = wine_data.drop(['quality','premium'], axis=1)\n",
    "\n",
    "print(\"Shape of wine_features:\\t{}\\nShape of target:\\t{}\\n\"\n",
    "      .format(wine_features.shape, target.shape)\n",
    "     )"
   ]
  },
  {
   "cell_type": "code",
   "execution_count": null,
   "metadata": {
    "tags": []
   },
   "outputs": [],
   "source": [
    "target.head(5)"
   ]
  },
  {
   "cell_type": "markdown",
   "metadata": {},
   "source": [
    "#### The __Goal__\n",
    "is to learn a classifier which predicts whether a wine is a premium /\n",
    "non-premium wine on the basis of the measured wine features.\n",
    "\n",
    "Select (randomly) a set on which the Random Forest classifier is \n",
    "calibrated / trained on and a test set on which the performance\n",
    "is assessed. We consider a test set size of 30% of the original data\n",
    "set."
   ]
  },
  {
   "cell_type": "code",
   "execution_count": null,
   "metadata": {
    "tags": []
   },
   "outputs": [],
   "source": [
    "feat_train, feat_test, target_train, target_test = train_test_split(\n",
    "    wine_features, target, test_size = 0.3)\n",
    "\n",
    "print(\"After splitting into train and test sets:\\n\\n\"\n",
    "      \"Shape of feat_train:\\t{}\\nShape of target_train:\\t{}\\n\"\n",
    "      \"Shape of feat_test:\\t{}\\nShape of target_test:\\t{}\"\n",
    "      .format(feat_train.shape, target_train.shape, feat_test.shape, \n",
    "              target_test.shape)\n",
    "     )"
   ]
  },
  {
   "cell_type": "code",
   "execution_count": null,
   "metadata": {
    "tags": []
   },
   "outputs": [],
   "source": [
    "random_forest = RandomForestClassifier(n_estimators=100, max_depth=8)\n",
    "random_forest.fit(feat_train, target_train)"
   ]
  },
  {
   "cell_type": "code",
   "execution_count": null,
   "metadata": {
    "tags": []
   },
   "outputs": [],
   "source": [
    "correct_pred = random_forest.predict(feat_test) == target_test\n",
    "\n",
    "correct = correct_pred.value_counts()\n",
    "\n",
    "accuracy = (correct[True] / (correct[True] + correct[False]))*100\n",
    "print(\"The random forest identified premium / non-premium wines with {}% accuracy!\"\n",
    "      .format(accuracy))"
   ]
  },
  {
   "cell_type": "markdown",
   "metadata": {},
   "source": [
    "Let's check what is actually predicted wrongly:"
   ]
  },
  {
   "cell_type": "code",
   "execution_count": null,
   "metadata": {
    "tags": []
   },
   "outputs": [],
   "source": [
    "rel_incorrect_pred = target_test[correct_pred == False].value_counts() / target_test.value_counts()\n",
    "\n",
    "print(\"Incorrect predictions by premium quality:\\n{}\".format(rel_incorrect_pred))\n",
    "print(\"\\nRatio of premium / non-premium wines in test set:\\n{}\"\n",
    "      .format(target_test.value_counts(normalize=True))\n",
    "     )      "
   ]
  },
  {
   "cell_type": "code",
   "execution_count": null,
   "metadata": {
    "tags": []
   },
   "outputs": [],
   "source": [
    "feature_scores = random_forest.feature_importances_\n",
    "feature_names = list(wine_features.columns)\n",
    "\n",
    "important_features = pd.Series(feature_scores, index=feature_names).sort_values()\n",
    "\n",
    "plt.barh(important_features.index, important_features, color='Orange')\n",
    "plt.xlabel('Feature importance')\n",
    "plt.show()"
   ]
  }
 ],
 "metadata": {
  "kernelspec": {
   "display_name": "Python 3 (ipykernel)",
   "language": "python",
   "name": "python3"
  },
  "language_info": {
   "codemirror_mode": {
    "name": "ipython",
    "version": 3
   },
   "file_extension": ".py",
   "mimetype": "text/x-python",
   "name": "python",
   "nbconvert_exporter": "python",
   "pygments_lexer": "ipython3",
   "version": "3.11.5"
  }
 },
 "nbformat": 4,
 "nbformat_minor": 4
}
