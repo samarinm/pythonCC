{
 "cells": [
  {
   "cell_type": "markdown",
   "metadata": {},
   "source": [
    "# 9. Exercises\n",
    "\n",
    "This notebook provides three additional blocks of exercises covering different areas. You can choose the topics you are more interested in and start with the corresponding block.\n",
    "\n",
    "1. **Elevations in Switzerland**: We make use of **NumPy** and **Matplotlib** to analyse the elevation profile of Switzerland.\n",
    "2. **Printing Patterns**: A slighlty more creative use of **loops** and **conditional statements** is considered to print particular patterns.\n",
    "3. **Analysing the Tips Dataset**: We have a look at the tips dataset again and work with **Pandas** and **Seaborn**.\n",
    "\n",
    "***\n",
    "## 1. Elevations in Switzerland\n",
    "\n",
    "In the following, you are provided with a NumPy array (stored as a ```.npy``` file in ```data```) containing data on the elevations of Switzerland, normalised to the range [0,1], and visualised below. We will make use of **NumPy** and **Matplotlib** to analyse this dataset a little bit further.\n",
    "\n",
    "<center><img src=\"images/tiled_switzerland.png\" alt=\"Tiled Switzerland\" width=\"400\"/></center>\n",
    "\n",
    "The next cell loads the required modules, the dataset, and the maximum elevation (in meters) to rescale the normalised values."
   ]
  },
  {
   "cell_type": "code",
   "execution_count": null,
   "metadata": {},
   "outputs": [],
   "source": [
    "import numpy as np\n",
    "import matplotlib.pyplot as plt\n",
    "\n",
    "max_value = 4632.51\n",
    "\n",
    "ch_tiled = np.load(\"data/switzerland.npy\")"
   ]
  },
  {
   "cell_type": "markdown",
   "metadata": {},
   "source": [
    "#### (1.1) Inspect array\n",
    "Inspect the array shape (put solution in the next cell)"
   ]
  },
  {
   "cell_type": "code",
   "execution_count": null,
   "metadata": {},
   "outputs": [],
   "source": []
  },
  {
   "cell_type": "markdown",
   "metadata": {},
   "source": [
    "and an exemplary tile, e.g. tile 4 with index 3 (put solution in the next cell)"
   ]
  },
  {
   "cell_type": "code",
   "execution_count": null,
   "metadata": {},
   "outputs": [],
   "source": []
  },
  {
   "cell_type": "markdown",
   "metadata": {},
   "source": [
    "#### (1.2) Rescale values\n",
    "Undo the normalisation to the [0,1] range by using ```max_value``` and store the result in ```ch_tiled```. \n",
    "\n",
    "Put your solution here: "
   ]
  },
  {
   "cell_type": "code",
   "execution_count": null,
   "metadata": {},
   "outputs": [],
   "source": []
  },
  {
   "cell_type": "markdown",
   "metadata": {},
   "source": [
    "#### (1.3) Identify tile with highest elevation\n",
    "Firstly, indentify the maximum value in each tile and store the result in ```max_per_tile``` such that the output looks like\n",
    "\n",
    "```\n",
    "In: print(max_per_tile)  \n",
    "Out: [          nan           nan           nan 1816.67058824  944.66870588\n",
    "           nan           nan 2125.50458824 2270.83823529 2234.50482353\n",
    " 2706.83917647           nan 2252.67152941 2579.67223529 2924.83964706\n",
    " 3560.67435294 3742.34141176 3905.84176471 2634.17235294 3215.50694118\n",
    " 4360.00941176 4033.00870588 3905.84176471 3905.84176471 2652.33905882\n",
    " 3815.00823529 4505.34305882 3851.34164706 3887.67505882 4251.00917647\n",
    "           nan 4396.34282353 4596.17658824 2034.67105882 2688.67247059\n",
    "           nan]\n",
    "```\n",
    "\n",
    "Secondly, identify the tile with the largest value, i.e. the highest elevation.\n",
    "\n",
    "Hints:\n",
    "* Make use of ```np.nanmax``` and ```np.nanargmax``` which ignore ```nan``` values to find the maximum value.\n",
    "* Check out the effect of ```axis=0``` and ```axis=(1,2)``` when identifying the maximum value.\n",
    "\n",
    "Put your solution for ```max_per_tile``` here:"
   ]
  },
  {
   "cell_type": "code",
   "execution_count": null,
   "metadata": {},
   "outputs": [],
   "source": []
  },
  {
   "cell_type": "markdown",
   "metadata": {},
   "source": [
    "Put your solution for ```max_tile_index``` here:"
   ]
  },
  {
   "cell_type": "code",
   "execution_count": null,
   "metadata": {},
   "outputs": [],
   "source": []
  },
  {
   "cell_type": "markdown",
   "metadata": {},
   "source": [
    "#### (1.4) Which tiles are all empty?\n",
    "Identify the tiles which contain only background, i.e. ```nan```. \n",
    "\n",
    "Hint: Make use of the functions ```np.all``` and ```np.isnan```. You might want to check out the following documentation:"
   ]
  },
  {
   "cell_type": "code",
   "execution_count": null,
   "metadata": {},
   "outputs": [],
   "source": [
    "help(np.all)"
   ]
  },
  {
   "cell_type": "code",
   "execution_count": null,
   "metadata": {},
   "outputs": [],
   "source": [
    "help(np.isnan)"
   ]
  },
  {
   "cell_type": "markdown",
   "metadata": {},
   "source": [
    "Put your solution here:"
   ]
  },
  {
   "cell_type": "code",
   "execution_count": null,
   "metadata": {},
   "outputs": [],
   "source": []
  },
  {
   "cell_type": "markdown",
   "metadata": {},
   "source": [
    "#### (1.5) Flatten array into vector\n",
    "Flatten ```ch_tiled``` into a vector and store the resulting vector in ```ch_flat```.\n",
    "\n",
    "Put your solution here:"
   ]
  },
  {
   "cell_type": "code",
   "execution_count": null,
   "metadata": {},
   "outputs": [],
   "source": []
  },
  {
   "cell_type": "markdown",
   "metadata": {},
   "source": [
    "#### (1.6) Plot histogram of the different elevation levels\n",
    "Plot a histogram by making use of ```ch_flat``` and use 50 bins.\n",
    "\n",
    "Put your solution here:"
   ]
  },
  {
   "cell_type": "code",
   "execution_count": null,
   "metadata": {},
   "outputs": [],
   "source": []
  },
  {
   "cell_type": "markdown",
   "metadata": {},
   "source": [
    "#### Bonus exercise (1.7): Recreate the elevation plot\n",
    "As a bonus exercise, try to recreate the plot shown in the beginning of the exercise as much as possible.\n",
    "\n",
    "Hints: Make use of ```fig, ax = plt.subplots(...)``` and ```.imshow(tile, vmin=0, vmax=max_value)```\n",
    "\n",
    "You can put your solution here:"
   ]
  },
  {
   "cell_type": "code",
   "execution_count": null,
   "metadata": {},
   "outputs": [],
   "source": []
  },
  {
   "cell_type": "markdown",
   "metadata": {},
   "source": [
    "***\n",
    "## 2. Printing Patterns\n",
    "\n",
    "In this exercise, we review **loops** and **conditional statements** and make a slightly \n",
    "more creative use of them to print the following patterns.\n",
    "\n",
    "General hint: You can use ```range``` in descending order like this\n",
    "```Python\n",
    "for i in range(5,0,-1):\n",
    "    print(i)\n",
    "```\n",
    "\n",
    "```\n",
    "Out: \n",
    "5\n",
    "4\n",
    "3\n",
    "2\n",
    "1\n",
    "```\n",
    "\n",
    "#### (2.1) Print pattern\n",
    "Recreate the following pattern:\n",
    "\n",
    "\n",
    "```\n",
    "*\n",
    "**\n",
    "***\n",
    "****\n",
    "*****\n",
    "****\n",
    "***\n",
    "**\n",
    "*\n",
    "\n",
    "#\n",
    "##\n",
    "###\n",
    "####\n",
    "#####\n",
    "####\n",
    "###\n",
    "##\n",
    "#\n",
    "\n",
    "x\n",
    "xx\n",
    "xxx\n",
    "xxxx\n",
    "xxxxx\n",
    "xxxx\n",
    "xxx\n",
    "xx\n",
    "x\n",
    "\n",
    "```\n",
    "\n",
    "Use"
   ]
  },
  {
   "cell_type": "code",
   "execution_count": null,
   "metadata": {},
   "outputs": [],
   "source": [
    "symbol = ['*','#','x']\n",
    "rows = 5"
   ]
  },
  {
   "cell_type": "markdown",
   "metadata": {},
   "source": [
    "and put your solution here:"
   ]
  },
  {
   "cell_type": "code",
   "execution_count": null,
   "metadata": {},
   "outputs": [],
   "source": []
  },
  {
   "cell_type": "markdown",
   "metadata": {},
   "source": [
    "#### (2.2) Print pattern\n",
    "\n",
    "Recreate the following pattern:\n",
    "\n",
    "```\n",
    "*\n",
    "**\n",
    "***\n",
    "****\n",
    "xxxxx\n",
    "****\n",
    "***\n",
    "**\n",
    "*\n",
    "```\n",
    "\n",
    "Put your solution here:"
   ]
  },
  {
   "cell_type": "code",
   "execution_count": null,
   "metadata": {},
   "outputs": [],
   "source": []
  },
  {
   "cell_type": "markdown",
   "metadata": {},
   "source": [
    "#### (2.3) Print pattern\n",
    "\n",
    "Recreate the following pattern:\n",
    "\n",
    "```\n",
    "0 1 2 3 4 \n",
    "1 1 2 3 4 \n",
    "2 2 2 3 4 \n",
    "3 3 3 3 4 \n",
    "4 4 4 4 4 \n",
    "```\n",
    "\n",
    "Hint: You can use the argument ```end=' '``` in the ```print``` function\n",
    "in the following way\n",
    "\n",
    "```Python\n",
    "for i in range(5):\n",
    "    print(i, end=' ')\n",
    "```\n",
    "\n",
    "```\n",
    "Out: 0 1 2 3 4 \n",
    "```\n",
    "\n",
    "In other words, line breaks are replaced by spaces, because\n",
    "\n",
    "```Python\n",
    "for i in range(5):\n",
    "    print(i)\n",
    "```\n",
    "\n",
    "```\n",
    "Out: \n",
    "0\n",
    "1\n",
    "2\n",
    "3\n",
    "4\n",
    "```\n",
    "\n",
    "\n",
    "Put your solution here:"
   ]
  },
  {
   "cell_type": "code",
   "execution_count": null,
   "metadata": {},
   "outputs": [],
   "source": []
  },
  {
   "cell_type": "markdown",
   "metadata": {},
   "source": [
    "***\n",
    "## 3. Analysing the Tips Dataset\n",
    "\n",
    "Here, we reconsider the ```tips``` dataset encountered in the ```6-Numpy_Pandas``` notebook and work with **Pandas** and **Seaborn**.\n",
    "\n",
    "Each row corresponds to an individual visit at a restaurant, with indication of the **day** and **time** of the visit and **size** of the group, whether there were any **smoker** in the group and the **total_bill** and **tip** in dollars as well as the **sex** of the person who payed."
   ]
  },
  {
   "cell_type": "code",
   "execution_count": null,
   "metadata": {},
   "outputs": [],
   "source": [
    "import pandas as pd\n",
    "import seaborn as sns\n",
    "import matplotlib.pyplot as plt"
   ]
  },
  {
   "cell_type": "code",
   "execution_count": null,
   "metadata": {},
   "outputs": [],
   "source": [
    "tips = sns.load_dataset(\"tips\")\n",
    "tips.head(5)"
   ]
  },
  {
   "cell_type": "markdown",
   "metadata": {},
   "source": [
    "#### (3.1) Dataset overview\n",
    "Make use of ```describe()``` to get an overview of the dataset"
   ]
  },
  {
   "cell_type": "code",
   "execution_count": null,
   "metadata": {},
   "outputs": [],
   "source": []
  },
  {
   "cell_type": "markdown",
   "metadata": {},
   "source": [
    "and check out the additional argument ```include=['category']```"
   ]
  },
  {
   "cell_type": "code",
   "execution_count": null,
   "metadata": {},
   "outputs": [],
   "source": []
  },
  {
   "cell_type": "markdown",
   "metadata": {},
   "source": [
    "#### (3.2) Unique Categories\n",
    "\n",
    "Identify for each column containing a categorical variable \n",
    "the unique categories. You might want to make use of ```.unique()```."
   ]
  },
  {
   "cell_type": "code",
   "execution_count": null,
   "metadata": {},
   "outputs": [],
   "source": []
  },
  {
   "cell_type": "code",
   "execution_count": null,
   "metadata": {},
   "outputs": [],
   "source": []
  },
  {
   "cell_type": "code",
   "execution_count": null,
   "metadata": {},
   "outputs": [],
   "source": []
  },
  {
   "cell_type": "code",
   "execution_count": null,
   "metadata": {},
   "outputs": [],
   "source": []
  },
  {
   "cell_type": "markdown",
   "metadata": {},
   "source": [
    "#### (3.3) Mean values by groups\n",
    "Group by categorical variables and obtain the mean values for the\n",
    "numerical variables. E.g. group by ```'day'``` and obtain the mean\n",
    "values for ```'total_bill'```, ```'tip'```, ```'size'```. "
   ]
  },
  {
   "cell_type": "code",
   "execution_count": null,
   "metadata": {},
   "outputs": [],
   "source": []
  },
  {
   "cell_type": "code",
   "execution_count": null,
   "metadata": {},
   "outputs": [],
   "source": []
  },
  {
   "cell_type": "code",
   "execution_count": null,
   "metadata": {},
   "outputs": [],
   "source": []
  },
  {
   "cell_type": "code",
   "execution_count": null,
   "metadata": {},
   "outputs": [],
   "source": []
  },
  {
   "cell_type": "markdown",
   "metadata": {},
   "source": [
    "#### (3.4) Pairplot\n",
    "\n",
    "Try to create a [pairplot](https://seaborn.pydata.org/generated/seaborn.pairplot.html)\n",
    "(check out the documentation in the link) where you differentiate between male and female, i.e.\n",
    "use ```'sex'``` to plot these aspecets in two different colours."
   ]
  },
  {
   "cell_type": "code",
   "execution_count": null,
   "metadata": {},
   "outputs": [],
   "source": []
  },
  {
   "cell_type": "markdown",
   "metadata": {},
   "source": [
    "#### (3.5) Category Plots\n",
    "\n",
    "Try to create a [catplot](https://seaborn.pydata.org/generated/seaborn.catplot.html)\n",
    "(check out the documentation in the link), which plots the ```'size'``` on the x-axis and the **count** of different group sizes on the y-axis (i.e. a histogram) and differentiate between male and female, i.e.\n",
    "use ```'sex'``` to plot these aspecets in two different colours."
   ]
  },
  {
   "cell_type": "code",
   "execution_count": null,
   "metadata": {},
   "outputs": [],
   "source": []
  },
  {
   "cell_type": "markdown",
   "metadata": {},
   "source": [
    "Now, try to create a [catplot](https://seaborn.pydata.org/generated/seaborn.catplot.html)\n",
    "(check out the documentation in the link), which plots the ```'day'``` on the x-axis and the **count** of different group sizes on the y-axis (i.e. a histogram). This time create two subplots, one for female and one for male, i.e. use ```'sex'``` for the plot **columns**. "
   ]
  },
  {
   "cell_type": "code",
   "execution_count": null,
   "metadata": {},
   "outputs": [],
   "source": []
  },
  {
   "cell_type": "markdown",
   "metadata": {},
   "source": [
    "#### (3.6) Correlation\n",
    "\n",
    "In this last exercise, we compute the correlation between the numerical variables.\n",
    "To this end, use the method ```corr()``` and put your solution in the following cell:"
   ]
  },
  {
   "cell_type": "code",
   "execution_count": null,
   "metadata": {},
   "outputs": [],
   "source": []
  },
  {
   "cell_type": "markdown",
   "metadata": {},
   "source": [
    "Try to create a [regplot](https://seaborn.pydata.org/generated/seaborn.regplot.html)\n",
    "(check out the documentation in the link), which plots the ```'total_bill'``` on the x-axis and the ```'tip'``` on the y-axis. "
   ]
  },
  {
   "cell_type": "code",
   "execution_count": null,
   "metadata": {},
   "outputs": [],
   "source": []
  }
 ],
 "metadata": {
  "kernelspec": {
   "display_name": "Python 3 (ipykernel)",
   "language": "python",
   "name": "python3"
  },
  "language_info": {
   "codemirror_mode": {
    "name": "ipython",
    "version": 3
   },
   "file_extension": ".py",
   "mimetype": "text/x-python",
   "name": "python",
   "nbconvert_exporter": "python",
   "pygments_lexer": "ipython3",
   "version": "3.11.5"
  }
 },
 "nbformat": 4,
 "nbformat_minor": 4
}
