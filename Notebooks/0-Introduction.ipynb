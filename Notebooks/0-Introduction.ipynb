{
 "cells": [
  {
   "cell_type": "markdown",
   "metadata": {},
   "source": [
    "# Python Crash Course\n",
    "\n",
    "In this crash course we will see a lot of different concepts in Python. In the following notebooks, \n",
    "we will go through some of the most relevant aspects of Python that we considered you should know. \n",
    "This cannot be an exhaustive introduction, as each task might require some very specific \n",
    "tools. For this reason, there might be some objects or commands you later find useful but have not seen in this course. \n",
    "However, you only really become \"fluent\" in a programming language by trying to implement your own projects\n",
    "and learn from difficulties you encounter along the way. This course is intended to be a first step in that direction!\n",
    "\n",
    "Note that we cover __Python 3__ here. There exists a lot of code on the Internet (or in your group) \n",
    "written in earlier versions such as Python 2.7. Usually you can identify Python 2.7 code because you \n",
    "find print statements like \n",
    "\n",
    "```print \"This prints an output in Python 2\"``` \n",
    "\n",
    "which in Python 3 are print functions like \n",
    "\n",
    "```print(\"This prints an output in Python 3\")```\n",
    "\n",
    "***\n",
    "\n",
    "### Small overview of working with Jupyter Lab\n",
    "\n",
    "In this course, we make use of Jupyter Notebooks which allow you to combine executable code with text in \n",
    "one document, increasing code-readibility and documentation.\n",
    "\n",
    "In Jupyter Notebooks, you have different kinds of __cells__ you can make use of: __Code__, __Markdown__, \n",
    "and __Raw__. In order to select a cell for execution you can just click on the relevant part of the \n",
    "notebook and a blue bar on the left will highlight the currently selected cell like in the image below.\n",
    "\n",
    "![Cell Example](images/cell_example.png)\n",
    "\n",
    "Try to run the following code cell with &#9654; / ```Run Selected Cells``` in the panel above or *Shift+Enter*!"
   ]
  },
  {
   "cell_type": "code",
   "execution_count": null,
   "metadata": {
    "ExecuteTime": {
     "end_time": "2023-09-20T06:43:14.261568Z",
     "start_time": "2023-09-20T06:43:14.252906Z"
    },
    "tags": []
   },
   "outputs": [],
   "source": [
    "print(\"It works!\")"
   ]
  },
  {
   "cell_type": "markdown",
   "metadata": {},
   "source": [
    "You can stop the execution of a cell with &#9632; / ```Interrupt Kernel``` in the panel above!\n",
    "\n",
    "***\n",
    "\n",
    "### Markdown mode\n",
    "\n",
    "Try to add a cell below, change to __Markdown__ mode and write a note! \n",
    "\n",
    "1. Add a cell with $+$ in the panel above or *Esc+B*\n",
    "2. Change to __Markdown__ in the panel above (drop-down list) or *Esc+M*\n",
    "3. As before, run the cell with &#9654; in the panel above or *Shift+Enter*!\n",
    "\n",
    "You can make notes inside the notebooks if you like! In order to edit a Markdown cell double-click\n",
    "somewhere in the cell! \n",
    "\n",
    "In Markdown mode you can use the following special characters:"
   ]
  },
  {
   "cell_type": "markdown",
   "metadata": {},
   "source": [
    "# Title\n",
    "## Subtitle\n",
    "\n",
    "* bullet point 1\n",
    "* bullet point 2\n",
    "\n",
    "_italic font_\n",
    "__bold__\n",
    "\n",
    "```highlighted code```\n",
    "\n",
    "*** (that's a separator line)"
   ]
  },
  {
   "cell_type": "markdown",
   "metadata": {
    "tags": []
   },
   "source": [
    "You can also use $\\LaTeX$ if you want, like  $\\sum_{k=0}^\\infty q^k = \\frac{1}{1-q}$ (double-click here to see how it is used).\n",
    "\n",
    "***\n",
    "\n",
    "### Code mode\n",
    "\n",
    "Creating a __Code__ cell works similarly. You can make use of it later on!\n",
    "\n",
    "1. Add a cell with $+$ in the panel above or *Esc+B*\n",
    "2. Change to __Code__ in the panel above (drop-down list) or *Esc+Y*\n",
    "3. Again, run the cell with &#9654; in the panel above or *Shift+Enter*!\n",
    "\n",
    "***\n",
    "\n",
    "### Final Remarks:\n",
    "\n",
    "* Delete a cell with right-click on the cell and the \"Delete Cells\" option\n",
    "* __Be careful which cells you delete__ because it might not be possible to retrieve them!\n",
    "* In case, you accidently deleted something try _Esc+Z_ to retrieve a cell or _Ctrl+Z_ to retrieve changes within a cell\n",
    "* Save your notebooks with the _save icon_ in the panel above or with _Ctrl+S_! \n",
    "__Try to save after every bigger change!__ Depending on your machine, Jupyter Lab might crash from time to time.\n",
    "* Try not to open too many windows in Jupyter Lab. This might lead to a crash sometimes. \n",
    "\n",
    "***\n",
    "\n",
    "### Help! I don't know why cells are not executed or give errors!\n",
    "\n",
    "* __Cells are not responding__: If the execution of a code cell does not stop for some reason, i.e. the symbol on the left of your code cell looks like ```[*]:``` for a long time, stop the cell execution with &#9632; / ```Interrupt Kernel``` in the panel above! \n",
    "* __You get weird errors and don't know how to continue__: You can restart your kernel (i.e. erase all code executions and start from scratch) by going to ```Kernel``` and selecting ```Restart Kernel...```. Please note that you might need to execute all the cells up the cell which you want to rerun. \n",
    "\n",
    "***\n",
    "\n",
    "### The Zen of Python\n",
    "\n",
    "Run the next cell to learn what kind of philosophy programming in Python \n",
    "is supposed to follow."
   ]
  },
  {
   "cell_type": "code",
   "execution_count": null,
   "metadata": {
    "ExecuteTime": {
     "end_time": "2023-09-20T06:43:21.409232Z",
     "start_time": "2023-09-20T06:43:21.403252Z"
    },
    "tags": []
   },
   "outputs": [],
   "source": [
    "import this"
   ]
  },
  {
   "cell_type": "markdown",
   "metadata": {},
   "source": [
    "***\n",
    "### Final Test\n",
    "\n",
    "Please execute the following cells to check whether you are all set up for the \n",
    "course! \n",
    "\n",
    "First, you multiply a vector $$ \\begin{pmatrix}1 \\\\ 2 \\\\ 3 \\end{pmatrix} $$ with a scalar value $5$, which of course should result in the output \n",
    "$$ \\begin{pmatrix}5 \\\\ 10 \\\\ 15 \\end{pmatrix} $$ (printed out as ```[5 10 15]```)."
   ]
  },
  {
   "cell_type": "code",
   "execution_count": null,
   "metadata": {
    "ExecuteTime": {
     "end_time": "2023-09-20T06:43:24.999306Z",
     "start_time": "2023-09-20T06:43:24.995581Z"
    },
    "tags": []
   },
   "outputs": [],
   "source": [
    "import numpy as np\n",
    "\n",
    "vector = np.array([1,2,3])\n",
    "scalar = 5\n",
    "\n",
    "print(vector*scalar)"
   ]
  },
  {
   "cell_type": "markdown",
   "metadata": {},
   "source": [
    "Lastly, let's check whether all libraries are available which we will use later on. If one of these is missing, try to install it!"
   ]
  },
  {
   "cell_type": "code",
   "execution_count": null,
   "metadata": {
    "ExecuteTime": {
     "end_time": "2023-09-20T06:43:27.431183Z",
     "start_time": "2023-09-20T06:43:27.191205Z"
    },
    "tags": []
   },
   "outputs": [],
   "source": [
    "import numpy \n",
    "import pandas\n",
    "import matplotlib\n",
    "import seaborn\n",
    "import scipy\n",
    "import sklearn\n",
    "\n",
    "print(\"All there!\")"
   ]
  }
 ],
 "metadata": {
  "kernelspec": {
   "display_name": "Python 3 (ipykernel)",
   "language": "python",
   "name": "python3"
  },
  "language_info": {
   "codemirror_mode": {
    "name": "ipython",
    "version": 3
   },
   "file_extension": ".py",
   "mimetype": "text/x-python",
   "name": "python",
   "nbconvert_exporter": "python",
   "pygments_lexer": "ipython3",
   "version": "3.11.5"
  }
 },
 "nbformat": 4,
 "nbformat_minor": 4
}
