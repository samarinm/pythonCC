{
 "cells": [
  {
   "cell_type": "markdown",
   "metadata": {},
   "source": [
    "# 5. Plotting\n",
    "\n",
    "In the fifth section we have a look at visualisation and plotting\n",
    "in Python. In this section wie foucs on __Matplotlib__ which is the \n",
    "standard library for plotting in Python. A popular alternative is \n",
    "__seaborn__ which can conveniently be combined with the Pandas library \n",
    "and therefore will be considered in a following section.\n",
    "\n",
    "Here, we will cover some of the basics for plotting. If you want to learn more\n",
    "on the different plot types like contour-plots or 3D plots, have a look at these \n",
    "[example plots](https://matplotlib.org/3.1.1/tutorials/introductory/sample_plots.html).\n",
    "For more in-depth tutorials check the\n",
    "[Matplotlib tutorial overview](https://matplotlib.org/3.1.1/tutorials/index.html).\n",
    "\n",
    "In this part we learn\n",
    "\n",
    "* how to import libraries and\n",
    "* about different types of plots.\n",
    "\n",
    "\n",
    "Keywords: ```import```, ```matplotlib.pyplot```, ```plt.plot```, \n",
    "```plt.savefig```, ```plt.scatter```, ```plt.bar```, ```plt.barh```, \n",
    "```plt.hist```, ```plt.hist2d```, ```plt.imshow```,  ```plt.subplots```, ```plot_surface```\n",
    "\n",
    "***\n",
    "## Import a library\n",
    "\n",
    "In order to import a library, sometimes also referred to as module, \n",
    "the library needs to be installed and imported with the ```import``` \n",
    "keyword.\n",
    "\n",
    "```Python\n",
    "import matplotlib\n",
    "```\n",
    "\n",
    "Often, libraries comprise a great variety of sub-modules which provide\n",
    "a particular functionality. For plotting, the module would be ```pyplot```.\n",
    "\n",
    "```Python\n",
    "import matplotlib.pyplot as plt\n",
    "```\n",
    "\n",
    "#### It is common\n",
    "to use an abbreviation for libraries. Instead of always writing the full\n",
    "library name whenever some functionality of the library is used, we can use \n",
    "```plt``` if the library was imported with the keyword ```as``` + abbreviation.\n",
    "\n",
    "Another way to import only as specific sub-module uses the ```from``` keyword.\n",
    "\n",
    "```Python\n",
    "from matplotlib import table\n",
    "```\n",
    "\n",
    "For example, the ```table``` module provides additional functionality to add a table to a plot.\n",
    "\n",
    "***\n",
    "## Matplotlib\n",
    "\n",
    "Let us import the pyplot module and do some first plots."
   ]
  },
  {
   "cell_type": "code",
   "execution_count": null,
   "metadata": {
    "tags": []
   },
   "outputs": [],
   "source": [
    "import matplotlib.pyplot as plt"
   ]
  },
  {
   "cell_type": "code",
   "execution_count": null,
   "metadata": {
    "tags": []
   },
   "outputs": [],
   "source": [
    "x = [1,2,3,4,5,6,7,8]\n",
    "y = [1,4,9,16,25,36,49,64]"
   ]
  },
  {
   "cell_type": "code",
   "execution_count": null,
   "metadata": {
    "tags": []
   },
   "outputs": [],
   "source": [
    "plt.plot(x,y)\n",
    "plt.show()"
   ]
  },
  {
   "cell_type": "code",
   "execution_count": null,
   "metadata": {
    "tags": []
   },
   "outputs": [],
   "source": [
    "z = [-64,-27,-8,-1,0,1,8,27]\n",
    "\n",
    "plt.plot(x,y, color='blue')\n",
    "plt.plot(x,z, color='orange')\n",
    "\n",
    "plt.show()"
   ]
  },
  {
   "cell_type": "code",
   "execution_count": null,
   "metadata": {
    "tags": []
   },
   "outputs": [],
   "source": [
    "plt.plot(x, y, label = 'x^2', marker = 'o')\n",
    "plt.plot(x, z, label = '(x-5)^3', marker = 'X')\n",
    "\n",
    "plt.xlabel('x values')\n",
    "plt.ylabel('y values')\n",
    "\n",
    "plt.title('Example Title')\n",
    "\n",
    "plt.legend()\n",
    "\n",
    "plt.grid()\n",
    "\n",
    "plt.show()"
   ]
  },
  {
   "cell_type": "code",
   "execution_count": null,
   "metadata": {
    "tags": []
   },
   "outputs": [],
   "source": [
    "random_colours = [0.404, 0.994, 0.138, 0.383, 0.537, 0.238, 0.883, 0.742]\n",
    "\n",
    "plt.scatter(x,z, c=random_colours)\n",
    "\n",
    "plt.savefig(\"data/saved_plot.png\", dpi = 150)\n",
    "print(\"Plot saved to file!\")"
   ]
  },
  {
   "cell_type": "markdown",
   "metadata": {},
   "source": [
    "#### Note \n",
    "that there are different ways of encoding colours. There are built-in\n",
    "colour names like ```'red'```, you can use HTML hex string ```'#FFFFFF'``` \n",
    "or values between 0 and 1 and some other ways."
   ]
  },
  {
   "cell_type": "markdown",
   "metadata": {},
   "source": [
    "Saving a plot can be done with ```plt.savefig```."
   ]
  },
  {
   "cell_type": "code",
   "execution_count": null,
   "metadata": {
    "tags": []
   },
   "outputs": [],
   "source": [
    "categories = ['a', 'b', 'c', 'd', 'e']\n",
    "count = [10, 15, 1, 5, 7]\n",
    "\n",
    "our_colours = ['green','purple','orange','brown','black']\n",
    "\n",
    "plt.bar(categories, count, color=our_colours)\n",
    "plt.show()"
   ]
  },
  {
   "cell_type": "code",
   "execution_count": null,
   "metadata": {
    "tags": []
   },
   "outputs": [],
   "source": [
    "plt.barh(categories, count, color=our_colours)\n",
    "plt.show()"
   ]
  },
  {
   "cell_type": "markdown",
   "metadata": {},
   "source": [
    "In the following we have two lists with 50 random numbers drawn\n",
    "from a standard normal distribution $\\mathcal{N}(\\mu=0,\\sigma=1)$."
   ]
  },
  {
   "cell_type": "code",
   "execution_count": null,
   "metadata": {
    "tags": []
   },
   "outputs": [],
   "source": [
    "random_normal_1 = [0.6612, -0.5364, -0.4819,  0.3127, -3.1218, -1.3585, -0.1426,\n",
    "                   -0.217 , -0.0329,  1.8321,  0.3524,  0.2366,  1.4785,  1.5543,\n",
    "                   -1.1106,  0.8238,  0.6653,  0.7148, -1.2308,  2.0954, -0.6032,\n",
    "                   1.6136, -0.254 , -1.5159, -0.1172,  0.4954, -0.7026,  0.3951,\n",
    "                   -1.1233, -1.7156, -0.2711,  0.0862, -1.0905,  0.1125, -0.9536,\n",
    "                   0.0502, -0.4832,  1.3339,  0.4802, -0.7497, -1.3208,  0.3322,\n",
    "                   -0.2666,  0.6362, -1.1183,  0.2645,  0.0931, -1.1962, -0.8989,\n",
    "                   -0.0454]\n",
    "\n",
    "random_normal_2 = [-1.1317, -0.6985, -1.2833, -1.0344,  0.8587, -1.1286,  0.4251,\n",
    "                   1.0161, -3.1386, -0.492 ,  1.6102,  0.474 , -2.3115, -0.4532,\n",
    "                   -0.8317, -0.2631, -0.2534,  0.1046, -0.3384, -1.148 , -0.5277,\n",
    "                   -0.1208,  0.1743, -0.6389, -0.0851,  1.6269,  0.7295,  0.3874,\n",
    "                   0.1361,  0.1586, -0.0874, -0.7312,  1.2467,  0.7123, -1.1726,\n",
    "                   0.439 , -0.5257,  0.4521,  0.8294,  2.1029,  0.511 ,  2.141 ,\n",
    "                   -0.6132,  2.0561, -0.0245,  1.6829,  1.1089,  0.9553, -0.4413,\n",
    "                   -0.4629]"
   ]
  },
  {
   "cell_type": "markdown",
   "metadata": {},
   "source": [
    "We want to display the distribution of the random samples \n",
    "with a __histogram__ and aggregate the data in 20 bins."
   ]
  },
  {
   "cell_type": "code",
   "execution_count": null,
   "metadata": {
    "tags": []
   },
   "outputs": [],
   "source": [
    "plt.hist(random_normal_1, bins=10)\n",
    "plt.show()"
   ]
  },
  {
   "cell_type": "code",
   "execution_count": null,
   "metadata": {
    "tags": []
   },
   "outputs": [],
   "source": [
    "plt.hist2d(random_normal_1, random_normal_2, cmap='jet', bins=10)\n",
    "plt.colorbar()\n",
    "plt.show()"
   ]
  },
  {
   "cell_type": "markdown",
   "metadata": {},
   "source": [
    "Another way to study the distribution of our random samples\n",
    "are __boxplots__. "
   ]
  },
  {
   "cell_type": "code",
   "execution_count": null,
   "metadata": {
    "tags": []
   },
   "outputs": [],
   "source": [
    "plt.boxplot( [random_normal_1, random_normal_2] )\n",
    "plt.show()"
   ]
  },
  {
   "cell_type": "markdown",
   "metadata": {},
   "source": [
    "\n",
    "Create a figure containing multiple plots with ```subplots```."
   ]
  },
  {
   "cell_type": "code",
   "execution_count": null,
   "metadata": {
    "tags": []
   },
   "outputs": [],
   "source": [
    "fig, axs = plt.subplots(2, 2, figsize=(8, 7))\n",
    "\n",
    "axs[0, 0].boxplot([random_normal_1, random_normal_2])\n",
    "axs[0, 1].scatter(x, z)\n",
    "axs[1, 0].hist(random_normal_2)\n",
    "axs[1, 1].hist2d(random_normal_1, random_normal_2)\n",
    "\n",
    "axs[0, 0].set_title(\"First plot\")\n",
    "axs[0, 1].set_title(\"Scatter plot\")\n",
    "axs[1, 0].set_title(\"Histogram\")\n",
    "axs[1, 1].set_title(\"Two-dimensional histogram\")\n",
    "\n",
    "axs[0, 0].set_ylabel(\"y axis\")\n",
    "axs[1, 1].set_xlabel(\"x axis\")\n",
    "\n",
    "fig.suptitle(\"Figure title\")\n",
    "\n",
    "plt.show()"
   ]
  },
  {
   "cell_type": "markdown",
   "metadata": {},
   "source": [
    "#### Note \n",
    "that setting labels for subplots with is slightly different from\n",
    "setting labels for individual figures. In the former case, we do\n",
    "```ax.set_xlabel(...)``` while in the latter it was ```plt.xlabel(...)```.\n",
    "There more such differences for subplots.\n",
    "\n",
    "Visualise a matrix with ```imshow```."
   ]
  },
  {
   "cell_type": "code",
   "execution_count": null,
   "metadata": {
    "tags": []
   },
   "outputs": [],
   "source": [
    "matrix = [[0,0,0,0,0],\n",
    "          [0,1,1,1,0],\n",
    "          [0,0,1,0,0],\n",
    "          [0,0,1,0,0],\n",
    "          [0,0,0,0,0]]\n",
    "\n",
    "fig, axs = plt.subplots(1,2, figsize=(5,3))    \n",
    "\n",
    "axs[0].imshow(matrix) \n",
    "axs[1].imshow(matrix, interpolation='bilinear')    \n",
    "\n",
    "plt.show()"
   ]
  },
  {
   "cell_type": "markdown",
   "metadata": {},
   "source": [
    "The following example of a __surface plot__ requires\n",
    "some additional libraries."
   ]
  },
  {
   "cell_type": "code",
   "execution_count": null,
   "metadata": {
    "tags": []
   },
   "outputs": [],
   "source": [
    "import numpy as np\n",
    "import matplotlib.pyplot as plt\n",
    "from matplotlib import cm\n",
    "\n",
    "fig = plt.figure()\n",
    "ax = fig.add_subplot(projection='3d')\n",
    "\n",
    "X = [-5, -4, -3, -2, -1,  0,  1,  2,  3,  4]\n",
    "Y = [-5, -4, -3, -2, -1,  0,  1,  2,  3,  4]\n",
    "\n",
    "X, Y = np.meshgrid(X, Y)\n",
    "\n",
    "Z = X**2 + Y**2\n",
    "\n",
    "surface = ax.plot_surface(X, Y, Z, cmap=cm.coolwarm)\n",
    "\n",
    "fig.colorbar(surface, shrink=0.7)\n",
    "\n",
    "plt.show()"
   ]
  },
  {
   "cell_type": "markdown",
   "metadata": {},
   "source": [
    "***\n",
    "## Exercise section\n",
    "\n",
    "(1.) Recreate the plot below by \n",
    "1. sorting ```random_normal_1``` in ascending order and then\n",
    "2. plotting ```random_normal_2``` (on the y-axis) against the sorted \n",
    "```random_normal_1``` (on the x-axis).\n",
    "\n",
    "Note that you need to set the colour, label and markers as well as the \n",
    "axes labels and the title. Furthermore, remember that we discussed previously\n",
    "how to sort list entries.\n",
    "\n",
    "<center><img src=\"images/plot_exercise_result.png\" alt=\"Result\" width=\"350\"/></center>\n",
    "\n",
    "You can reassign the random variables in the next cell:"
   ]
  },
  {
   "cell_type": "code",
   "execution_count": null,
   "metadata": {
    "tags": []
   },
   "outputs": [],
   "source": [
    "import matplotlib.pyplot as plt\n",
    "\n",
    "random_normal_1 = [0.6612, -0.5364, -0.4819,  0.3127, -3.1218, -1.3585, -0.1426,\n",
    "                   -0.217 , -0.0329,  1.8321,  0.3524,  0.2366,  1.4785,  1.5543,\n",
    "                   -1.1106,  0.8238,  0.6653,  0.7148, -1.2308,  2.0954, -0.6032,\n",
    "                   1.6136, -0.254 , -1.5159, -0.1172,  0.4954, -0.7026,  0.3951,\n",
    "                   -1.1233, -1.7156, -0.2711,  0.0862, -1.0905,  0.1125, -0.9536,\n",
    "                   0.0502, -0.4832,  1.3339,  0.4802, -0.7497, -1.3208,  0.3322,\n",
    "                   -0.2666,  0.6362, -1.1183,  0.2645,  0.0931, -1.1962, -0.8989,\n",
    "                   -0.0454]\n",
    "\n",
    "random_normal_2 = [-1.1317, -0.6985, -1.2833, -1.0344,  0.8587, -1.1286,  0.4251,\n",
    "                   1.0161, -3.1386, -0.492 ,  1.6102,  0.474 , -2.3115, -0.4532,\n",
    "                   -0.8317, -0.2631, -0.2534,  0.1046, -0.3384, -1.148 , -0.5277,\n",
    "                   -0.1208,  0.1743, -0.6389, -0.0851,  1.6269,  0.7295,  0.3874,\n",
    "                   0.1361,  0.1586, -0.0874, -0.7312,  1.2467,  0.7123, -1.1726,\n",
    "                   0.439 , -0.5257,  0.4521,  0.8294,  2.1029,  0.511 ,  2.141 ,\n",
    "                   -0.6132,  2.0561, -0.0245,  1.6829,  1.1089,  0.9553, -0.4413,\n",
    "                   -0.4629]"
   ]
  },
  {
   "cell_type": "markdown",
   "metadata": {},
   "source": [
    "Put your solution here:"
   ]
  },
  {
   "cell_type": "code",
   "execution_count": null,
   "metadata": {},
   "outputs": [],
   "source": []
  }
 ],
 "metadata": {
  "kernelspec": {
   "display_name": "Python 3 (ipykernel)",
   "language": "python",
   "name": "python3"
  },
  "language_info": {
   "codemirror_mode": {
    "name": "ipython",
    "version": 3
   },
   "file_extension": ".py",
   "mimetype": "text/x-python",
   "name": "python",
   "nbconvert_exporter": "python",
   "pygments_lexer": "ipython3",
   "version": "3.11.5"
  }
 },
 "nbformat": 4,
 "nbformat_minor": 4
}
