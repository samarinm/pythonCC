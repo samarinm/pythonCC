{
 "cells": [
  {
   "cell_type": "markdown",
   "metadata": {},
   "source": [
    "# 4. Iterations\n",
    "\n",
    "In the fourth section we have a look at performing iterative tasks. We learn \n",
    "how to\n",
    "\n",
    "* define ```for``` and ```while```-loops,\n",
    "* use nested loops,\n",
    "* create list comprehension,\n",
    "* make use of special statements and functions for loops,\n",
    "* work a bit differently with strings (again) and\n",
    "* do debugging with ```print```, ```type```, ```len```.\n",
    "\n",
    "Keywords: ```for```, ```while```, ```range```, ```enumerate```, ```zip```, ```continue```, ```break```, ```pass```, ```format```\n",
    "\n",
    "***\n",
    "\n",
    "## ```for```-Loop\n",
    "\n",
    "A for loop starts with the ```for``` keyword followed a membership expression\n",
    "which specifies the elements of the iteration in order to execute the code \n",
    "in the body. Note that you have to set a colon ```:``` after the \n",
    "membership expression (again). The indentation defines once again which parts\n",
    "of the code belong together and are executed in the loop.\n",
    "\n",
    "The object over whose members the loop iterates are called __iterables__. In \n",
    "other words, an iterable is something you can iterate / loop over."
   ]
  },
  {
   "cell_type": "code",
   "execution_count": null,
   "metadata": {
    "tags": []
   },
   "outputs": [],
   "source": [
    "numbers = [0,1,2,3,4,5,6]\n",
    "\n",
    "for i in numbers:\n",
    "    # This is the loop body which will be executed iteratively.\n",
    "    # numbers is an iterable.\n",
    "    print(i)\n",
    "    print(\"End of this block!\")"
   ]
  },
  {
   "cell_type": "markdown",
   "metadata": {},
   "source": [
    "#### Note \n",
    "that you can use the ```range``` function to achieve the same result as in the previous\n",
    "loop. ```range(7)``` gives an object which provides 7 integers from 0 to 6."
   ]
  },
  {
   "cell_type": "code",
   "execution_count": null,
   "metadata": {
    "tags": []
   },
   "outputs": [],
   "source": [
    "for A in range(7):\n",
    "    # range gives integers 0 to 6, i.e.\n",
    "    # it doese not include 7.\n",
    "    print(A)"
   ]
  },
  {
   "cell_type": "code",
   "execution_count": null,
   "metadata": {
    "tags": []
   },
   "outputs": [],
   "source": [
    "num = 100\n",
    "\n",
    "for num in range(7):\n",
    "    # num = 0\n",
    "    # num = 1\n",
    "    # Perform a calculation\n",
    "    res = num**2\n",
    "    print(res)\n",
    "    \n",
    "print(\"After the loop 'res' is\", res)"
   ]
  },
  {
   "cell_type": "code",
   "execution_count": null,
   "metadata": {
    "tags": []
   },
   "outputs": [],
   "source": [
    "for letter in 'string':\n",
    "    print(letter)"
   ]
  },
  {
   "cell_type": "code",
   "execution_count": null,
   "metadata": {
    "tags": []
   },
   "outputs": [],
   "source": [
    "country_codes = {'Switzerland': 41, 'France': 33, 'Italy': 39, \n",
    "                 'UK': 44, 'Germany': 49}\n",
    "\n",
    "for k in country_codes:\n",
    "    # This block belongs to the loop.\n",
    "    print(k)\n",
    "    \n",
    "# This part is executed after the loop.\n",
    "print(\"\\nThis just printed the keys of the dictionary.\")"
   ]
  },
  {
   "cell_type": "code",
   "execution_count": null,
   "metadata": {
    "tags": []
   },
   "outputs": [],
   "source": [
    "print(country_codes.items())"
   ]
  },
  {
   "cell_type": "code",
   "execution_count": null,
   "metadata": {
    "tags": []
   },
   "outputs": [],
   "source": [
    "for a in country_codes.items():\n",
    "    print(a)\n",
    "    k = a[0]\n",
    "    v = a[1]\n",
    "    print(k,v)\n",
    "    print(\"---\")"
   ]
  },
  {
   "cell_type": "code",
   "execution_count": null,
   "metadata": {
    "tags": []
   },
   "outputs": [],
   "source": [
    "for k,v in country_codes.items():\n",
    "    print(k,v)\n",
    "    \n",
    "print(\"\\nThis printed keys and values of the dictionary.\")"
   ]
  },
  {
   "cell_type": "code",
   "execution_count": null,
   "metadata": {
    "tags": []
   },
   "outputs": [],
   "source": [
    "for v in country_codes.values():\n",
    "    print(v)\n",
    "    \n",
    "for k in country_codes.keys():\n",
    "    print(k)"
   ]
  },
  {
   "cell_type": "markdown",
   "metadata": {},
   "source": [
    "#### The two functions\n",
    "```enumerate``` and ```zip``` provide some useful functionality\n",
    "for loops. The two functions take iterables as arguments. Let's\n",
    "investigate what they do below."
   ]
  },
  {
   "cell_type": "code",
   "execution_count": null,
   "metadata": {
    "tags": []
   },
   "outputs": [],
   "source": [
    "colours = ['green', 'red', 'blue', 'yellow']\n",
    "\n",
    "for col in colours:\n",
    "    print(col)\n",
    "\n",
    "print(\"\\nBelow with enumeration!\\n\")\n",
    "    \n",
    "for index_of_enum, col in enumerate(colours):\n",
    "    print(index_of_enum, col)\n",
    "    \n",
    "print(\"\\nNew Example:\\n\")\n",
    "    \n",
    "for e in enumerate(colours):\n",
    "    print(e)"
   ]
  },
  {
   "cell_type": "code",
   "execution_count": null,
   "metadata": {
    "tags": []
   },
   "outputs": [],
   "source": [
    "constants = [2.71, 3.14, 1.61]\n",
    "names = ['e','pi','phi']\n",
    "\n",
    "for n, c in zip(names, constants):\n",
    "    print(n,c)"
   ]
  },
  {
   "cell_type": "code",
   "execution_count": null,
   "metadata": {
    "tags": []
   },
   "outputs": [],
   "source": [
    "my_dict = dict()\n",
    "\n",
    "for n, c in zip(names, constants):\n",
    "    my_dict[n] = c\n",
    "    \n",
    "print(my_dict)"
   ]
  },
  {
   "cell_type": "code",
   "execution_count": null,
   "metadata": {
    "tags": []
   },
   "outputs": [],
   "source": [
    "constants = [2.71, 3.14, 1.61]\n",
    "names = ['e','pi','phi']\n",
    "colours = ['green', 'red', 'blue', 'yellow']\n",
    "\n",
    "for n, c, col in zip(names, constants, colours):\n",
    "    print(n,c,col)"
   ]
  },
  {
   "cell_type": "code",
   "execution_count": null,
   "metadata": {
    "tags": []
   },
   "outputs": [],
   "source": [
    "const_dict = {'e':2.71, 'pi':3.14, 'phi':1.61}\n",
    "\n",
    "for k,v in const_dict.items():\n",
    "    print(k,v)"
   ]
  },
  {
   "cell_type": "markdown",
   "metadata": {},
   "source": [
    "### Nested loops"
   ]
  },
  {
   "cell_type": "code",
   "execution_count": null,
   "metadata": {
    "tags": []
   },
   "outputs": [],
   "source": [
    "for i in ['a','b','c']:\n",
    "    print(\"----\")\n",
    "    \n",
    "    for j in range(6,8):\n",
    "        print(\"i =\", i, \"and j =\", j)\n",
    "        \n",
    "print(\"Continue\")"
   ]
  },
  {
   "cell_type": "code",
   "execution_count": null,
   "metadata": {
    "tags": []
   },
   "outputs": [],
   "source": [
    "help(range)"
   ]
  },
  {
   "cell_type": "markdown",
   "metadata": {},
   "source": [
    "***\n",
    "## ```While```-Loop\n",
    "\n",
    "A while loop starts with the ```while``` keyword and a\n",
    "conditional statement, ending with a colon ```:```. If the \n",
    "condition is fulfilled, the loop body is executed until the\n",
    "condition is no longer fulfilled. As before, the indentation \n",
    "signals what belongs to the loop and what not."
   ]
  },
  {
   "cell_type": "code",
   "execution_count": null,
   "metadata": {
    "tags": []
   },
   "outputs": [],
   "source": [
    "counter = 0 \n",
    "\n",
    "while counter < 10:\n",
    "    counter = counter + 1\n",
    "    \n",
    "    print(counter)\n",
    "\n",
    "print(\"\\n\", counter, \"is the final value of counter.\")"
   ]
  },
  {
   "cell_type": "markdown",
   "metadata": {},
   "source": [
    "The ```while``` loop is well-suited for task which __depend on a condition__,\n",
    "whereas the ```for``` loop is used when a __certain number of repetitions__ is\n",
    "required or all elements of an object need to be considered."
   ]
  },
  {
   "cell_type": "markdown",
   "metadata": {},
   "source": [
    "***\n",
    "## List comprehension\n",
    "A list comprehension is a concise way to perform a loop and store the result in a list. \n",
    "The following loop"
   ]
  },
  {
   "cell_type": "code",
   "execution_count": null,
   "metadata": {
    "tags": []
   },
   "outputs": [],
   "source": [
    "result_list = []\n",
    "\n",
    "for i in range(10):\n",
    "    result_list.append(i**2)\n",
    "\n",
    "print(result_list)"
   ]
  },
  {
   "cell_type": "markdown",
   "metadata": {},
   "source": [
    "can be also realised with"
   ]
  },
  {
   "cell_type": "code",
   "execution_count": null,
   "metadata": {
    "tags": []
   },
   "outputs": [],
   "source": [
    "result_list = [ i**2 for i in range(10) ]\n",
    "\n",
    "print(result_list)"
   ]
  },
  {
   "cell_type": "markdown",
   "metadata": {},
   "source": [
    "You can even use conditions, e.g. that ```i``` should be larger than 3 \n",
    "for storing the result in the list"
   ]
  },
  {
   "cell_type": "code",
   "execution_count": null,
   "metadata": {
    "tags": []
   },
   "outputs": [],
   "source": [
    "[i**2 for i in range(10) if i > 3]"
   ]
  },
  {
   "cell_type": "code",
   "execution_count": null,
   "metadata": {
    "tags": []
   },
   "outputs": [],
   "source": [
    "[i**2 for i in range(4,10)]"
   ]
  },
  {
   "cell_type": "markdown",
   "metadata": {},
   "source": [
    "#### Some special statements\n",
    "you might find useful when working with loops. This works both with ```for```\n",
    "and ```while``` loops."
   ]
  },
  {
   "cell_type": "code",
   "execution_count": null,
   "metadata": {
    "tags": []
   },
   "outputs": [],
   "source": [
    "for i in range(10):\n",
    "    if i%2:\n",
    "        continue\n",
    "        print(\"Something\")\n",
    "    print(i)"
   ]
  },
  {
   "cell_type": "code",
   "execution_count": null,
   "metadata": {
    "tags": []
   },
   "outputs": [],
   "source": [
    "print(0%2, 1%2, 2%2, 3%2)"
   ]
  },
  {
   "cell_type": "markdown",
   "metadata": {},
   "source": [
    "#### With \n",
    "```continue``` the loop is stopped in the execution of the loop body\n",
    "at that point and the loop continues with the next element of the loop.\n"
   ]
  },
  {
   "cell_type": "code",
   "execution_count": null,
   "metadata": {
    "tags": []
   },
   "outputs": [],
   "source": [
    "for i in range(10):\n",
    "    if i%2:\n",
    "        break\n",
    "    print(i)\n",
    "    \n",
    "print(\"We are here now.\")"
   ]
  },
  {
   "cell_type": "markdown",
   "metadata": {},
   "source": [
    "#### With \n",
    "```break``` the loop is stopped completely. All other elements of the loop\n",
    "which should follow are ignored.\n"
   ]
  },
  {
   "cell_type": "code",
   "execution_count": null,
   "metadata": {
    "tags": []
   },
   "outputs": [],
   "source": [
    "for i in range(10):\n",
    "    if i%2:\n",
    "        pass\n",
    "    print(i)"
   ]
  },
  {
   "cell_type": "markdown",
   "metadata": {},
   "source": [
    "#### With \n",
    "```pass``` the loop is executed as usual. When this statement\n",
    "is executed nothing happens. ```pass``` is often useful as a placeholder.\n",
    "Suppose you want to incorporate some functionality for the case ```i%2```, \n",
    "but you didn't have the time yet. Just set ```pass``` in the body such that\n",
    "your code can be executed without a problem.\n",
    "\n",
    "***\n",
    "## Even more on strings\n",
    "\n",
    "So far, when combining strings with other variables\n",
    "of any type (```int```, ```float```, ```str```), we used something like "
   ]
  },
  {
   "cell_type": "code",
   "execution_count": null,
   "metadata": {
    "tags": []
   },
   "outputs": [],
   "source": [
    "\"Our result deviates by \" + str(0.5) + \" percent.\""
   ]
  },
  {
   "cell_type": "markdown",
   "metadata": {},
   "source": [
    "or"
   ]
  },
  {
   "cell_type": "code",
   "execution_count": null,
   "metadata": {
    "tags": []
   },
   "outputs": [],
   "source": [
    "print(\"The integers\", 3, \"and\", 7, \"are prime numbers.\")"
   ]
  },
  {
   "cell_type": "markdown",
   "metadata": {},
   "source": [
    "We have seen a similar example for the nested loop. You can achieve \n",
    "the same output as before with the following ```print``` statement. \n",
    "It makes use of the ```format``` method for strings and replaces \n",
    "each ```{}``` in the string with the specified variable accompanied by\n",
    "format (in the same order).\n",
    "\n",
    "This allows to adjust the formatting a little bit more convenient."
   ]
  },
  {
   "cell_type": "code",
   "execution_count": null,
   "metadata": {
    "tags": []
   },
   "outputs": [],
   "source": [
    "for i in ['a','b','c']:\n",
    "    print(\"----\")\n",
    "    \n",
    "    for j in range(6,8):\n",
    "        print(\"i = {} and j = {}.\".format(i,j))\n",
    "        \n",
    "        # Before:\n",
    "        # print(\"i =\", i, \"and j =\", j)"
   ]
  },
  {
   "cell_type": "markdown",
   "metadata": {},
   "source": [
    "#### Note \n",
    "that this works for any string!"
   ]
  },
  {
   "cell_type": "code",
   "execution_count": null,
   "metadata": {
    "tags": []
   },
   "outputs": [],
   "source": [
    "experiment_counter = 4\n",
    "date = '05-11-19'\n",
    "\n",
    "'{}_Analysis_{}.csv'.format(date, experiment_counter)"
   ]
  },
  {
   "cell_type": "markdown",
   "metadata": {},
   "source": [
    "Since Python 3.6 you can also use *f-strings* like this"
   ]
  },
  {
   "cell_type": "code",
   "execution_count": null,
   "metadata": {
    "tags": []
   },
   "outputs": [],
   "source": [
    "f'{date}_Analysis_{experiment_counter}.csv'"
   ]
  },
  {
   "cell_type": "code",
   "execution_count": null,
   "metadata": {
    "tags": []
   },
   "outputs": [],
   "source": [
    "for i in ['a','b','c']:\n",
    "    for j in range(6,8):\n",
    "        print(f\"i = {i} and j = {j}.\")"
   ]
  },
  {
   "cell_type": "markdown",
   "metadata": {},
   "source": [
    "***\n",
    "## Debugging _light_\n",
    "\n",
    "It is easy to incorporate some unintended behaviour into your \n",
    "program, espacially when using loops. There are _debugging_ libraries and software\n",
    "which goes through your code (line by line) and is capable of identifying\n",
    "problems with variable assignment, spelling mistakes, missed syntactical \n",
    "elements like brackets or colons etc. without the necessity to run your \n",
    "code every time completely from the beginning. \n",
    "\n",
    "For some mistakes, you can rely on the issued error messages. However, \n",
    "a very common and quick way to do debugging is to use the ```print```, ```type```\n",
    "and ```len``` functions. The underlying idea is to test whether, some\n",
    "of the intermediate steps have the right size or length, are of the correct\n",
    "type or directly have a look at a variable to identify possible problems."
   ]
  },
  {
   "cell_type": "code",
   "execution_count": null,
   "metadata": {
    "tags": []
   },
   "outputs": [],
   "source": [
    "initial_list = []\n",
    "\n",
    "for i in range(8):\n",
    "    calc_1 = pow(i,2)                # calc_1 = i**2\n",
    "    initial_list = calc_1\n",
    "    \n",
    "new_variable = initial_list[2]\n",
    "\n",
    "other_variable = new_variable + 200"
   ]
  },
  {
   "cell_type": "code",
   "execution_count": null,
   "metadata": {
    "tags": []
   },
   "outputs": [],
   "source": [
    "initial_list = []\n",
    "\n",
    "for i in range(8):\n",
    "    calc_1 = pow(i,2)\n",
    "    initial_list = calc_1\n",
    "    \n",
    "print(type(initial_list))\n",
    "\n",
    "print(initial_list)\n",
    "\n",
    "# Comment out the problematic line    \n",
    "# new_variable = initial_list[2]\n",
    "\n",
    "# other_variable = new_variable + 200"
   ]
  },
  {
   "cell_type": "markdown",
   "metadata": {},
   "source": [
    "Here goes the correction:"
   ]
  },
  {
   "cell_type": "code",
   "execution_count": null,
   "metadata": {},
   "outputs": [],
   "source": []
  },
  {
   "cell_type": "code",
   "execution_count": null,
   "metadata": {
    "tags": []
   },
   "outputs": [],
   "source": [
    "print(new_variable, \"and\" , other_variable)"
   ]
  },
  {
   "cell_type": "markdown",
   "metadata": {
    "tags": []
   },
   "source": [
    "#### However, \n",
    "this way of debugging can be very inefficient as you need to \n",
    "execute your code several times and need to know exactly what you want to \n",
    "print or test. A more sophisticated way is to use an interactive source \n",
    "code debugger like [pdb](https://docs.python.org/3/library/pdb.html), \n",
    "the built-in [breakpoint()](https://docs.python.org/3/library/functions.html#breakpoint)\n",
    "function (Python version >=3.7) or the function \n",
    "[embed()](http://ipython.org/ipython-doc/stable/api/generated/IPython.terminal.embed.html) \n",
    "to open an IPython shell within your script. \n",
    "\n",
    "***\n",
    "## Some caveats\n",
    "\n",
    "It is easy to implement a never-ending infinite loop. Infinite loops \n",
    "might occur if the termination criterion is never met, like\n",
    "\n",
    "```Python\n",
    "while True:\n",
    "    print(\"Oh no!\")\n",
    "```\n",
    "\n",
    "Consider the following example:"
   ]
  },
  {
   "cell_type": "code",
   "execution_count": null,
   "metadata": {
    "tags": []
   },
   "outputs": [],
   "source": [
    "counter = 1\n",
    "\n",
    "while counter != 5:\n",
    "    counter = counter*2\n",
    "    print(counter)\n",
    "    \n",
    "    # We include this to prevent the loop\n",
    "    # to run infinitely long:\n",
    "    if counter == 128:\n",
    "        break"
   ]
  },
  {
   "cell_type": "markdown",
   "metadata": {},
   "source": [
    "Another problem which is quickly implemented but overlooked\n",
    "is not using an iterable for loops:"
   ]
  },
  {
   "cell_type": "code",
   "execution_count": null,
   "metadata": {
    "tags": []
   },
   "outputs": [],
   "source": [
    "colours = ['green', 'red', 'blue', 'yellow']\n",
    "\n",
    "for count in len(colours):\n",
    "    print(\"For {} use colour {}.\".format(count+1, colours[count]))"
   ]
  },
  {
   "cell_type": "code",
   "execution_count": null,
   "metadata": {
    "tags": []
   },
   "outputs": [],
   "source": [
    "colours = ['green', 'red', 'blue', 'yellow']\n",
    "\n",
    "for count in range(len(colours)):\n",
    "    print(\"For {} use colour {}.\".format(count+1, colours[count]))"
   ]
  },
  {
   "cell_type": "markdown",
   "metadata": {},
   "source": [
    "***\n",
    "## Exercise section"
   ]
  },
  {
   "cell_type": "markdown",
   "metadata": {},
   "source": [
    "(1.) Write a loop over the elements of the list "
   ]
  },
  {
   "cell_type": "code",
   "execution_count": null,
   "metadata": {
    "tags": []
   },
   "outputs": [],
   "source": [
    "planets = ['Mercury', 'Venus', 'Earth', 'Mars', 'Jupiter', 'Saturn', 'Uranus', 'Neptune']"
   ]
  },
  {
   "cell_type": "markdown",
   "metadata": {},
   "source": [
    "which prints out only those elements whose first letter is either M or N.\n",
    "You can use either ```for``` or ```while```. However, which of the two makes\n",
    "more sense in this task? Put your solution in the following cell:"
   ]
  },
  {
   "cell_type": "code",
   "execution_count": null,
   "metadata": {},
   "outputs": [],
   "source": []
  },
  {
   "cell_type": "markdown",
   "metadata": {},
   "source": [
    "(2.) Identify / print for the following dictionary "
   ]
  },
  {
   "cell_type": "code",
   "execution_count": null,
   "metadata": {},
   "outputs": [],
   "source": [
    "country_codes = {'Switzerland': 41, 'France': 33, 'Italy': 39, 'UK': 44, 'Germany': 49}"
   ]
  },
  {
   "cell_type": "code",
   "execution_count": null,
   "metadata": {},
   "outputs": [],
   "source": []
  },
  {
   "cell_type": "markdown",
   "metadata": {},
   "source": [
    "which country has the country code 39 using a ```for``` loop. Put your solution in the following cell:"
   ]
  },
  {
   "cell_type": "markdown",
   "metadata": {},
   "source": [
    "(3.) Write a list comprehension in which the numbers from 1 to 4 are \n",
    "appended to the string ```'05-11-19_run-'``` such that the resulting \n",
    "list looks like\n",
    "\n",
    "```Python\n",
    "['05-11-19_run-1','05-11-19_run-2','05-11-19_run-3','05-11-19_run-4']\n",
    "```\n",
    "\n",
    "Use the ```format``` method for strings if possible! Put your solution in the following cell:"
   ]
  },
  {
   "cell_type": "code",
   "execution_count": null,
   "metadata": {},
   "outputs": [],
   "source": []
  }
 ],
 "metadata": {
  "kernelspec": {
   "display_name": "Python 3 (ipykernel)",
   "language": "python",
   "name": "python3"
  },
  "language_info": {
   "codemirror_mode": {
    "name": "ipython",
    "version": 3
   },
   "file_extension": ".py",
   "mimetype": "text/x-python",
   "name": "python",
   "nbconvert_exporter": "python",
   "pygments_lexer": "ipython3",
   "version": "3.11.5"
  }
 },
 "nbformat": 4,
 "nbformat_minor": 4
}
