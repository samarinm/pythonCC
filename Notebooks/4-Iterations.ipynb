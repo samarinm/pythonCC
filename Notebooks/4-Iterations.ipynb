{
 "cells": [
  {
   "cell_type": "markdown",
   "metadata": {},
   "source": [
    "# 4. Iterations\n",
    "\n",
    "In the fourth section we have a look at performing iterative tasks. We learn \n",
    "how to\n",
    "\n",
    "* define ```for``` and ```while```-loops,\n",
    "* use nested loops,\n",
    "* create list comprehension,\n",
    "* make use of special statements and functions for loops,\n",
    "* work a bit differently with strings (again) and\n",
    "* do debugging with ```print```, ```type```, ```len```.\n",
    "\n",
    "Keywords: ```for```, ```while```, ```range```, ```enumerate```, ```zip```, ```continue```, ```break```, ```pass```, ```format```\n",
    "\n",
    "***\n",
    "\n",
    "## ```for```-Loop\n",
    "\n",
    "A for loop starts with the ```for``` keyword followed a membership expression\n",
    "which specifies the elements of the iteration in order to execute the code \n",
    "in the body. Note that you have to set a colon ```:``` after the \n",
    "membership expression (again). The indentation defines once again which parts\n",
    "of the code belong together and are executed in the loop.\n",
    "\n",
    "The object over whose members the loop iterates are called __iterables__. In \n",
    "other words, an iterable is something you can iterate / loop over."
   ]
  },
  {
   "cell_type": "code",
   "execution_count": 1,
   "metadata": {
    "tags": []
   },
   "outputs": [
    {
     "name": "stdout",
     "output_type": "stream",
     "text": [
      "0\n",
      "End of this block!\n",
      "1\n",
      "End of this block!\n",
      "2\n",
      "End of this block!\n",
      "3\n",
      "End of this block!\n",
      "4\n",
      "End of this block!\n",
      "5\n",
      "End of this block!\n",
      "6\n",
      "End of this block!\n"
     ]
    }
   ],
   "source": [
    "numbers = [0,1,2,3,4,5,6]\n",
    "\n",
    "for i in numbers:\n",
    "    # This is the loop body which will be executed iteratively.\n",
    "    # numbers is an iterable.\n",
    "    print(i)\n",
    "    print(\"End of this block!\")"
   ]
  },
  {
   "cell_type": "markdown",
   "metadata": {},
   "source": [
    "#### Note \n",
    "that you can use the ```range``` function to achieve the same result as in the previous\n",
    "loop. ```range(7)``` gives an object which provides 7 integers from 0 to 6."
   ]
  },
  {
   "cell_type": "code",
   "execution_count": 2,
   "metadata": {
    "tags": []
   },
   "outputs": [
    {
     "name": "stdout",
     "output_type": "stream",
     "text": [
      "0\n",
      "1\n",
      "2\n",
      "3\n",
      "4\n",
      "5\n",
      "6\n"
     ]
    }
   ],
   "source": [
    "for A in range(7):\n",
    "    # range gives integers 0 to 6, i.e.\n",
    "    # it doese not include 7.\n",
    "    print(A)"
   ]
  },
  {
   "cell_type": "code",
   "execution_count": 3,
   "metadata": {
    "tags": []
   },
   "outputs": [
    {
     "name": "stdout",
     "output_type": "stream",
     "text": [
      "0\n",
      "1\n",
      "4\n",
      "9\n",
      "16\n",
      "25\n",
      "36\n",
      "After the loop 'res' is 36\n"
     ]
    }
   ],
   "source": [
    "num = 100\n",
    "\n",
    "for num in range(7):\n",
    "    # num = 0\n",
    "    # num = 1\n",
    "    # Perform a calculation\n",
    "    res = num**2\n",
    "    print(res)\n",
    "    \n",
    "print(\"After the loop 'res' is\", res)"
   ]
  },
  {
   "cell_type": "code",
   "execution_count": 4,
   "metadata": {
    "tags": []
   },
   "outputs": [
    {
     "name": "stdout",
     "output_type": "stream",
     "text": [
      "s\n",
      "t\n",
      "r\n",
      "i\n",
      "n\n",
      "g\n"
     ]
    }
   ],
   "source": [
    "for letter in 'string':\n",
    "    print(letter)"
   ]
  },
  {
   "cell_type": "code",
   "execution_count": 5,
   "metadata": {
    "tags": []
   },
   "outputs": [
    {
     "name": "stdout",
     "output_type": "stream",
     "text": [
      "Switzerland\n",
      "France\n",
      "Italy\n",
      "UK\n",
      "Germany\n",
      "\n",
      "This just printed the keys of the dictionary.\n"
     ]
    }
   ],
   "source": [
    "country_codes = {'Switzerland': 41, 'France': 33, 'Italy': 39, \n",
    "                 'UK': 44, 'Germany': 49}\n",
    "\n",
    "for k in country_codes:\n",
    "    # This block belongs to the loop.\n",
    "    print(k)\n",
    "    \n",
    "# This part is executed after the loop.\n",
    "print(\"\\nThis just printed the keys of the dictionary.\")"
   ]
  },
  {
   "cell_type": "code",
   "execution_count": 6,
   "metadata": {
    "tags": []
   },
   "outputs": [
    {
     "name": "stdout",
     "output_type": "stream",
     "text": [
      "dict_items([('Switzerland', 41), ('France', 33), ('Italy', 39), ('UK', 44), ('Germany', 49)])\n"
     ]
    }
   ],
   "source": [
    "print(country_codes.items())"
   ]
  },
  {
   "cell_type": "code",
   "execution_count": 8,
   "metadata": {
    "tags": []
   },
   "outputs": [
    {
     "name": "stdout",
     "output_type": "stream",
     "text": [
      "('Switzerland', 41)\n",
      "Switzerland 41\n",
      "---\n",
      "('France', 33)\n",
      "France 33\n",
      "---\n",
      "('Italy', 39)\n",
      "Italy 39\n",
      "---\n",
      "('UK', 44)\n",
      "UK 44\n",
      "---\n",
      "('Germany', 49)\n",
      "Germany 49\n",
      "---\n"
     ]
    }
   ],
   "source": [
    "for a in country_codes.items():\n",
    "    print(a)\n",
    "    k = a[0]\n",
    "    v = a[1]\n",
    "    print(k,v)\n",
    "    print(\"---\")"
   ]
  },
  {
   "cell_type": "code",
   "execution_count": 10,
   "metadata": {
    "tags": []
   },
   "outputs": [
    {
     "name": "stdout",
     "output_type": "stream",
     "text": [
      "Switzerland 41\n",
      "France 33\n",
      "Italy 39\n",
      "UK 44\n",
      "Germany 49\n",
      "\n",
      "This printed keys and values of the dictionary.\n"
     ]
    }
   ],
   "source": [
    "for k,v in country_codes.items():\n",
    "    print(k,v)\n",
    "    \n",
    "print(\"\\nThis printed keys and values of the dictionary.\")"
   ]
  },
  {
   "cell_type": "code",
   "execution_count": 14,
   "metadata": {
    "tags": []
   },
   "outputs": [
    {
     "name": "stdout",
     "output_type": "stream",
     "text": [
      "41\n",
      "33\n",
      "39\n",
      "44\n",
      "49\n",
      "Switzerland\n",
      "France\n",
      "Italy\n",
      "UK\n",
      "Germany\n"
     ]
    }
   ],
   "source": [
    "for v in country_codes.values():\n",
    "    print(v)\n",
    "    \n",
    "for k in country_codes.keys():\n",
    "    print(k)"
   ]
  },
  {
   "cell_type": "markdown",
   "metadata": {},
   "source": [
    "#### The two functions\n",
    "```enumerate``` and ```zip``` provide some useful functionality\n",
    "for loops. The two functions take iterables as arguments. Let's\n",
    "investigate what they do below."
   ]
  },
  {
   "cell_type": "code",
   "execution_count": 19,
   "metadata": {
    "tags": []
   },
   "outputs": [
    {
     "name": "stdout",
     "output_type": "stream",
     "text": [
      "green\n",
      "red\n",
      "blue\n",
      "yellow\n",
      "\n",
      "Below with enumeration!\n",
      "\n",
      "0 green\n",
      "1 red\n",
      "2 blue\n",
      "3 yellow\n",
      "\n",
      "New Example:\n",
      "\n",
      "(0, 'green')\n",
      "(1, 'red')\n",
      "(2, 'blue')\n",
      "(3, 'yellow')\n"
     ]
    }
   ],
   "source": [
    "colours = ['green', 'red', 'blue', 'yellow']\n",
    "\n",
    "for col in colours:\n",
    "    print(col)\n",
    "\n",
    "print(\"\\nBelow with enumeration!\\n\")\n",
    "    \n",
    "for index_of_enum, col in enumerate(colours):\n",
    "    print(index_of_enum, col)\n",
    "    \n",
    "print(\"\\nNew Example:\\n\")\n",
    "    \n",
    "for e in enumerate(colours):\n",
    "    print(e)"
   ]
  },
  {
   "cell_type": "code",
   "execution_count": 24,
   "metadata": {
    "tags": []
   },
   "outputs": [
    {
     "name": "stdout",
     "output_type": "stream",
     "text": [
      "e 2.71\n",
      "pi 3.14\n",
      "phi 1.61\n"
     ]
    }
   ],
   "source": [
    "constants = [2.71, 3.14, 1.61]\n",
    "names = ['e','pi','phi']\n",
    "\n",
    "for n, c in zip(names, constants):\n",
    "    print(n,c)"
   ]
  },
  {
   "cell_type": "code",
   "execution_count": 21,
   "metadata": {
    "tags": []
   },
   "outputs": [
    {
     "name": "stdout",
     "output_type": "stream",
     "text": [
      "{'e': 2.71, 'pi': 3.14, 'phi': 1.61}\n"
     ]
    }
   ],
   "source": [
    "my_dict = dict()\n",
    "\n",
    "for n, c in zip(names, constants):\n",
    "    my_dict[n] = c\n",
    "    \n",
    "print(my_dict)"
   ]
  },
  {
   "cell_type": "code",
   "execution_count": 22,
   "metadata": {
    "tags": []
   },
   "outputs": [
    {
     "name": "stdout",
     "output_type": "stream",
     "text": [
      "e 2.71 green\n",
      "pi 3.14 red\n",
      "phi 1.61 blue\n"
     ]
    }
   ],
   "source": [
    "constants = [2.71, 3.14, 1.61]\n",
    "names = ['e','pi','phi']\n",
    "colours = ['green', 'red', 'blue', 'yellow']\n",
    "\n",
    "for n, c, col in zip(names, constants, colours):\n",
    "    print(n,c,col)"
   ]
  },
  {
   "cell_type": "code",
   "execution_count": 23,
   "metadata": {
    "tags": []
   },
   "outputs": [
    {
     "name": "stdout",
     "output_type": "stream",
     "text": [
      "e 2.71\n",
      "pi 3.14\n",
      "phi 1.61\n"
     ]
    }
   ],
   "source": [
    "const_dict = {'e':2.71, 'pi':3.14, 'phi':1.61}\n",
    "\n",
    "for k,v in const_dict.items():\n",
    "    print(k,v)"
   ]
  },
  {
   "cell_type": "markdown",
   "metadata": {},
   "source": [
    "### Nested loops"
   ]
  },
  {
   "cell_type": "code",
   "execution_count": 26,
   "metadata": {
    "tags": []
   },
   "outputs": [
    {
     "name": "stdout",
     "output_type": "stream",
     "text": [
      "----\n",
      "i = 6 and j = a\n",
      "i = 7 and j = a\n",
      "----\n",
      "i = 6 and j = b\n",
      "i = 7 and j = b\n",
      "----\n",
      "i = 6 and j = c\n",
      "i = 7 and j = c\n",
      "Continue\n"
     ]
    }
   ],
   "source": [
    "for i in ['a','b','c']:\n",
    "    print(\"----\")\n",
    "    \n",
    "    for j in range(6,8):\n",
    "        print(\"i =\", i, \"and j =\", j)\n",
    "        \n",
    "print(\"Continue\")"
   ]
  },
  {
   "cell_type": "code",
   "execution_count": null,
   "metadata": {
    "tags": []
   },
   "outputs": [],
   "source": [
    "help(range)"
   ]
  },
  {
   "cell_type": "markdown",
   "metadata": {},
   "source": [
    "***\n",
    "## ```While```-Loop\n",
    "\n",
    "A while loop starts with the ```while``` keyword and a\n",
    "conditional statement, ending with a colon ```:```. If the \n",
    "condition is fulfilled, the loop body is executed until the\n",
    "condition is no longer fulfilled. As before, the indentation \n",
    "signals what belongs to the loop and what not."
   ]
  },
  {
   "cell_type": "code",
   "execution_count": 27,
   "metadata": {
    "tags": []
   },
   "outputs": [
    {
     "name": "stdout",
     "output_type": "stream",
     "text": [
      "1\n",
      "2\n",
      "3\n",
      "4\n",
      "5\n",
      "6\n",
      "7\n",
      "8\n",
      "9\n",
      "10\n",
      "\n",
      " 10 is the final value of counter.\n"
     ]
    }
   ],
   "source": [
    "counter = 0 \n",
    "\n",
    "while counter < 10:\n",
    "    counter = counter + 1\n",
    "    \n",
    "    print(counter)\n",
    "\n",
    "print(\"\\n\", counter, \"is the final value of counter.\")"
   ]
  },
  {
   "cell_type": "markdown",
   "metadata": {},
   "source": [
    "The ```while``` loop is well-suited for task which __depend on a condition__,\n",
    "whereas the ```for``` loop is used when a __certain number of repetitions__ is\n",
    "required or all elements of an object need to be considered."
   ]
  },
  {
   "cell_type": "markdown",
   "metadata": {},
   "source": [
    "***\n",
    "## List comprehension\n",
    "A list comprehension is a concise way to perform a loop and store the result in a list. \n",
    "The following loop"
   ]
  },
  {
   "cell_type": "code",
   "execution_count": 28,
   "metadata": {
    "tags": []
   },
   "outputs": [
    {
     "name": "stdout",
     "output_type": "stream",
     "text": [
      "[0, 1, 4, 9, 16, 25, 36, 49, 64, 81]\n"
     ]
    }
   ],
   "source": [
    "result_list = []\n",
    "\n",
    "for i in range(10):\n",
    "    result_list.append(i**2)\n",
    "\n",
    "print(result_list)"
   ]
  },
  {
   "cell_type": "markdown",
   "metadata": {},
   "source": [
    "can be also realised with"
   ]
  },
  {
   "cell_type": "code",
   "execution_count": 29,
   "metadata": {
    "tags": []
   },
   "outputs": [
    {
     "name": "stdout",
     "output_type": "stream",
     "text": [
      "[0, 1, 4, 9, 16, 25, 36, 49, 64, 81]\n"
     ]
    }
   ],
   "source": [
    "result_list = [ i**2 for i in range(10) ]\n",
    "\n",
    "print(result_list)"
   ]
  },
  {
   "cell_type": "markdown",
   "metadata": {},
   "source": [
    "You can even use conditions, e.g. that ```i``` should be larger than 3 \n",
    "for storing the result in the list"
   ]
  },
  {
   "cell_type": "code",
   "execution_count": 30,
   "metadata": {
    "tags": []
   },
   "outputs": [
    {
     "data": {
      "text/plain": [
       "[16, 25, 36, 49, 64, 81]"
      ]
     },
     "execution_count": 30,
     "metadata": {},
     "output_type": "execute_result"
    }
   ],
   "source": [
    "[i**2 for i in range(10) if i > 3]"
   ]
  },
  {
   "cell_type": "code",
   "execution_count": 32,
   "metadata": {
    "tags": []
   },
   "outputs": [
    {
     "data": {
      "text/plain": [
       "[16, 25, 36, 49, 64, 81]"
      ]
     },
     "execution_count": 32,
     "metadata": {},
     "output_type": "execute_result"
    }
   ],
   "source": [
    "[i**2 for i in range(4,10)]"
   ]
  },
  {
   "cell_type": "markdown",
   "metadata": {},
   "source": [
    "#### Some special statements\n",
    "you might find useful when working with loops. This works both with ```for```\n",
    "and ```while``` loops."
   ]
  },
  {
   "cell_type": "code",
   "execution_count": 35,
   "metadata": {
    "tags": []
   },
   "outputs": [
    {
     "name": "stdout",
     "output_type": "stream",
     "text": [
      "0\n",
      "2\n",
      "4\n",
      "6\n",
      "8\n"
     ]
    }
   ],
   "source": [
    "for i in range(10):\n",
    "    if i%2:\n",
    "        continue\n",
    "        print(\"Something\")\n",
    "    print(i)"
   ]
  },
  {
   "cell_type": "code",
   "execution_count": 33,
   "metadata": {
    "tags": []
   },
   "outputs": [
    {
     "name": "stdout",
     "output_type": "stream",
     "text": [
      "0 1 0 1\n"
     ]
    }
   ],
   "source": [
    "print(0%2, 1%2, 2%2, 3%2)"
   ]
  },
  {
   "cell_type": "markdown",
   "metadata": {},
   "source": [
    "#### With \n",
    "```continue``` the loop is stopped in the execution of the loop body\n",
    "at that point and the loop continues with the next element of the loop.\n"
   ]
  },
  {
   "cell_type": "code",
   "execution_count": 36,
   "metadata": {
    "tags": []
   },
   "outputs": [
    {
     "name": "stdout",
     "output_type": "stream",
     "text": [
      "0\n",
      "We are here now.\n"
     ]
    }
   ],
   "source": [
    "for i in range(10):\n",
    "    if i%2:\n",
    "        break\n",
    "    print(i)\n",
    "    \n",
    "print(\"We are here now.\")"
   ]
  },
  {
   "cell_type": "markdown",
   "metadata": {},
   "source": [
    "#### With \n",
    "```break``` the loop is stopped completely. All other elements of the loop\n",
    "which should follow are ignored.\n"
   ]
  },
  {
   "cell_type": "code",
   "execution_count": 37,
   "metadata": {
    "tags": []
   },
   "outputs": [
    {
     "name": "stdout",
     "output_type": "stream",
     "text": [
      "0\n",
      "1\n",
      "2\n",
      "3\n",
      "4\n",
      "5\n",
      "6\n",
      "7\n",
      "8\n",
      "9\n"
     ]
    }
   ],
   "source": [
    "for i in range(10):\n",
    "    if i%2:\n",
    "        pass\n",
    "    print(i)"
   ]
  },
  {
   "cell_type": "markdown",
   "metadata": {},
   "source": [
    "#### With \n",
    "```pass``` the loop is executed as usual. When this statement\n",
    "is executed nothing happens. ```pass``` is often useful as a placeholder.\n",
    "Suppose you want to incorporate some functionality for the case ```i%2```, \n",
    "but you didn't have the time yet. Just set ```pass``` in the body such that\n",
    "your code can be executed without a problem.\n",
    "\n",
    "***\n",
    "## Even more on strings\n",
    "\n",
    "So far, when combining strings with other variables\n",
    "of any type (```int```, ```float```, ```str```), we used something like "
   ]
  },
  {
   "cell_type": "code",
   "execution_count": 38,
   "metadata": {
    "tags": []
   },
   "outputs": [
    {
     "data": {
      "text/plain": [
       "'Our result deviates by 0.5 percent.'"
      ]
     },
     "execution_count": 38,
     "metadata": {},
     "output_type": "execute_result"
    }
   ],
   "source": [
    "\"Our result deviates by \" + str(0.5) + \" percent.\""
   ]
  },
  {
   "cell_type": "markdown",
   "metadata": {},
   "source": [
    "or"
   ]
  },
  {
   "cell_type": "code",
   "execution_count": 39,
   "metadata": {
    "tags": []
   },
   "outputs": [
    {
     "name": "stdout",
     "output_type": "stream",
     "text": [
      "The integers 3 and 7 are prime numbers.\n"
     ]
    }
   ],
   "source": [
    "print(\"The integers\", 3, \"and\", 7, \"are prime numbers.\")"
   ]
  },
  {
   "cell_type": "markdown",
   "metadata": {},
   "source": [
    "We have seen a similar example for the nested loop. You can achieve \n",
    "the same output as before with the following ```print``` statement. \n",
    "It makes use of the ```format``` method for strings and replaces \n",
    "each ```{}``` in the string with the specified variable accompanied by\n",
    "format (in the same order).\n",
    "\n",
    "This allows to adjust the formatting a little bit more convenient."
   ]
  },
  {
   "cell_type": "code",
   "execution_count": 40,
   "metadata": {
    "tags": []
   },
   "outputs": [
    {
     "name": "stdout",
     "output_type": "stream",
     "text": [
      "----\n",
      "i = a and j = 6.\n",
      "i = a and j = 7.\n",
      "----\n",
      "i = b and j = 6.\n",
      "i = b and j = 7.\n",
      "----\n",
      "i = c and j = 6.\n",
      "i = c and j = 7.\n"
     ]
    }
   ],
   "source": [
    "for i in ['a','b','c']:\n",
    "    print(\"----\")\n",
    "    \n",
    "    for j in range(6,8):\n",
    "        print(\"i = {} and j = {}.\".format(i,j))\n",
    "        \n",
    "        # Before:\n",
    "        # print(\"i =\", i, \"and j =\", j)"
   ]
  },
  {
   "cell_type": "markdown",
   "metadata": {},
   "source": [
    "#### Note \n",
    "that this works for any string!"
   ]
  },
  {
   "cell_type": "code",
   "execution_count": 41,
   "metadata": {
    "tags": []
   },
   "outputs": [
    {
     "data": {
      "text/plain": [
       "'05-11-19_Analysis_4.csv'"
      ]
     },
     "execution_count": 41,
     "metadata": {},
     "output_type": "execute_result"
    }
   ],
   "source": [
    "experiment_counter = 4\n",
    "date = '05-11-19'\n",
    "\n",
    "'{}_Analysis_{}.csv'.format(date, experiment_counter)"
   ]
  },
  {
   "cell_type": "markdown",
   "metadata": {},
   "source": [
    "Since Python 3.6 you can also use *f-strings* like this"
   ]
  },
  {
   "cell_type": "code",
   "execution_count": 42,
   "metadata": {
    "tags": []
   },
   "outputs": [
    {
     "data": {
      "text/plain": [
       "'05-11-19_Analysis_4.csv'"
      ]
     },
     "execution_count": 42,
     "metadata": {},
     "output_type": "execute_result"
    }
   ],
   "source": [
    "f'{date}_Analysis_{experiment_counter}.csv'"
   ]
  },
  {
   "cell_type": "code",
   "execution_count": 43,
   "metadata": {
    "tags": []
   },
   "outputs": [
    {
     "name": "stdout",
     "output_type": "stream",
     "text": [
      "i = a and j = 6.\n",
      "i = a and j = 7.\n",
      "i = b and j = 6.\n",
      "i = b and j = 7.\n",
      "i = c and j = 6.\n",
      "i = c and j = 7.\n"
     ]
    }
   ],
   "source": [
    "for i in ['a','b','c']:\n",
    "    for j in range(6,8):\n",
    "        print(f\"i = {i} and j = {j}.\")"
   ]
  },
  {
   "cell_type": "markdown",
   "metadata": {},
   "source": [
    "***\n",
    "## Debugging _light_\n",
    "\n",
    "It is easy to incorporate some unintended behaviour into your \n",
    "program, espacially when using loops. There are _debugging_ libraries and software\n",
    "which goes through your code (line by line) and is capable of identifying\n",
    "problems with variable assignment, spelling mistakes, missed syntactical \n",
    "elements like brackets or colons etc. without the necessity to run your \n",
    "code every time completely from the beginning. \n",
    "\n",
    "For some mistakes, you can rely on the issued error messages. However, \n",
    "a very common and quick way to do debugging is to use the ```print```, ```type```\n",
    "and ```len``` functions. The underlying idea is to test whether, some\n",
    "of the intermediate steps have the right size or length, are of the correct\n",
    "type or directly have a look at a variable to identify possible problems."
   ]
  },
  {
   "cell_type": "code",
   "execution_count": 44,
   "metadata": {
    "tags": []
   },
   "outputs": [
    {
     "ename": "TypeError",
     "evalue": "'int' object is not subscriptable",
     "output_type": "error",
     "traceback": [
      "\u001b[0;31m---------------------------------------------------------------------------\u001b[0m",
      "\u001b[0;31mTypeError\u001b[0m                                 Traceback (most recent call last)",
      "Cell \u001b[0;32mIn[44], line 7\u001b[0m\n\u001b[1;32m      4\u001b[0m     calc_1 \u001b[38;5;241m=\u001b[39m \u001b[38;5;28mpow\u001b[39m(i,\u001b[38;5;241m2\u001b[39m)                \u001b[38;5;66;03m# calc_1 = i**2\u001b[39;00m\n\u001b[1;32m      5\u001b[0m     initial_list \u001b[38;5;241m=\u001b[39m calc_1\n\u001b[0;32m----> 7\u001b[0m new_variable \u001b[38;5;241m=\u001b[39m initial_list[\u001b[38;5;241m2\u001b[39m]\n\u001b[1;32m      9\u001b[0m other_variable \u001b[38;5;241m=\u001b[39m new_variable \u001b[38;5;241m+\u001b[39m \u001b[38;5;241m200\u001b[39m\n",
      "\u001b[0;31mTypeError\u001b[0m: 'int' object is not subscriptable"
     ]
    }
   ],
   "source": [
    "initial_list = []\n",
    "\n",
    "for i in range(8):\n",
    "    calc_1 = pow(i,2)                # calc_1 = i**2\n",
    "    initial_list = calc_1\n",
    "    \n",
    "new_variable = initial_list[2]\n",
    "\n",
    "other_variable = new_variable + 200"
   ]
  },
  {
   "cell_type": "code",
   "execution_count": 45,
   "metadata": {
    "tags": []
   },
   "outputs": [
    {
     "name": "stdout",
     "output_type": "stream",
     "text": [
      "<class 'int'>\n",
      "49\n"
     ]
    }
   ],
   "source": [
    "initial_list = []\n",
    "\n",
    "for i in range(8):\n",
    "    calc_1 = pow(i,2)\n",
    "    initial_list = calc_1\n",
    "    \n",
    "print(type(initial_list))\n",
    "\n",
    "print(initial_list)\n",
    "\n",
    "# Comment out the problematic line    \n",
    "# new_variable = initial_list[2]\n",
    "\n",
    "# other_variable = new_variable + 200"
   ]
  },
  {
   "cell_type": "markdown",
   "metadata": {},
   "source": [
    "Here goes the correction:"
   ]
  },
  {
   "cell_type": "code",
   "execution_count": 57,
   "metadata": {},
   "outputs": [],
   "source": [
    "initial_list = []\n",
    "\n",
    "for i in range(8):\n",
    "    calc_1 = pow(i,2)\n",
    "    initial_list.append(calc_1)\n",
    "    # initial_list = calc_1\n",
    "\n",
    "assert type(initial_list) == list, \"This is not a list!\"    \n",
    "    \n",
    "new_variable = initial_list[2]\n",
    "\n",
    "other_variable = new_variable + 200"
   ]
  },
  {
   "cell_type": "code",
   "execution_count": 58,
   "metadata": {
    "tags": []
   },
   "outputs": [
    {
     "name": "stdout",
     "output_type": "stream",
     "text": [
      "4 and 204\n"
     ]
    }
   ],
   "source": [
    "print(new_variable, \"and\" , other_variable)"
   ]
  },
  {
   "cell_type": "markdown",
   "metadata": {
    "tags": []
   },
   "source": [
    "#### However, \n",
    "this way of debugging can be very inefficient as you need to \n",
    "execute your code several times and need to know exactly what you want to \n",
    "print or test. A more sophisticated way is to use an interactive source \n",
    "code debugger like [pdb](https://docs.python.org/3/library/pdb.html), \n",
    "the built-in [breakpoint()](https://docs.python.org/3/library/functions.html#breakpoint)\n",
    "function (Python version >=3.7) or the function \n",
    "[embed()](http://ipython.org/ipython-doc/stable/api/generated/IPython.terminal.embed.html) \n",
    "to open an IPython shell within your script. \n",
    "\n",
    "***\n",
    "## Some caveats\n",
    "\n",
    "It is easy to implement a never-ending infinite loop. Infinite loops \n",
    "might occur if the termination criterion is never met, like\n",
    "\n",
    "```Python\n",
    "while True:\n",
    "    print(\"Oh no!\")\n",
    "```\n",
    "\n",
    "Consider the following example:"
   ]
  },
  {
   "cell_type": "code",
   "execution_count": 63,
   "metadata": {
    "tags": []
   },
   "outputs": [
    {
     "name": "stdout",
     "output_type": "stream",
     "text": [
      "2\n",
      "4\n",
      "8\n",
      "16\n",
      "32\n",
      "64\n",
      "128\n"
     ]
    }
   ],
   "source": [
    "counter = 1\n",
    "\n",
    "while counter != 5:\n",
    "    counter = counter*2\n",
    "    print(counter)\n",
    "    \n",
    "    # We include this to prevent the loop\n",
    "    # to run infinitely long:\n",
    "    if counter == 128:\n",
    "        break"
   ]
  },
  {
   "cell_type": "markdown",
   "metadata": {},
   "source": [
    "Another problem which is quickly implemented but overlooked\n",
    "is not using an iterable for loops:"
   ]
  },
  {
   "cell_type": "code",
   "execution_count": 64,
   "metadata": {
    "tags": []
   },
   "outputs": [
    {
     "ename": "TypeError",
     "evalue": "'int' object is not iterable",
     "output_type": "error",
     "traceback": [
      "\u001b[0;31m---------------------------------------------------------------------------\u001b[0m",
      "\u001b[0;31mTypeError\u001b[0m                                 Traceback (most recent call last)",
      "Cell \u001b[0;32mIn[64], line 3\u001b[0m\n\u001b[1;32m      1\u001b[0m colours \u001b[38;5;241m=\u001b[39m [\u001b[38;5;124m'\u001b[39m\u001b[38;5;124mgreen\u001b[39m\u001b[38;5;124m'\u001b[39m, \u001b[38;5;124m'\u001b[39m\u001b[38;5;124mred\u001b[39m\u001b[38;5;124m'\u001b[39m, \u001b[38;5;124m'\u001b[39m\u001b[38;5;124mblue\u001b[39m\u001b[38;5;124m'\u001b[39m, \u001b[38;5;124m'\u001b[39m\u001b[38;5;124myellow\u001b[39m\u001b[38;5;124m'\u001b[39m]\n\u001b[0;32m----> 3\u001b[0m \u001b[38;5;28;01mfor\u001b[39;00m count \u001b[38;5;129;01min\u001b[39;00m \u001b[38;5;28mlen\u001b[39m(colours):\n\u001b[1;32m      4\u001b[0m     \u001b[38;5;28mprint\u001b[39m(\u001b[38;5;124m\"\u001b[39m\u001b[38;5;124mFor \u001b[39m\u001b[38;5;132;01m{}\u001b[39;00m\u001b[38;5;124m use colour \u001b[39m\u001b[38;5;132;01m{}\u001b[39;00m\u001b[38;5;124m.\u001b[39m\u001b[38;5;124m\"\u001b[39m\u001b[38;5;241m.\u001b[39mformat(count\u001b[38;5;241m+\u001b[39m\u001b[38;5;241m1\u001b[39m, colours[count]))\n",
      "\u001b[0;31mTypeError\u001b[0m: 'int' object is not iterable"
     ]
    }
   ],
   "source": [
    "colours = ['green', 'red', 'blue', 'yellow']\n",
    "\n",
    "for count in len(colours):\n",
    "    print(\"For {} use colour {}.\".format(count+1, colours[count]))"
   ]
  },
  {
   "cell_type": "code",
   "execution_count": 65,
   "metadata": {
    "tags": []
   },
   "outputs": [
    {
     "name": "stdout",
     "output_type": "stream",
     "text": [
      "For 1 use colour green.\n",
      "For 2 use colour red.\n",
      "For 3 use colour blue.\n",
      "For 4 use colour yellow.\n"
     ]
    }
   ],
   "source": [
    "colours = ['green', 'red', 'blue', 'yellow']\n",
    "\n",
    "for count in range(len(colours)):\n",
    "    print(\"For {} use colour {}.\".format(count+1, colours[count]))"
   ]
  },
  {
   "cell_type": "markdown",
   "metadata": {},
   "source": [
    "***\n",
    "## Exercise section"
   ]
  },
  {
   "cell_type": "markdown",
   "metadata": {},
   "source": [
    "(1.) Write a loop over the elements of the list "
   ]
  },
  {
   "cell_type": "code",
   "execution_count": null,
   "metadata": {
    "tags": []
   },
   "outputs": [],
   "source": [
    "planets = ['Mercury', 'Venus', 'Earth', 'Mars', 'Jupiter', 'Saturn', 'Uranus', 'Neptune']"
   ]
  },
  {
   "cell_type": "markdown",
   "metadata": {},
   "source": [
    "which prints out only those elements whose first letter is either M or N.\n",
    "You can use either ```for``` or ```while```. However, which of the two makes\n",
    "more sense in this task? Put your solution in the following cell:"
   ]
  },
  {
   "cell_type": "code",
   "execution_count": null,
   "metadata": {},
   "outputs": [],
   "source": []
  },
  {
   "cell_type": "markdown",
   "metadata": {},
   "source": [
    "(2.) Identify / print for the following dictionary "
   ]
  },
  {
   "cell_type": "code",
   "execution_count": null,
   "metadata": {},
   "outputs": [],
   "source": [
    "country_codes = {'Switzerland': 41, 'France': 33, 'Italy': 39, 'UK': 44, 'Germany': 49}"
   ]
  },
  {
   "cell_type": "code",
   "execution_count": null,
   "metadata": {},
   "outputs": [],
   "source": []
  },
  {
   "cell_type": "markdown",
   "metadata": {},
   "source": [
    "which country has the country code 39 using a ```for``` loop. Put your solution in the following cell:"
   ]
  },
  {
   "cell_type": "markdown",
   "metadata": {},
   "source": [
    "(3.) Write a list comprehension in which the numbers from 1 to 4 are \n",
    "appended to the string ```'05-11-19_run-'``` such that the resulting \n",
    "list looks like\n",
    "\n",
    "```Python\n",
    "['05-11-19_run-1','05-11-19_run-2','05-11-19_run-3','05-11-19_run-4']\n",
    "```\n",
    "\n",
    "Use the ```format``` method for strings if possible! Put your solution in the following cell:"
   ]
  },
  {
   "cell_type": "code",
   "execution_count": null,
   "metadata": {},
   "outputs": [],
   "source": []
  },
  {
   "cell_type": "markdown",
   "metadata": {
    "tags": []
   },
   "source": [
    "***\n",
    "## Proposed Solutions\n",
    "\n",
    "(1.) Write a loop over the elements of the list "
   ]
  },
  {
   "cell_type": "code",
   "execution_count": 1,
   "metadata": {},
   "outputs": [],
   "source": [
    "planets = ['Mercury', 'Venus', 'Earth', 'Mars', 'Jupiter', 'Saturn', 'Uranus', 'Neptune']"
   ]
  },
  {
   "cell_type": "markdown",
   "metadata": {},
   "source": [
    "which prints out only those elements whose first letter is either M or N.\n",
    "You can use either ```for``` or ```while```. However, which of the two makes\n",
    "more sense in this task? Put your solution in the following cell:"
   ]
  },
  {
   "cell_type": "code",
   "execution_count": 2,
   "metadata": {},
   "outputs": [
    {
     "name": "stdout",
     "output_type": "stream",
     "text": [
      "Mercury\n",
      "Mars\n",
      "Neptune\n"
     ]
    }
   ],
   "source": [
    "for p in planets:\n",
    "    if p[0] == 'M' or p[0] == 'N':\n",
    "        print(p)"
   ]
  },
  {
   "cell_type": "markdown",
   "metadata": {},
   "source": [
    "Here, we make use that we can index strings, like this:"
   ]
  },
  {
   "cell_type": "code",
   "execution_count": 3,
   "metadata": {},
   "outputs": [
    {
     "name": "stdout",
     "output_type": "stream",
     "text": [
      "0 M\n",
      "1 e\n",
      "2 r\n",
      "3 c\n",
      "4 u\n",
      "5 r\n",
      "6 y\n"
     ]
    }
   ],
   "source": [
    "p = planets[0]\n",
    "for i in range(len(p)):\n",
    "    print(i,p[i])"
   ]
  },
  {
   "cell_type": "code",
   "execution_count": 4,
   "metadata": {},
   "outputs": [
    {
     "name": "stdout",
     "output_type": "stream",
     "text": [
      "Neptune\n",
      "Mars\n",
      "Mercury\n"
     ]
    }
   ],
   "source": [
    "while planets:\n",
    "    p = planets.pop()\n",
    "    \n",
    "    if p[0] == 'M' or p[0] == 'N':\n",
    "#     if p[0] in ['M','N']:\n",
    "        print(p)"
   ]
  },
  {
   "cell_type": "code",
   "execution_count": 6,
   "metadata": {},
   "outputs": [
    {
     "name": "stdout",
     "output_type": "stream",
     "text": [
      "[]\n"
     ]
    }
   ],
   "source": [
    "print(planets)"
   ]
  },
  {
   "cell_type": "markdown",
   "metadata": {},
   "source": [
    "(2.) Identify / print for the following dictionary "
   ]
  },
  {
   "cell_type": "code",
   "execution_count": 10,
   "metadata": {},
   "outputs": [],
   "source": [
    "country_codes = {'Switzerland': 41, 'France': 33, 'Italy': 39, 'UK': 44, 'Germany': 49}"
   ]
  },
  {
   "cell_type": "markdown",
   "metadata": {},
   "source": [
    "which country has the country code 39 using a ```for``` loop. Put your solution in the following cell:"
   ]
  },
  {
   "cell_type": "code",
   "execution_count": 8,
   "metadata": {},
   "outputs": [
    {
     "name": "stdout",
     "output_type": "stream",
     "text": [
      "Italy\n"
     ]
    }
   ],
   "source": [
    "for key,value in country_codes.items():\n",
    "    if value == 39:\n",
    "        print(key)"
   ]
  },
  {
   "cell_type": "markdown",
   "metadata": {},
   "source": [
    "(3.) Write a list comprehension in which the numbers from 1 to 4 are \n",
    "appended to the string ```'05-11-19_run-'``` such that the resulting \n",
    "list looks like\n",
    "\n",
    "```Python\n",
    "['05-11-19_run-1','05-11-19_run-2','05-11-19_run-3','05-11-19_run-4']\n",
    "```\n",
    "\n",
    "Use the ```format``` method for strings if possible! Put your solution in the following cell:"
   ]
  },
  {
   "cell_type": "code",
   "execution_count": 20,
   "metadata": {
    "tags": []
   },
   "outputs": [
    {
     "data": {
      "text/plain": [
       "['05-11-19_run-1', '05-11-19_run-2', '05-11-19_run-3', '05-11-19_run-4']"
      ]
     },
     "execution_count": 20,
     "metadata": {},
     "output_type": "execute_result"
    }
   ],
   "source": [
    "[ '05-11-19_run-{}'.format(num) for num in range(1,5) ]"
   ]
  }
 ],
 "metadata": {
  "kernelspec": {
   "display_name": "Python 3 (ipykernel)",
   "language": "python",
   "name": "python3"
  },
  "language_info": {
   "codemirror_mode": {
    "name": "ipython",
    "version": 3
   },
   "file_extension": ".py",
   "mimetype": "text/x-python",
   "name": "python",
   "nbconvert_exporter": "python",
   "pygments_lexer": "ipython3",
   "version": "3.11.5"
  }
 },
 "nbformat": 4,
 "nbformat_minor": 4
}
