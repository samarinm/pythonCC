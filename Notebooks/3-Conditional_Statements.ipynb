{
 "cells": [
  {
   "cell_type": "markdown",
   "metadata": {},
   "source": [
    "# 3. Conditional Statements\n",
    "\n",
    "In the third section we learn how\n",
    "\n",
    "* to use conditions to cover different cases,\n",
    "* to place comments in our code,\n",
    "* indentations structure blocks of grouped statements,\n",
    "* to work with error messages and\n",
    "* to avoid our code stopping when encountering an error with exceptions.\n",
    "\n",
    "Keywords: ```if```, ```else```, ```elif```, ```try```, ```except```, \n",
    "```assert```, ```# comment```, ```'''comment'''```\n",
    "\n",
    "***\n",
    "\n",
    "## ```if```-Statement\n",
    "\n",
    "Conditional statements start with the ```if``` keyword and a __condition__\n",
    "which needs to be fulfilled in order to execute the code in the __body__. \n",
    "Note that you have to set a colon ```:``` after the condition statement."
   ]
  },
  {
   "cell_type": "code",
   "execution_count": null,
   "metadata": {
    "tags": []
   },
   "outputs": [],
   "source": [
    "threshold_value = 0.3"
   ]
  },
  {
   "cell_type": "code",
   "execution_count": null,
   "metadata": {
    "tags": []
   },
   "outputs": [],
   "source": [
    "if threshold_value >= 0.5:\n",
    "    print(\"The threshold value exceeds 0.5!\")"
   ]
  },
  {
   "cell_type": "code",
   "execution_count": null,
   "metadata": {
    "tags": []
   },
   "outputs": [],
   "source": [
    "if threshold_value >= 0.5:\n",
    "    # This is a comment which has no effect on the \n",
    "    # code. You can use comments to explain what\n",
    "    # your code is doing. This is usually advisable \n",
    "    # whenever you write a script!\n",
    "    # In this case, threshold_value exceeds 0.5.\n",
    "    \n",
    "    print(\"The threshold_value exceeds 0.5!\")\n",
    "    \n",
    "else:\n",
    "    ''' This is comment which spans multiple lines \n",
    "    without the necessity of setting each time a # \n",
    "    in front. \n",
    "    In this case, threshold_value is less than 0.5.\n",
    "    '''\n",
    "    \n",
    "    print(\"Threshold was not met!\")\n",
    "        \n",
    "print(\"-> This comes afterwards!\")"
   ]
  },
  {
   "cell_type": "code",
   "execution_count": null,
   "metadata": {
    "tags": []
   },
   "outputs": [],
   "source": [
    "new_value = 0.6\n",
    "case = 'B'\n",
    "\n",
    "if new_value >= 0.5: \n",
    "    print(\"The threshold value exceeds 0.5!\")\n",
    "\n",
    "    if case == 'A':\n",
    "        print(\"We are in case A.\")\n",
    "    else:\n",
    "        print(\"We are in another case.\") \n",
    "else:\n",
    "    print(\"Threshold was not met!\")\n",
    "    \n",
    "    if case == 'B':\n",
    "        print(\"We are in case B.\")\n",
    "    else:\n",
    "        print(\"We are in another case.\")\n",
    "\n",
    "print(\"!\")"
   ]
  },
  {
   "cell_type": "markdown",
   "metadata": {},
   "source": [
    "#### Note \n",
    "that blocks of code which belong together are __indented in exactly the same way__. \n",
    "In Python, brackets like ```{ }``` are not required to group statements. Usually,\n",
    "indentation is a recommend way of making a code easier to read. Python makes this\n",
    "recommendation to some extent mandatory. Make sure to use the same indentation \n",
    "style throughout your code, either __4 spaces__ or __1 tab__ per level. Otherwise, running \n",
    "your code might lead to errors.\n",
    "\n",
    "In many other programming languages this is different. In R for example this might look \n",
    "something like this:\n",
    "\n",
    "```R\n",
    "if (threshold_value >= 0.5) {\n",
    "print(\"The threshold value exceeds 0.5!\")\n",
    "} else {\n",
    "print(\"Threshold was not met!\")\n",
    "}\n",
    "```"
   ]
  },
  {
   "cell_type": "code",
   "execution_count": null,
   "metadata": {
    "tags": []
   },
   "outputs": [],
   "source": [
    "name = 'Monty'\n",
    "name_starts_with = name[0]\n",
    "name_starts_with"
   ]
  },
  {
   "cell_type": "code",
   "execution_count": null,
   "metadata": {
    "tags": []
   },
   "outputs": [],
   "source": [
    "if name_starts_with in ['A','B','C','D','E','F']:\n",
    "    print(\"Go to room 1.\")\n",
    "    \n",
    "elif name_starts_with in ['G','H','I','J','K','L']:\n",
    "    print(\"Go to room 2.\")\n",
    "    \n",
    "elif name_starts_with in ['M','N','O','P','Q','R']:\n",
    "    print(\"Go to room 3.\")\n",
    "    \n",
    "else:\n",
    "    print(\"Go to room 4.\")"
   ]
  },
  {
   "cell_type": "code",
   "execution_count": null,
   "metadata": {
    "tags": []
   },
   "outputs": [],
   "source": [
    "str_variable = 'T'\n",
    "float_variable = 12.0\n",
    "my_list = [1,2,3]\n",
    "empty = None"
   ]
  },
  {
   "cell_type": "code",
   "execution_count": null,
   "metadata": {
    "tags": []
   },
   "outputs": [],
   "source": [
    "if str_variable:\n",
    "    print(\"This worked.\")"
   ]
  },
  {
   "cell_type": "code",
   "execution_count": null,
   "metadata": {
    "tags": []
   },
   "outputs": [],
   "source": [
    "bool(str_variable)"
   ]
  },
  {
   "cell_type": "code",
   "execution_count": null,
   "metadata": {
    "tags": []
   },
   "outputs": [],
   "source": [
    "if float_variable:\n",
    "    print(\"This worked, too.\")"
   ]
  },
  {
   "cell_type": "code",
   "execution_count": null,
   "metadata": {
    "tags": []
   },
   "outputs": [],
   "source": [
    "if my_list:\n",
    "    print(\"This worked, wow!\")"
   ]
  },
  {
   "cell_type": "code",
   "execution_count": null,
   "metadata": {
    "tags": []
   },
   "outputs": [],
   "source": [
    "another_int = 0\n",
    "if another_int:\n",
    "    print(\"?\")\n",
    "else:\n",
    "    print(\"!\")"
   ]
  },
  {
   "cell_type": "code",
   "execution_count": null,
   "metadata": {
    "tags": []
   },
   "outputs": [],
   "source": [
    "if empty:\n",
    "    print(\"Does this work?\")"
   ]
  },
  {
   "cell_type": "code",
   "execution_count": null,
   "metadata": {
    "tags": []
   },
   "outputs": [],
   "source": [
    "grade = 3.5\n",
    "\n",
    "passed = True if grade >= 4.0 else False\n",
    "\n",
    "print(\"Did you pass? Answer:\", passed)"
   ]
  },
  {
   "cell_type": "markdown",
   "metadata": {},
   "source": [
    "#### Note \n",
    "that \n",
    "\n",
    "```Python\n",
    "passed = True if grade >= 4.0 else False\n",
    "```\n",
    "\n",
    "is the one-line version of \n",
    "\n",
    "```Python\n",
    "if grade >= 4.0:\n",
    "    passed = True\n",
    "else:\n",
    "    passed = False\n",
    "```\n",
    "\n",
    "#### Note \n",
    "that this example is intended to illustrate the one-line if-else statement. \n",
    "The more direct way with the same result would be\n",
    "\n",
    "```Python\n",
    "passed = grade >= 4.0\n",
    "```\n",
    "\n",
    "***\n",
    "## Error messages and handling exceptions\n",
    "\n",
    "Sometimes your code doesn't run because an error occured. Often the error message\n",
    "tells you exactly what went wrong. In case, you don't really understand the error\n",
    "message, the standard way to identify the problem consists by searching for the last \n",
    "line of the error message online and see if anyone encountered the same problem \n",
    "earlier. :)\n",
    "\n",
    "A way of addressing problems which are known to occur is by using exceptions with \n",
    "the ```try``` and ```except``` keywords. In this way, your programm doesn't need \n",
    "to stop and can be further executed."
   ]
  },
  {
   "cell_type": "code",
   "execution_count": null,
   "metadata": {
    "tags": []
   },
   "outputs": [],
   "source": [
    "if we_didnt_define_this:\n",
    "    print(\"No.\")"
   ]
  },
  {
   "cell_type": "code",
   "execution_count": null,
   "metadata": {
    "tags": []
   },
   "outputs": [],
   "source": [
    "1 / 0"
   ]
  },
  {
   "cell_type": "code",
   "execution_count": null,
   "metadata": {
    "tags": []
   },
   "outputs": [],
   "source": [
    "pow(10.0,1000000000000000)"
   ]
  },
  {
   "cell_type": "code",
   "execution_count": null,
   "metadata": {
    "tags": []
   },
   "outputs": [],
   "source": [
    "\"string\" + 1"
   ]
  },
  {
   "cell_type": "markdown",
   "metadata": {},
   "source": [
    "#### Note\n",
    "that you can use the types of error like ```TypeError```, ```OverflowError```, ```ZeroDivisionError``` and ```NameError``` to define your own exceptions as in the following."
   ]
  },
  {
   "cell_type": "code",
   "execution_count": null,
   "metadata": {
    "tags": []
   },
   "outputs": [],
   "source": [
    "try:\n",
    "    print(1 / 0)\n",
    "    # print(\"string\" + 1)\n",
    "    \n",
    "except ZeroDivisionError:\n",
    "    print(\"Divison with 0\")"
   ]
  },
  {
   "cell_type": "code",
   "execution_count": null,
   "metadata": {
    "tags": []
   },
   "outputs": [],
   "source": [
    "try:\n",
    "    print(\"string\" + 1)\n",
    "    \n",
    "except TypeError:\n",
    "    print(\"string1\")"
   ]
  },
  {
   "cell_type": "code",
   "execution_count": null,
   "metadata": {
    "tags": []
   },
   "outputs": [],
   "source": [
    "try:\n",
    "    print(some_variable + 1)\n",
    "    \n",
    "except:\n",
    "    print(\"Define the variable first!\")"
   ]
  },
  {
   "cell_type": "code",
   "execution_count": null,
   "metadata": {
    "tags": []
   },
   "outputs": [],
   "source": [
    "positive_number = -1"
   ]
  },
  {
   "cell_type": "code",
   "execution_count": null,
   "metadata": {
    "tags": []
   },
   "outputs": [],
   "source": [
    "print(\"Is positive_number larger 0? ->\", positive_number > 0)"
   ]
  },
  {
   "cell_type": "code",
   "execution_count": null,
   "metadata": {
    "tags": []
   },
   "outputs": [],
   "source": [
    "assert positive_number > 0\n",
    "\n",
    "print(\"Let's continue with our code!\")"
   ]
  },
  {
   "cell_type": "markdown",
   "metadata": {},
   "source": [
    "#### Note\n",
    "with ```assert``` you can check whether a condition is fulfilled and \n",
    "only continue with your code if this is the case\n",
    "\n",
    "```Python\n",
    "assert condition, \"error statement to print if condition is not fulfilled\"\n",
    "```\n"
   ]
  },
  {
   "cell_type": "code",
   "execution_count": null,
   "metadata": {
    "tags": []
   },
   "outputs": [],
   "source": [
    "assert positive_number > 0, \"postive_number is actually negative or 0!\""
   ]
  },
  {
   "cell_type": "markdown",
   "metadata": {},
   "source": [
    "***\n",
    "## Some caveats"
   ]
  },
  {
   "cell_type": "markdown",
   "metadata": {},
   "source": [
    "It is easy to define conditions which show a behaviour other than\n",
    "expected. Consider the following examples where in both cases we \n",
    "would like to have the output ```Yes!```"
   ]
  },
  {
   "cell_type": "code",
   "execution_count": null,
   "metadata": {
    "tags": []
   },
   "outputs": [],
   "source": [
    "result = 1/3\n",
    "\n",
    "if result == 0.333333333333333:\n",
    "    print(\"Yes!\")\n",
    "else:\n",
    "    print(\"No!\")"
   ]
  },
  {
   "cell_type": "code",
   "execution_count": null,
   "metadata": {
    "tags": []
   },
   "outputs": [],
   "source": [
    "print(result)"
   ]
  },
  {
   "cell_type": "code",
   "execution_count": null,
   "metadata": {
    "tags": []
   },
   "outputs": [],
   "source": [
    "result = 0.1*3\n",
    "\n",
    "if result == 0.3:\n",
    "    print(\"Yes!\")\n",
    "else:\n",
    "    print(\"No!\")"
   ]
  },
  {
   "cell_type": "code",
   "execution_count": null,
   "metadata": {
    "tags": []
   },
   "outputs": [],
   "source": [
    "print(result)"
   ]
  },
  {
   "cell_type": "markdown",
   "metadata": {},
   "source": [
    "#### Recall\n",
    "the modulus operator"
   ]
  },
  {
   "cell_type": "code",
   "execution_count": null,
   "metadata": {
    "tags": []
   },
   "outputs": [],
   "source": [
    "20%2"
   ]
  },
  {
   "cell_type": "code",
   "execution_count": null,
   "metadata": {
    "tags": []
   },
   "outputs": [],
   "source": [
    "not 20%2"
   ]
  },
  {
   "cell_type": "code",
   "execution_count": null,
   "metadata": {
    "tags": []
   },
   "outputs": [],
   "source": [
    "not False"
   ]
  },
  {
   "cell_type": "code",
   "execution_count": null,
   "metadata": {
    "tags": []
   },
   "outputs": [],
   "source": [
    "0 == True"
   ]
  },
  {
   "cell_type": "code",
   "execution_count": null,
   "metadata": {
    "tags": []
   },
   "outputs": [],
   "source": [
    "a = 20"
   ]
  },
  {
   "cell_type": "code",
   "execution_count": null,
   "metadata": {
    "tags": []
   },
   "outputs": [],
   "source": [
    "if not a%2:\n",
    "    print(\"The variable can be divided by 2!\")\n",
    "elif not a%4:\n",
    "    print(\"The variable can also be divided by 4!\")\n",
    "else:\n",
    "    print(\"The variable cannot be divided by either 2 or 4!\")"
   ]
  },
  {
   "cell_type": "code",
   "execution_count": null,
   "metadata": {
    "tags": []
   },
   "outputs": [],
   "source": [
    "if not a%2:\n",
    "    print(\"The variable can be divided by 2!\")\n",
    "    \n",
    "if not a%4:\n",
    "    print(\"The variable can also be divided by 4!\")\n",
    "    \n",
    "if a%2 and a%4:\n",
    "    print(\"The variable cannot be divided by either 2 or 4!\")"
   ]
  },
  {
   "cell_type": "code",
   "execution_count": null,
   "metadata": {
    "tags": []
   },
   "outputs": [],
   "source": [
    "20 == True"
   ]
  },
  {
   "cell_type": "code",
   "execution_count": null,
   "metadata": {
    "tags": []
   },
   "outputs": [],
   "source": [
    "2 == 1"
   ]
  },
  {
   "cell_type": "code",
   "execution_count": null,
   "metadata": {
    "tags": []
   },
   "outputs": [],
   "source": [
    "bool(2) is True"
   ]
  },
  {
   "cell_type": "code",
   "execution_count": null,
   "metadata": {
    "tags": []
   },
   "outputs": [],
   "source": [
    "1 == True"
   ]
  },
  {
   "cell_type": "markdown",
   "metadata": {},
   "source": [
    "***\n",
    "## 3. Conditional Statements"
   ]
  },
  {
   "cell_type": "markdown",
   "metadata": {
    "tags": []
   },
   "source": [
    "(1.) What is the problem in the following conditional statement? \n",
    "Try to fix it in any way."
   ]
  },
  {
   "cell_type": "code",
   "execution_count": null,
   "metadata": {
    "tags": []
   },
   "outputs": [],
   "source": [
    "new_example = 'house'\n",
    "\n",
    "if new_example[0] >= 's':\n",
    "    # This is just a comment.\n",
    "else:\n",
    "    print(\"Word starts with a letter before s.\")"
   ]
  },
  {
   "cell_type": "markdown",
   "metadata": {
    "tags": []
   },
   "source": [
    "(2.) What is wrong in the next example? \n",
    "Try to fix it."
   ]
  },
  {
   "cell_type": "code",
   "execution_count": null,
   "metadata": {
    "tags": []
   },
   "outputs": [],
   "source": [
    "new_bool = True\n",
    "\n",
    "if new_bool == 1\n",
    " print(\"Correct\")\n",
    "else\n",
    " print(\"Wrong\")"
   ]
  }
 ],
 "metadata": {
  "kernelspec": {
   "display_name": "Python 3 (ipykernel)",
   "language": "python",
   "name": "python3"
  },
  "language_info": {
   "codemirror_mode": {
    "name": "ipython",
    "version": 3
   },
   "file_extension": ".py",
   "mimetype": "text/x-python",
   "name": "python",
   "nbconvert_exporter": "python",
   "pygments_lexer": "ipython3",
   "version": "3.11.5"
  }
 },
 "nbformat": 4,
 "nbformat_minor": 4
}
