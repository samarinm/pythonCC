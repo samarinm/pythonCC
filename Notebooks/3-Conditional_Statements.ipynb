{
 "cells": [
  {
   "cell_type": "markdown",
   "metadata": {},
   "source": [
    "# 3. Conditional Statements\n",
    "\n",
    "In the third section we learn how\n",
    "\n",
    "* to use conditions to cover different cases,\n",
    "* to place comments in our code,\n",
    "* indentations structure blocks of grouped statements,\n",
    "* to work with error messages and\n",
    "* to avoid our code stopping when encountering an error with exceptions.\n",
    "\n",
    "Keywords: ```if```, ```else```, ```elif```, ```try```, ```except```, \n",
    "```assert```, ```# comment```, ```'''comment'''```\n",
    "\n",
    "***\n",
    "\n",
    "## ```if```-Statement\n",
    "\n",
    "Conditional statements start with the ```if``` keyword and a __condition__\n",
    "which needs to be fulfilled in order to execute the code in the __body__. \n",
    "Note that you have to set a colon ```:``` after the condition statement."
   ]
  },
  {
   "cell_type": "code",
   "execution_count": 6,
   "metadata": {
    "tags": []
   },
   "outputs": [],
   "source": [
    "threshold_value = 0.3"
   ]
  },
  {
   "cell_type": "code",
   "execution_count": 4,
   "metadata": {
    "tags": []
   },
   "outputs": [
    {
     "name": "stdout",
     "output_type": "stream",
     "text": [
      "The threshold value exceeds 0.5!\n"
     ]
    }
   ],
   "source": [
    "if threshold_value >= 0.5:\n",
    "    print(\"The threshold value exceeds 0.5!\")"
   ]
  },
  {
   "cell_type": "code",
   "execution_count": 7,
   "metadata": {
    "tags": []
   },
   "outputs": [
    {
     "name": "stdout",
     "output_type": "stream",
     "text": [
      "Threshold was not met!\n",
      "-> This comes afterwards!\n"
     ]
    }
   ],
   "source": [
    "if threshold_value >= 0.5:\n",
    "    # This is a comment which has no effect on the \n",
    "    # code. You can use comments to explain what\n",
    "    # your code is doing. This is usually advisable \n",
    "    # whenever you write a script!\n",
    "    # In this case, threshold_value exceeds 0.5.\n",
    "    \n",
    "    print(\"The threshold_value exceeds 0.5!\")\n",
    "    \n",
    "else:\n",
    "    ''' This is comment which spans multiple lines \n",
    "    without the necessity of setting each time a # \n",
    "    in front. \n",
    "    In this case, threshold_value is less than 0.5.\n",
    "    '''\n",
    "    \n",
    "    print(\"Threshold was not met!\")\n",
    "        \n",
    "print(\"-> This comes afterwards!\")"
   ]
  },
  {
   "cell_type": "code",
   "execution_count": 9,
   "metadata": {
    "tags": []
   },
   "outputs": [
    {
     "name": "stdout",
     "output_type": "stream",
     "text": [
      "Threshold was not met!\n",
      "We are in case B.\n",
      "!\n"
     ]
    }
   ],
   "source": [
    "new_value = 0.3\n",
    "case = 'B'\n",
    "\n",
    "if new_value >= 0.5: \n",
    "    print(\"The threshold value exceeds 0.5!\")\n",
    "\n",
    "    if case == 'A':\n",
    "        print(\"We are in case A.\")\n",
    "    else:\n",
    "        print(\"We are in another case.\")\n",
    "else:\n",
    "    print(\"Threshold was not met!\")\n",
    "    \n",
    "    if case == 'B':\n",
    "        print(\"We are in case B.\")\n",
    "    else:\n",
    "        print(\"We are in another case.\")\n",
    "        \n",
    "print(\"!\")"
   ]
  },
  {
   "cell_type": "markdown",
   "metadata": {},
   "source": [
    "#### Note \n",
    "that blocks of code which belong together are __indented in exactly the same way__. \n",
    "In Python, brackets like ```{ }``` are not required to group statements. Usually,\n",
    "indentation is a recommend way of making a code easier to read. Python makes this\n",
    "recommendation to some extent mandatory. Make sure to use the same indentation \n",
    "style throughout your code, either __4 spaces__ or __1 tab__ per level. Otherwise, running \n",
    "your code might lead to errors.\n",
    "\n",
    "In many other programming languages this is different. In R for example this might look \n",
    "something like this:\n",
    "\n",
    "```R\n",
    "if (threshold_value >= 0.5) {\n",
    "print(\"The threshold value exceeds 0.5!\")\n",
    "} else {\n",
    "print(\"Threshold was not met!\")\n",
    "}\n",
    "```"
   ]
  },
  {
   "cell_type": "code",
   "execution_count": 12,
   "metadata": {
    "tags": []
   },
   "outputs": [
    {
     "data": {
      "text/plain": [
       "'W'"
      ]
     },
     "execution_count": 12,
     "metadata": {},
     "output_type": "execute_result"
    }
   ],
   "source": [
    "name = 'Wonty'\n",
    "name_starts_with = name[0]\n",
    "name_starts_with"
   ]
  },
  {
   "cell_type": "code",
   "execution_count": 13,
   "metadata": {
    "tags": []
   },
   "outputs": [
    {
     "name": "stdout",
     "output_type": "stream",
     "text": [
      "Go to room 4.\n"
     ]
    }
   ],
   "source": [
    "if name_starts_with in ['A','B','C','D','E','F']:\n",
    "    print(\"Go to room 1.\")\n",
    "    \n",
    "elif name_starts_with in ['G','H','I','J','K','L']:\n",
    "    print(\"Go to room 2.\")\n",
    "    \n",
    "elif name_starts_with in ['M','N','O','P','Q','R']:\n",
    "    print(\"Go to room 3.\")\n",
    "    \n",
    "else:\n",
    "    print(\"Go to room 4.\")"
   ]
  },
  {
   "cell_type": "code",
   "execution_count": 14,
   "metadata": {
    "tags": []
   },
   "outputs": [],
   "source": [
    "str_variable = 'T'\n",
    "float_variable = 12.0\n",
    "my_list = [1,2,3]\n",
    "empty = None"
   ]
  },
  {
   "cell_type": "code",
   "execution_count": 15,
   "metadata": {
    "tags": []
   },
   "outputs": [
    {
     "name": "stdout",
     "output_type": "stream",
     "text": [
      "This worked.\n"
     ]
    }
   ],
   "source": [
    "if str_variable:\n",
    "    print(\"This worked.\")"
   ]
  },
  {
   "cell_type": "code",
   "execution_count": 19,
   "metadata": {
    "tags": []
   },
   "outputs": [
    {
     "data": {
      "text/plain": [
       "True"
      ]
     },
     "execution_count": 19,
     "metadata": {},
     "output_type": "execute_result"
    }
   ],
   "source": [
    "bool(str_variable)"
   ]
  },
  {
   "cell_type": "code",
   "execution_count": 20,
   "metadata": {
    "tags": []
   },
   "outputs": [
    {
     "name": "stdout",
     "output_type": "stream",
     "text": [
      "This worked, too.\n"
     ]
    }
   ],
   "source": [
    "if float_variable:\n",
    "    print(\"This worked, too.\")"
   ]
  },
  {
   "cell_type": "code",
   "execution_count": 21,
   "metadata": {
    "tags": []
   },
   "outputs": [
    {
     "name": "stdout",
     "output_type": "stream",
     "text": [
      "This worked, wow!\n"
     ]
    }
   ],
   "source": [
    "if my_list:\n",
    "    print(\"This worked, wow!\")"
   ]
  },
  {
   "cell_type": "code",
   "execution_count": 26,
   "metadata": {
    "tags": []
   },
   "outputs": [
    {
     "name": "stdout",
     "output_type": "stream",
     "text": [
      "False\n",
      "!\n"
     ]
    }
   ],
   "source": [
    "another_int = 0\n",
    "\n",
    "print(bool(another_int))\n",
    "\n",
    "if another_int:\n",
    "    print(\"?\")\n",
    "else:\n",
    "    print(\"!\")"
   ]
  },
  {
   "cell_type": "code",
   "execution_count": 23,
   "metadata": {
    "tags": []
   },
   "outputs": [],
   "source": [
    "if empty:\n",
    "    print(\"Does this work?\")"
   ]
  },
  {
   "cell_type": "code",
   "execution_count": 27,
   "metadata": {
    "tags": []
   },
   "outputs": [
    {
     "name": "stdout",
     "output_type": "stream",
     "text": [
      "Did you pass? Answer: False\n"
     ]
    }
   ],
   "source": [
    "grade = 3.5\n",
    "\n",
    "passed = True if grade >= 4.0 else False\n",
    "\n",
    "print(\"Did you pass? Answer:\", passed)"
   ]
  },
  {
   "cell_type": "markdown",
   "metadata": {},
   "source": [
    "#### Note \n",
    "that \n",
    "\n",
    "```Python\n",
    "passed = True if grade >= 4.0 else False\n",
    "```\n",
    "\n",
    "is the one-line version of \n",
    "\n",
    "```Python\n",
    "if grade >= 4.0:\n",
    "    passed = True\n",
    "else:\n",
    "    passed = False\n",
    "```\n",
    "\n",
    "#### Note \n",
    "that this example is intended to illustrate the one-line if-else statement. \n",
    "The more direct way with the same result would be\n",
    "\n",
    "```Python\n",
    "passed = grade >= 4.0\n",
    "```\n",
    "\n",
    "***\n",
    "## Error messages and handling exceptions\n",
    "\n",
    "Sometimes your code doesn't run because an error occured. Often the error message\n",
    "tells you exactly what went wrong. In case, you don't really understand the error\n",
    "message, the standard way to identify the problem consists by searching for the last \n",
    "line of the error message online and see if anyone encountered the same problem \n",
    "earlier. :)\n",
    "\n",
    "A way of addressing problems which are known to occur is by using exceptions with \n",
    "the ```try``` and ```except``` keywords. In this way, your programm doesn't need \n",
    "to stop and can be further executed."
   ]
  },
  {
   "cell_type": "code",
   "execution_count": 28,
   "metadata": {
    "tags": []
   },
   "outputs": [
    {
     "ename": "NameError",
     "evalue": "name 'we_didnt_define_this' is not defined",
     "output_type": "error",
     "traceback": [
      "\u001b[0;31m---------------------------------------------------------------------------\u001b[0m",
      "\u001b[0;31mNameError\u001b[0m                                 Traceback (most recent call last)",
      "Cell \u001b[0;32mIn[28], line 1\u001b[0m\n\u001b[0;32m----> 1\u001b[0m \u001b[38;5;28;01mif\u001b[39;00m we_didnt_define_this:\n\u001b[1;32m      2\u001b[0m     \u001b[38;5;28mprint\u001b[39m(\u001b[38;5;124m\"\u001b[39m\u001b[38;5;124mNo.\u001b[39m\u001b[38;5;124m\"\u001b[39m)\n",
      "\u001b[0;31mNameError\u001b[0m: name 'we_didnt_define_this' is not defined"
     ]
    }
   ],
   "source": [
    "if we_didnt_define_this:\n",
    "    print(\"No.\")"
   ]
  },
  {
   "cell_type": "code",
   "execution_count": 29,
   "metadata": {
    "tags": []
   },
   "outputs": [
    {
     "ename": "ZeroDivisionError",
     "evalue": "division by zero",
     "output_type": "error",
     "traceback": [
      "\u001b[0;31m---------------------------------------------------------------------------\u001b[0m",
      "\u001b[0;31mZeroDivisionError\u001b[0m                         Traceback (most recent call last)",
      "Cell \u001b[0;32mIn[29], line 1\u001b[0m\n\u001b[0;32m----> 1\u001b[0m \u001b[38;5;241m1\u001b[39m \u001b[38;5;241m/\u001b[39m \u001b[38;5;241m0\u001b[39m\n",
      "\u001b[0;31mZeroDivisionError\u001b[0m: division by zero"
     ]
    }
   ],
   "source": [
    "1 / 0"
   ]
  },
  {
   "cell_type": "code",
   "execution_count": 30,
   "metadata": {
    "tags": []
   },
   "outputs": [
    {
     "ename": "OverflowError",
     "evalue": "(34, 'Result too large')",
     "output_type": "error",
     "traceback": [
      "\u001b[0;31m---------------------------------------------------------------------------\u001b[0m",
      "\u001b[0;31mOverflowError\u001b[0m                             Traceback (most recent call last)",
      "Cell \u001b[0;32mIn[30], line 1\u001b[0m\n\u001b[0;32m----> 1\u001b[0m \u001b[38;5;28mpow\u001b[39m(\u001b[38;5;241m10.0\u001b[39m,\u001b[38;5;241m1000000000000000\u001b[39m)\n",
      "\u001b[0;31mOverflowError\u001b[0m: (34, 'Result too large')"
     ]
    }
   ],
   "source": [
    "pow(10.0,1000000000000000)"
   ]
  },
  {
   "cell_type": "code",
   "execution_count": 31,
   "metadata": {
    "tags": []
   },
   "outputs": [
    {
     "ename": "TypeError",
     "evalue": "can only concatenate str (not \"int\") to str",
     "output_type": "error",
     "traceback": [
      "\u001b[0;31m---------------------------------------------------------------------------\u001b[0m",
      "\u001b[0;31mTypeError\u001b[0m                                 Traceback (most recent call last)",
      "Cell \u001b[0;32mIn[31], line 1\u001b[0m\n\u001b[0;32m----> 1\u001b[0m \u001b[38;5;124m\"\u001b[39m\u001b[38;5;124mstring\u001b[39m\u001b[38;5;124m\"\u001b[39m \u001b[38;5;241m+\u001b[39m \u001b[38;5;241m1\u001b[39m\n",
      "\u001b[0;31mTypeError\u001b[0m: can only concatenate str (not \"int\") to str"
     ]
    }
   ],
   "source": [
    "\"string\" + 1"
   ]
  },
  {
   "cell_type": "markdown",
   "metadata": {},
   "source": [
    "#### Note\n",
    "that you can use the types of error like ```TypeError```, ```OverflowError```, ```ZeroDivisionError``` and ```NameError``` to define your own exceptions as in the following."
   ]
  },
  {
   "cell_type": "code",
   "execution_count": 32,
   "metadata": {
    "tags": []
   },
   "outputs": [
    {
     "name": "stdout",
     "output_type": "stream",
     "text": [
      "Divison with 0\n"
     ]
    }
   ],
   "source": [
    "try:\n",
    "    print(1 / 0)\n",
    "    # print(\"string\" + 1)\n",
    "    \n",
    "except ZeroDivisionError:\n",
    "    print(\"Divison with 0\")"
   ]
  },
  {
   "cell_type": "code",
   "execution_count": 33,
   "metadata": {
    "tags": []
   },
   "outputs": [
    {
     "name": "stdout",
     "output_type": "stream",
     "text": [
      "string1\n"
     ]
    }
   ],
   "source": [
    "try:\n",
    "    print(\"string\" + 1)\n",
    "    \n",
    "except TypeError:\n",
    "    print(\"string1\")"
   ]
  },
  {
   "cell_type": "code",
   "execution_count": 34,
   "metadata": {
    "tags": []
   },
   "outputs": [
    {
     "name": "stdout",
     "output_type": "stream",
     "text": [
      "Define the variable first!\n"
     ]
    }
   ],
   "source": [
    "try:\n",
    "    print(some_variable + 1)\n",
    "    \n",
    "except:\n",
    "    print(\"Define the variable first!\")"
   ]
  },
  {
   "cell_type": "code",
   "execution_count": 41,
   "metadata": {
    "tags": []
   },
   "outputs": [],
   "source": [
    "positive_number = -1"
   ]
  },
  {
   "cell_type": "code",
   "execution_count": 42,
   "metadata": {
    "tags": []
   },
   "outputs": [
    {
     "name": "stdout",
     "output_type": "stream",
     "text": [
      "Is positive_number larger 0? -> False\n"
     ]
    }
   ],
   "source": [
    "print(\"Is positive_number larger 0? ->\", positive_number > 0)"
   ]
  },
  {
   "cell_type": "code",
   "execution_count": 43,
   "metadata": {
    "tags": []
   },
   "outputs": [
    {
     "ename": "AssertionError",
     "evalue": "",
     "output_type": "error",
     "traceback": [
      "\u001b[0;31m---------------------------------------------------------------------------\u001b[0m",
      "\u001b[0;31mAssertionError\u001b[0m                            Traceback (most recent call last)",
      "Cell \u001b[0;32mIn[43], line 1\u001b[0m\n\u001b[0;32m----> 1\u001b[0m \u001b[38;5;28;01massert\u001b[39;00m positive_number \u001b[38;5;241m>\u001b[39m \u001b[38;5;241m0\u001b[39m\n\u001b[1;32m      3\u001b[0m \u001b[38;5;28mprint\u001b[39m(\u001b[38;5;124m\"\u001b[39m\u001b[38;5;124mLet\u001b[39m\u001b[38;5;124m'\u001b[39m\u001b[38;5;124ms continue with our code!\u001b[39m\u001b[38;5;124m\"\u001b[39m)\n",
      "\u001b[0;31mAssertionError\u001b[0m: "
     ]
    }
   ],
   "source": [
    "assert positive_number > 0\n",
    "\n",
    "print(\"Let's continue with our code!\")"
   ]
  },
  {
   "cell_type": "markdown",
   "metadata": {},
   "source": [
    "#### Note\n",
    "with ```assert``` you can check whether a condition is fulfilled and \n",
    "only continue with your code if this is the case\n",
    "\n",
    "```Python\n",
    "assert condition, \"error statement to print if condition is not fulfilled\"\n",
    "```\n"
   ]
  },
  {
   "cell_type": "code",
   "execution_count": 44,
   "metadata": {
    "tags": []
   },
   "outputs": [
    {
     "ename": "AssertionError",
     "evalue": "postive_number is actually negative or 0!",
     "output_type": "error",
     "traceback": [
      "\u001b[0;31m---------------------------------------------------------------------------\u001b[0m",
      "\u001b[0;31mAssertionError\u001b[0m                            Traceback (most recent call last)",
      "Cell \u001b[0;32mIn[44], line 1\u001b[0m\n\u001b[0;32m----> 1\u001b[0m \u001b[38;5;28;01massert\u001b[39;00m positive_number \u001b[38;5;241m>\u001b[39m \u001b[38;5;241m0\u001b[39m, \u001b[38;5;124m\"\u001b[39m\u001b[38;5;124mpostive_number is actually negative or 0!\u001b[39m\u001b[38;5;124m\"\u001b[39m\n",
      "\u001b[0;31mAssertionError\u001b[0m: postive_number is actually negative or 0!"
     ]
    }
   ],
   "source": [
    "assert positive_number > 0, \"postive_number is actually negative or 0!\""
   ]
  },
  {
   "cell_type": "markdown",
   "metadata": {},
   "source": [
    "***\n",
    "## Some caveats"
   ]
  },
  {
   "cell_type": "markdown",
   "metadata": {},
   "source": [
    "It is easy to define conditions which show a behaviour other than\n",
    "expected. Consider the following examples where in both cases we \n",
    "would like to have the output ```Yes!```"
   ]
  },
  {
   "cell_type": "code",
   "execution_count": 49,
   "metadata": {
    "tags": []
   },
   "outputs": [
    {
     "name": "stdout",
     "output_type": "stream",
     "text": [
      "No!\n"
     ]
    }
   ],
   "source": [
    "result = 1/3\n",
    "\n",
    "if result == 0.333333333333333:\n",
    "    print(\"Yes!\")\n",
    "else:\n",
    "    print(\"No!\")"
   ]
  },
  {
   "cell_type": "code",
   "execution_count": 46,
   "metadata": {
    "tags": []
   },
   "outputs": [
    {
     "name": "stdout",
     "output_type": "stream",
     "text": [
      "0.3333333333333333\n"
     ]
    }
   ],
   "source": [
    "print(result)"
   ]
  },
  {
   "cell_type": "code",
   "execution_count": 50,
   "metadata": {
    "tags": []
   },
   "outputs": [
    {
     "name": "stdout",
     "output_type": "stream",
     "text": [
      "No!\n"
     ]
    }
   ],
   "source": [
    "result = 0.1*3\n",
    "\n",
    "if result == 0.3:\n",
    "    print(\"Yes!\")\n",
    "else:\n",
    "    print(\"No!\")"
   ]
  },
  {
   "cell_type": "code",
   "execution_count": 51,
   "metadata": {
    "tags": []
   },
   "outputs": [
    {
     "name": "stdout",
     "output_type": "stream",
     "text": [
      "0.30000000000000004\n"
     ]
    }
   ],
   "source": [
    "print(result)"
   ]
  },
  {
   "cell_type": "markdown",
   "metadata": {},
   "source": [
    "#### Recall\n",
    "the modulus operator"
   ]
  },
  {
   "cell_type": "code",
   "execution_count": 52,
   "metadata": {
    "tags": []
   },
   "outputs": [
    {
     "data": {
      "text/plain": [
       "0"
      ]
     },
     "execution_count": 52,
     "metadata": {},
     "output_type": "execute_result"
    }
   ],
   "source": [
    "20%2"
   ]
  },
  {
   "cell_type": "code",
   "execution_count": 53,
   "metadata": {
    "tags": []
   },
   "outputs": [
    {
     "data": {
      "text/plain": [
       "True"
      ]
     },
     "execution_count": 53,
     "metadata": {},
     "output_type": "execute_result"
    }
   ],
   "source": [
    "not 20%2"
   ]
  },
  {
   "cell_type": "code",
   "execution_count": 54,
   "metadata": {
    "tags": []
   },
   "outputs": [
    {
     "data": {
      "text/plain": [
       "True"
      ]
     },
     "execution_count": 54,
     "metadata": {},
     "output_type": "execute_result"
    }
   ],
   "source": [
    "not False"
   ]
  },
  {
   "cell_type": "code",
   "execution_count": 55,
   "metadata": {
    "tags": []
   },
   "outputs": [
    {
     "data": {
      "text/plain": [
       "False"
      ]
     },
     "execution_count": 55,
     "metadata": {},
     "output_type": "execute_result"
    }
   ],
   "source": [
    "0 == True"
   ]
  },
  {
   "cell_type": "code",
   "execution_count": 56,
   "metadata": {
    "tags": []
   },
   "outputs": [],
   "source": [
    "a = 20"
   ]
  },
  {
   "cell_type": "code",
   "execution_count": 57,
   "metadata": {
    "tags": []
   },
   "outputs": [
    {
     "name": "stdout",
     "output_type": "stream",
     "text": [
      "The variable can be divided by 2!\n"
     ]
    }
   ],
   "source": [
    "if not a%2:\n",
    "    print(\"The variable can be divided by 2!\")\n",
    "elif not a%4:\n",
    "    print(\"The variable can also be divided by 4!\")\n",
    "else:\n",
    "    print(\"The variable cannot be divided by either 2 or 4!\")"
   ]
  },
  {
   "cell_type": "code",
   "execution_count": 58,
   "metadata": {
    "tags": []
   },
   "outputs": [
    {
     "name": "stdout",
     "output_type": "stream",
     "text": [
      "The variable can be divided by 2!\n",
      "The variable can also be divided by 4!\n"
     ]
    }
   ],
   "source": [
    "if not a%2:\n",
    "    print(\"The variable can be divided by 2!\")\n",
    "    \n",
    "if not a%4:\n",
    "    print(\"The variable can also be divided by 4!\")\n",
    "    \n",
    "if a%2 and a%4:\n",
    "    print(\"The variable cannot be divided by either 2 or 4!\")"
   ]
  },
  {
   "cell_type": "code",
   "execution_count": null,
   "metadata": {
    "tags": []
   },
   "outputs": [],
   "source": [
    "20 == True"
   ]
  },
  {
   "cell_type": "code",
   "execution_count": null,
   "metadata": {
    "tags": []
   },
   "outputs": [],
   "source": [
    "2 == 1"
   ]
  },
  {
   "cell_type": "code",
   "execution_count": null,
   "metadata": {
    "tags": []
   },
   "outputs": [],
   "source": [
    "bool(2) is True"
   ]
  },
  {
   "cell_type": "code",
   "execution_count": null,
   "metadata": {
    "tags": []
   },
   "outputs": [],
   "source": [
    "1 == True"
   ]
  },
  {
   "cell_type": "markdown",
   "metadata": {},
   "source": [
    "***\n",
    "## Exercise section"
   ]
  },
  {
   "cell_type": "markdown",
   "metadata": {
    "tags": []
   },
   "source": [
    "(1.) What is the problem in the following conditional statement? \n",
    "Try to fix it in any way."
   ]
  },
  {
   "cell_type": "code",
   "execution_count": 77,
   "metadata": {
    "tags": []
   },
   "outputs": [
    {
     "name": "stdout",
     "output_type": "stream",
     "text": [
      "Word starts with a letter before s.\n"
     ]
    }
   ],
   "source": [
    "new_example = 'house'\n",
    "\n",
    "if new_example[0] >= 's':\n",
    "    # This is just a comment.\n",
    "else:\n",
    "    print(\"Word starts with a letter before s.\")"
   ]
  },
  {
   "cell_type": "markdown",
   "metadata": {
    "tags": []
   },
   "source": [
    "(2.) What is wrong in the next example? \n",
    "Try to fix it."
   ]
  },
  {
   "cell_type": "code",
   "execution_count": 72,
   "metadata": {
    "tags": []
   },
   "outputs": [
    {
     "ename": "SyntaxError",
     "evalue": "expected ':' (3644243137.py, line 3)",
     "output_type": "error",
     "traceback": [
      "\u001b[0;36m  Cell \u001b[0;32mIn[72], line 3\u001b[0;36m\u001b[0m\n\u001b[0;31m    if new_bool == 1\u001b[0m\n\u001b[0m                    ^\u001b[0m\n\u001b[0;31mSyntaxError\u001b[0m\u001b[0;31m:\u001b[0m expected ':'\n"
     ]
    }
   ],
   "source": [
    "new_bool = True\n",
    "\n",
    "if new_bool == 1\n",
    " print(\"Correct\")\n",
    "else\n",
    " print(\"Wrong\")"
   ]
  },
  {
   "cell_type": "markdown",
   "metadata": {
    "tags": []
   },
   "source": [
    "***\n",
    "## Proposed Solutions\n",
    "\n",
    "(1.) What is the problem in the following conditional statement? \n",
    "Try to fix it in any way."
   ]
  },
  {
   "cell_type": "code",
   "execution_count": null,
   "metadata": {},
   "outputs": [],
   "source": [
    "new_example = 'house'\n",
    "\n",
    "if new_example[0] >= 's':\n",
    "    # This is just a comment.\n",
    "    print(\"Word starts with a letter after r\")\n",
    "else:\n",
    "    print(\"Word starts with a letter before s.\")"
   ]
  },
  {
   "cell_type": "markdown",
   "metadata": {},
   "source": [
    "(2.) What is wrong in the next example? \n",
    "Try to fix it."
   ]
  },
  {
   "cell_type": "code",
   "execution_count": null,
   "metadata": {
    "tags": []
   },
   "outputs": [],
   "source": [
    "new_bool = True\n",
    "\n",
    "if new_bool == 1:\n",
    "    print(\"Correct\")\n",
    "else:\n",
    "    print(\"Wrong\")"
   ]
  }
 ],
 "metadata": {
  "kernelspec": {
   "display_name": "Python 3 (ipykernel)",
   "language": "python",
   "name": "python3"
  },
  "language_info": {
   "codemirror_mode": {
    "name": "ipython",
    "version": 3
   },
   "file_extension": ".py",
   "mimetype": "text/x-python",
   "name": "python",
   "nbconvert_exporter": "python",
   "pygments_lexer": "ipython3",
   "version": "3.11.5"
  }
 },
 "nbformat": 4,
 "nbformat_minor": 4
}
